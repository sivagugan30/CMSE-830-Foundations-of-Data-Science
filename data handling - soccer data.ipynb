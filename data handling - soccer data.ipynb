{
 "cells": [
  {
   "cell_type": "code",
   "execution_count": 95,
   "id": "62e4fcdd-3ef2-415a-b135-52d97bfc79c4",
   "metadata": {},
   "outputs": [],
   "source": [
    "import numpy as np\n",
    "import pandas as pd\n",
    "import matplotlib.pyplot as plt\n",
    "import seaborn as sns\n",
    "import warnings\n",
    "\n",
    "pd.set_option('display.max_columns', None)\n",
    "warnings.filterwarnings('ignore')"
   ]
  },
  {
   "cell_type": "markdown",
   "id": "e1300a70-9ac2-405c-b0d6-08714f484050",
   "metadata": {},
   "source": [
    "# Combine Data from two different sources"
   ]
  },
  {
   "cell_type": "code",
   "execution_count": 152,
   "id": "3fec9b28-d261-49dc-84bf-e8a9f4cbec62",
   "metadata": {},
   "outputs": [
    {
     "data": {
      "text/html": [
       "<div>\n",
       "<style scoped>\n",
       "    .dataframe tbody tr th:only-of-type {\n",
       "        vertical-align: middle;\n",
       "    }\n",
       "\n",
       "    .dataframe tbody tr th {\n",
       "        vertical-align: top;\n",
       "    }\n",
       "\n",
       "    .dataframe thead th {\n",
       "        text-align: right;\n",
       "    }\n",
       "</style>\n",
       "<table border=\"1\" class=\"dataframe\">\n",
       "  <thead>\n",
       "    <tr style=\"text-align: right;\">\n",
       "      <th></th>\n",
       "      <th>age</th>\n",
       "      <th>overall_rating</th>\n",
       "      <th>potential</th>\n",
       "      <th>value</th>\n",
       "      <th>wage</th>\n",
       "      <th>release_clause</th>\n",
       "      <th>total_attacking</th>\n",
       "      <th>crossing</th>\n",
       "      <th>finishing</th>\n",
       "      <th>heading_accuracy</th>\n",
       "      <th>short_passing</th>\n",
       "      <th>volleys</th>\n",
       "      <th>total_skill</th>\n",
       "      <th>dribbling</th>\n",
       "      <th>curve</th>\n",
       "      <th>fk_accuracy</th>\n",
       "      <th>long_passing</th>\n",
       "      <th>ball_control</th>\n",
       "      <th>total_movement</th>\n",
       "      <th>acceleration</th>\n",
       "      <th>sprint_speed</th>\n",
       "      <th>agility</th>\n",
       "      <th>reactions</th>\n",
       "      <th>balance</th>\n",
       "      <th>total_power</th>\n",
       "      <th>shot_power</th>\n",
       "      <th>jumping</th>\n",
       "      <th>stamina</th>\n",
       "      <th>strength</th>\n",
       "      <th>long_shots</th>\n",
       "      <th>total_mentality</th>\n",
       "      <th>aggression</th>\n",
       "      <th>interceptions</th>\n",
       "      <th>att._position</th>\n",
       "      <th>vision</th>\n",
       "      <th>penalties</th>\n",
       "      <th>composure</th>\n",
       "      <th>total_defending</th>\n",
       "      <th>defensive_awareness</th>\n",
       "      <th>standing_tackle</th>\n",
       "      <th>sliding_tackle</th>\n",
       "      <th>total_goalkeeping</th>\n",
       "      <th>gk_diving</th>\n",
       "      <th>gk_handling</th>\n",
       "      <th>gk_kicking</th>\n",
       "      <th>gk_positioning</th>\n",
       "      <th>gk_reflexes</th>\n",
       "      <th>total_stats</th>\n",
       "      <th>base_stats</th>\n",
       "      <th>international_reputation</th>\n",
       "      <th>pace_diving</th>\n",
       "      <th>shooting_handling</th>\n",
       "      <th>passing</th>\n",
       "      <th>dribbling_reflexes</th>\n",
       "      <th>defending_pace</th>\n",
       "      <th>player_name</th>\n",
       "      <th>team</th>\n",
       "      <th>best_position</th>\n",
       "    </tr>\n",
       "  </thead>\n",
       "  <tbody>\n",
       "    <tr>\n",
       "      <th>0</th>\n",
       "      <td>32</td>\n",
       "      <td>91</td>\n",
       "      <td>91</td>\n",
       "      <td>103000000.0</td>\n",
       "      <td>350000.0</td>\n",
       "      <td>190600000.0</td>\n",
       "      <td>41</td>\n",
       "      <td>95</td>\n",
       "      <td>85</td>\n",
       "      <td>55</td>\n",
       "      <td>94</td>\n",
       "      <td>83</td>\n",
       "      <td>44</td>\n",
       "      <td>86</td>\n",
       "      <td>92</td>\n",
       "      <td>83</td>\n",
       "      <td>94</td>\n",
       "      <td>92</td>\n",
       "      <td>39</td>\n",
       "      <td>74</td>\n",
       "      <td>74</td>\n",
       "      <td>76</td>\n",
       "      <td>92</td>\n",
       "      <td>78</td>\n",
       "      <td>42</td>\n",
       "      <td>92</td>\n",
       "      <td>73</td>\n",
       "      <td>88</td>\n",
       "      <td>75</td>\n",
       "      <td>92</td>\n",
       "      <td>40</td>\n",
       "      <td>75</td>\n",
       "      <td>66</td>\n",
       "      <td>88</td>\n",
       "      <td>95</td>\n",
       "      <td>83</td>\n",
       "      <td>88</td>\n",
       "      <td>18</td>\n",
       "      <td>66</td>\n",
       "      <td>70</td>\n",
       "      <td>53</td>\n",
       "      <td>56</td>\n",
       "      <td>15</td>\n",
       "      <td>13</td>\n",
       "      <td>5</td>\n",
       "      <td>10</td>\n",
       "      <td>13</td>\n",
       "      <td>23</td>\n",
       "      <td>48</td>\n",
       "      <td>5</td>\n",
       "      <td>74</td>\n",
       "      <td>88</td>\n",
       "      <td>94</td>\n",
       "      <td>87</td>\n",
       "      <td>65</td>\n",
       "      <td>K. De Bruyne</td>\n",
       "      <td>Manchester City</td>\n",
       "      <td>CM</td>\n",
       "    </tr>\n",
       "    <tr>\n",
       "      <th>1</th>\n",
       "      <td>22</td>\n",
       "      <td>91</td>\n",
       "      <td>94</td>\n",
       "      <td>185000000.0</td>\n",
       "      <td>340000.0</td>\n",
       "      <td>356100000.0</td>\n",
       "      <td>39</td>\n",
       "      <td>47</td>\n",
       "      <td>96</td>\n",
       "      <td>83</td>\n",
       "      <td>77</td>\n",
       "      <td>90</td>\n",
       "      <td>36</td>\n",
       "      <td>79</td>\n",
       "      <td>77</td>\n",
       "      <td>62</td>\n",
       "      <td>63</td>\n",
       "      <td>82</td>\n",
       "      <td>42</td>\n",
       "      <td>82</td>\n",
       "      <td>94</td>\n",
       "      <td>78</td>\n",
       "      <td>94</td>\n",
       "      <td>72</td>\n",
       "      <td>44</td>\n",
       "      <td>94</td>\n",
       "      <td>93</td>\n",
       "      <td>76</td>\n",
       "      <td>93</td>\n",
       "      <td>86</td>\n",
       "      <td>38</td>\n",
       "      <td>87</td>\n",
       "      <td>43</td>\n",
       "      <td>96</td>\n",
       "      <td>74</td>\n",
       "      <td>86</td>\n",
       "      <td>87</td>\n",
       "      <td>11</td>\n",
       "      <td>38</td>\n",
       "      <td>47</td>\n",
       "      <td>29</td>\n",
       "      <td>52</td>\n",
       "      <td>7</td>\n",
       "      <td>14</td>\n",
       "      <td>13</td>\n",
       "      <td>11</td>\n",
       "      <td>7</td>\n",
       "      <td>21</td>\n",
       "      <td>46</td>\n",
       "      <td>5</td>\n",
       "      <td>89</td>\n",
       "      <td>93</td>\n",
       "      <td>68</td>\n",
       "      <td>81</td>\n",
       "      <td>45</td>\n",
       "      <td>E. Haaland</td>\n",
       "      <td>Manchester City</td>\n",
       "      <td>ST</td>\n",
       "    </tr>\n",
       "    <tr>\n",
       "      <th>2</th>\n",
       "      <td>24</td>\n",
       "      <td>91</td>\n",
       "      <td>94</td>\n",
       "      <td>181500000.0</td>\n",
       "      <td>230000.0</td>\n",
       "      <td>349400000.0</td>\n",
       "      <td>41</td>\n",
       "      <td>78</td>\n",
       "      <td>94</td>\n",
       "      <td>73</td>\n",
       "      <td>86</td>\n",
       "      <td>84</td>\n",
       "      <td>40</td>\n",
       "      <td>93</td>\n",
       "      <td>80</td>\n",
       "      <td>69</td>\n",
       "      <td>71</td>\n",
       "      <td>92</td>\n",
       "      <td>46</td>\n",
       "      <td>97</td>\n",
       "      <td>97</td>\n",
       "      <td>93</td>\n",
       "      <td>93</td>\n",
       "      <td>82</td>\n",
       "      <td>42</td>\n",
       "      <td>90</td>\n",
       "      <td>88</td>\n",
       "      <td>88</td>\n",
       "      <td>77</td>\n",
       "      <td>83</td>\n",
       "      <td>36</td>\n",
       "      <td>64</td>\n",
       "      <td>38</td>\n",
       "      <td>93</td>\n",
       "      <td>83</td>\n",
       "      <td>84</td>\n",
       "      <td>88</td>\n",
       "      <td>92</td>\n",
       "      <td>26</td>\n",
       "      <td>34</td>\n",
       "      <td>32</td>\n",
       "      <td>42</td>\n",
       "      <td>13</td>\n",
       "      <td>5</td>\n",
       "      <td>7</td>\n",
       "      <td>11</td>\n",
       "      <td>6</td>\n",
       "      <td>22</td>\n",
       "      <td>47</td>\n",
       "      <td>5</td>\n",
       "      <td>97</td>\n",
       "      <td>90</td>\n",
       "      <td>80</td>\n",
       "      <td>92</td>\n",
       "      <td>36</td>\n",
       "      <td>K. Mbappé</td>\n",
       "      <td>Paris Saint Germain</td>\n",
       "      <td>ST</td>\n",
       "    </tr>\n",
       "  </tbody>\n",
       "</table>\n",
       "</div>"
      ],
      "text/plain": [
       "   age  overall_rating  potential        value      wage  release_clause  \\\n",
       "0   32              91         91  103000000.0  350000.0     190600000.0   \n",
       "1   22              91         94  185000000.0  340000.0     356100000.0   \n",
       "2   24              91         94  181500000.0  230000.0     349400000.0   \n",
       "\n",
       "   total_attacking  crossing  finishing  heading_accuracy  short_passing  \\\n",
       "0               41        95         85                55             94   \n",
       "1               39        47         96                83             77   \n",
       "2               41        78         94                73             86   \n",
       "\n",
       "   volleys  total_skill  dribbling  curve  fk_accuracy  long_passing  \\\n",
       "0       83           44         86     92           83            94   \n",
       "1       90           36         79     77           62            63   \n",
       "2       84           40         93     80           69            71   \n",
       "\n",
       "   ball_control  total_movement  acceleration  sprint_speed  agility  \\\n",
       "0            92              39            74            74       76   \n",
       "1            82              42            82            94       78   \n",
       "2            92              46            97            97       93   \n",
       "\n",
       "   reactions  balance  total_power  shot_power  jumping  stamina  strength  \\\n",
       "0         92       78           42          92       73       88        75   \n",
       "1         94       72           44          94       93       76        93   \n",
       "2         93       82           42          90       88       88        77   \n",
       "\n",
       "   long_shots  total_mentality  aggression  interceptions att._position  \\\n",
       "0          92               40          75             66            88   \n",
       "1          86               38          87             43            96   \n",
       "2          83               36          64             38            93   \n",
       "\n",
       "   vision  penalties  composure  total_defending  defensive_awareness  \\\n",
       "0      95         83         88               18                   66   \n",
       "1      74         86         87               11                   38   \n",
       "2      83         84         88               92                   26   \n",
       "\n",
       "   standing_tackle  sliding_tackle  total_goalkeeping  gk_diving  gk_handling  \\\n",
       "0               70              53                 56         15           13   \n",
       "1               47              29                 52          7           14   \n",
       "2               34              32                 42         13            5   \n",
       "\n",
       "   gk_kicking  gk_positioning  gk_reflexes  total_stats  base_stats  \\\n",
       "0           5              10           13           23          48   \n",
       "1          13              11            7           21          46   \n",
       "2           7              11            6           22          47   \n",
       "\n",
       "   international_reputation  pace_diving  shooting_handling  passing  \\\n",
       "0                         5           74                 88       94   \n",
       "1                         5           89                 93       68   \n",
       "2                         5           97                 90       80   \n",
       "\n",
       "   dribbling_reflexes  defending_pace   player_name                 team  \\\n",
       "0                  87              65  K. De Bruyne      Manchester City   \n",
       "1                  81              45    E. Haaland      Manchester City   \n",
       "2                  92              36     K. Mbappé  Paris Saint Germain   \n",
       "\n",
       "  best_position  \n",
       "0            CM  \n",
       "1            ST  \n",
       "2            ST  "
      ]
     },
     "execution_count": 152,
     "metadata": {},
     "output_type": "execute_result"
    }
   ],
   "source": [
    "#df = pd.read_csv('/Users/sivaguganjayachandran/Documents/python programming/soccer/cleaned_df.csv')\n",
    "#df = df.drop('Unnamed: 0', axis=1)\n",
    "\n",
    "import pandas as pd\n",
    "\n",
    "# Specify the path where the CSV files are saved\n",
    "path = '/Users/sivaguganjayachandran/Documents/python programming/soccer/dfs/'\n",
    "\n",
    "#read df 1\n",
    "stats_df = pd.read_csv(f'{path}stats_df.csv')\n",
    "stats_df.head(3)"
   ]
  },
  {
   "cell_type": "code",
   "execution_count": 151,
   "id": "2ecbf7fa-6348-46be-b73b-67b45bd26b45",
   "metadata": {},
   "outputs": [
    {
     "data": {
      "text/html": [
       "<div>\n",
       "<style scoped>\n",
       "    .dataframe tbody tr th:only-of-type {\n",
       "        vertical-align: middle;\n",
       "    }\n",
       "\n",
       "    .dataframe tbody tr th {\n",
       "        vertical-align: top;\n",
       "    }\n",
       "\n",
       "    .dataframe thead th {\n",
       "        text-align: right;\n",
       "    }\n",
       "</style>\n",
       "<table border=\"1\" class=\"dataframe\">\n",
       "  <thead>\n",
       "    <tr style=\"text-align: right;\">\n",
       "      <th></th>\n",
       "      <th>height</th>\n",
       "      <th>weight</th>\n",
       "      <th>foot</th>\n",
       "      <th>best_overall</th>\n",
       "      <th>growth</th>\n",
       "      <th>player_name</th>\n",
       "      <th>position</th>\n",
       "      <th>no_of_playable_positions</th>\n",
       "      <th>team</th>\n",
       "      <th>contract_start</th>\n",
       "      <th>contract_end</th>\n",
       "      <th>core_position</th>\n",
       "      <th>age_brackets</th>\n",
       "      <th>best_position</th>\n",
       "    </tr>\n",
       "  </thead>\n",
       "  <tbody>\n",
       "    <tr>\n",
       "      <th>0</th>\n",
       "      <td>181</td>\n",
       "      <td>75</td>\n",
       "      <td>Right</td>\n",
       "      <td>91</td>\n",
       "      <td>0</td>\n",
       "      <td>K. De Bruyne</td>\n",
       "      <td>CM, CAM</td>\n",
       "      <td>2</td>\n",
       "      <td>Manchester City</td>\n",
       "      <td>2015</td>\n",
       "      <td>2025</td>\n",
       "      <td>Midfielder</td>\n",
       "      <td>30-39</td>\n",
       "      <td>CM</td>\n",
       "    </tr>\n",
       "    <tr>\n",
       "      <th>1</th>\n",
       "      <td>195</td>\n",
       "      <td>94</td>\n",
       "      <td>Left</td>\n",
       "      <td>93</td>\n",
       "      <td>3</td>\n",
       "      <td>E. Haaland</td>\n",
       "      <td>ST</td>\n",
       "      <td>1</td>\n",
       "      <td>Manchester City</td>\n",
       "      <td>2022</td>\n",
       "      <td>2027</td>\n",
       "      <td>Forward</td>\n",
       "      <td>20-29</td>\n",
       "      <td>ST</td>\n",
       "    </tr>\n",
       "    <tr>\n",
       "      <th>2</th>\n",
       "      <td>182</td>\n",
       "      <td>75</td>\n",
       "      <td>Right</td>\n",
       "      <td>93</td>\n",
       "      <td>3</td>\n",
       "      <td>K. Mbappé</td>\n",
       "      <td>ST, LW</td>\n",
       "      <td>2</td>\n",
       "      <td>Paris Saint Germain</td>\n",
       "      <td>2018</td>\n",
       "      <td>2024</td>\n",
       "      <td>Forward</td>\n",
       "      <td>20-29</td>\n",
       "      <td>ST</td>\n",
       "    </tr>\n",
       "  </tbody>\n",
       "</table>\n",
       "</div>"
      ],
      "text/plain": [
       "   height  weight   foot  best_overall  growth   player_name position  \\\n",
       "0     181      75  Right            91       0  K. De Bruyne  CM, CAM   \n",
       "1     195      94   Left            93       3    E. Haaland       ST   \n",
       "2     182      75  Right            93       3     K. Mbappé   ST, LW   \n",
       "\n",
       "   no_of_playable_positions                 team  contract_start  \\\n",
       "0                         2      Manchester City            2015   \n",
       "1                         1      Manchester City            2022   \n",
       "2                         2  Paris Saint Germain            2018   \n",
       "\n",
       "   contract_end core_position age_brackets best_position  \n",
       "0          2025    Midfielder        30-39            CM  \n",
       "1          2027       Forward        20-29            ST  \n",
       "2          2024       Forward        20-29            ST  "
      ]
     },
     "execution_count": 151,
     "metadata": {},
     "output_type": "execute_result"
    }
   ],
   "source": [
    "#read df2 \n",
    "personal_df = pd.read_csv(f'{path}personal_df.csv')\n",
    "personal_df.head(3)"
   ]
  },
  {
   "cell_type": "code",
   "execution_count": 153,
   "id": "984a69b8-4a25-44ab-8429-e63057502d1e",
   "metadata": {},
   "outputs": [
    {
     "data": {
      "text/html": [
       "<div>\n",
       "<style scoped>\n",
       "    .dataframe tbody tr th:only-of-type {\n",
       "        vertical-align: middle;\n",
       "    }\n",
       "\n",
       "    .dataframe tbody tr th {\n",
       "        vertical-align: top;\n",
       "    }\n",
       "\n",
       "    .dataframe thead th {\n",
       "        text-align: right;\n",
       "    }\n",
       "</style>\n",
       "<table border=\"1\" class=\"dataframe\">\n",
       "  <thead>\n",
       "    <tr style=\"text-align: right;\">\n",
       "      <th></th>\n",
       "      <th>height</th>\n",
       "      <th>weight</th>\n",
       "      <th>foot</th>\n",
       "      <th>best_overall</th>\n",
       "      <th>growth</th>\n",
       "      <th>player_name</th>\n",
       "      <th>position</th>\n",
       "      <th>no_of_playable_positions</th>\n",
       "      <th>team</th>\n",
       "      <th>contract_start</th>\n",
       "      <th>contract_end</th>\n",
       "      <th>core_position</th>\n",
       "      <th>age_brackets</th>\n",
       "      <th>best_position</th>\n",
       "      <th>age</th>\n",
       "      <th>overall_rating</th>\n",
       "      <th>potential</th>\n",
       "      <th>value</th>\n",
       "      <th>wage</th>\n",
       "      <th>release_clause</th>\n",
       "      <th>total_attacking</th>\n",
       "      <th>crossing</th>\n",
       "      <th>finishing</th>\n",
       "      <th>heading_accuracy</th>\n",
       "      <th>short_passing</th>\n",
       "      <th>volleys</th>\n",
       "      <th>total_skill</th>\n",
       "      <th>dribbling</th>\n",
       "      <th>curve</th>\n",
       "      <th>fk_accuracy</th>\n",
       "      <th>long_passing</th>\n",
       "      <th>ball_control</th>\n",
       "      <th>total_movement</th>\n",
       "      <th>acceleration</th>\n",
       "      <th>sprint_speed</th>\n",
       "      <th>agility</th>\n",
       "      <th>reactions</th>\n",
       "      <th>balance</th>\n",
       "      <th>total_power</th>\n",
       "      <th>shot_power</th>\n",
       "      <th>jumping</th>\n",
       "      <th>stamina</th>\n",
       "      <th>strength</th>\n",
       "      <th>long_shots</th>\n",
       "      <th>total_mentality</th>\n",
       "      <th>aggression</th>\n",
       "      <th>interceptions</th>\n",
       "      <th>att._position</th>\n",
       "      <th>vision</th>\n",
       "      <th>penalties</th>\n",
       "      <th>composure</th>\n",
       "      <th>total_defending</th>\n",
       "      <th>defensive_awareness</th>\n",
       "      <th>standing_tackle</th>\n",
       "      <th>sliding_tackle</th>\n",
       "      <th>total_goalkeeping</th>\n",
       "      <th>gk_diving</th>\n",
       "      <th>gk_handling</th>\n",
       "      <th>gk_kicking</th>\n",
       "      <th>gk_positioning</th>\n",
       "      <th>gk_reflexes</th>\n",
       "      <th>total_stats</th>\n",
       "      <th>base_stats</th>\n",
       "      <th>international_reputation</th>\n",
       "      <th>pace_diving</th>\n",
       "      <th>shooting_handling</th>\n",
       "      <th>passing</th>\n",
       "      <th>dribbling_reflexes</th>\n",
       "      <th>defending_pace</th>\n",
       "    </tr>\n",
       "  </thead>\n",
       "  <tbody>\n",
       "    <tr>\n",
       "      <th>0</th>\n",
       "      <td>181</td>\n",
       "      <td>75</td>\n",
       "      <td>Right</td>\n",
       "      <td>91</td>\n",
       "      <td>0</td>\n",
       "      <td>K. De Bruyne</td>\n",
       "      <td>CM, CAM</td>\n",
       "      <td>2</td>\n",
       "      <td>Manchester City</td>\n",
       "      <td>2015</td>\n",
       "      <td>2025</td>\n",
       "      <td>Midfielder</td>\n",
       "      <td>30-39</td>\n",
       "      <td>CM</td>\n",
       "      <td>32</td>\n",
       "      <td>91</td>\n",
       "      <td>91</td>\n",
       "      <td>103000000.0</td>\n",
       "      <td>350000.0</td>\n",
       "      <td>190600000.0</td>\n",
       "      <td>41</td>\n",
       "      <td>95</td>\n",
       "      <td>85</td>\n",
       "      <td>55</td>\n",
       "      <td>94</td>\n",
       "      <td>83</td>\n",
       "      <td>44</td>\n",
       "      <td>86</td>\n",
       "      <td>92</td>\n",
       "      <td>83</td>\n",
       "      <td>94</td>\n",
       "      <td>92</td>\n",
       "      <td>39</td>\n",
       "      <td>74</td>\n",
       "      <td>74</td>\n",
       "      <td>76</td>\n",
       "      <td>92</td>\n",
       "      <td>78</td>\n",
       "      <td>42</td>\n",
       "      <td>92</td>\n",
       "      <td>73</td>\n",
       "      <td>88</td>\n",
       "      <td>75</td>\n",
       "      <td>92</td>\n",
       "      <td>40</td>\n",
       "      <td>75</td>\n",
       "      <td>66</td>\n",
       "      <td>88</td>\n",
       "      <td>95</td>\n",
       "      <td>83</td>\n",
       "      <td>88</td>\n",
       "      <td>18</td>\n",
       "      <td>66</td>\n",
       "      <td>70</td>\n",
       "      <td>53</td>\n",
       "      <td>56</td>\n",
       "      <td>15</td>\n",
       "      <td>13</td>\n",
       "      <td>5</td>\n",
       "      <td>10</td>\n",
       "      <td>13</td>\n",
       "      <td>23</td>\n",
       "      <td>48</td>\n",
       "      <td>5</td>\n",
       "      <td>74</td>\n",
       "      <td>88</td>\n",
       "      <td>94</td>\n",
       "      <td>87</td>\n",
       "      <td>65</td>\n",
       "    </tr>\n",
       "    <tr>\n",
       "      <th>1</th>\n",
       "      <td>195</td>\n",
       "      <td>94</td>\n",
       "      <td>Left</td>\n",
       "      <td>93</td>\n",
       "      <td>3</td>\n",
       "      <td>E. Haaland</td>\n",
       "      <td>ST</td>\n",
       "      <td>1</td>\n",
       "      <td>Manchester City</td>\n",
       "      <td>2022</td>\n",
       "      <td>2027</td>\n",
       "      <td>Forward</td>\n",
       "      <td>20-29</td>\n",
       "      <td>ST</td>\n",
       "      <td>22</td>\n",
       "      <td>91</td>\n",
       "      <td>94</td>\n",
       "      <td>185000000.0</td>\n",
       "      <td>340000.0</td>\n",
       "      <td>356100000.0</td>\n",
       "      <td>39</td>\n",
       "      <td>47</td>\n",
       "      <td>96</td>\n",
       "      <td>83</td>\n",
       "      <td>77</td>\n",
       "      <td>90</td>\n",
       "      <td>36</td>\n",
       "      <td>79</td>\n",
       "      <td>77</td>\n",
       "      <td>62</td>\n",
       "      <td>63</td>\n",
       "      <td>82</td>\n",
       "      <td>42</td>\n",
       "      <td>82</td>\n",
       "      <td>94</td>\n",
       "      <td>78</td>\n",
       "      <td>94</td>\n",
       "      <td>72</td>\n",
       "      <td>44</td>\n",
       "      <td>94</td>\n",
       "      <td>93</td>\n",
       "      <td>76</td>\n",
       "      <td>93</td>\n",
       "      <td>86</td>\n",
       "      <td>38</td>\n",
       "      <td>87</td>\n",
       "      <td>43</td>\n",
       "      <td>96</td>\n",
       "      <td>74</td>\n",
       "      <td>86</td>\n",
       "      <td>87</td>\n",
       "      <td>11</td>\n",
       "      <td>38</td>\n",
       "      <td>47</td>\n",
       "      <td>29</td>\n",
       "      <td>52</td>\n",
       "      <td>7</td>\n",
       "      <td>14</td>\n",
       "      <td>13</td>\n",
       "      <td>11</td>\n",
       "      <td>7</td>\n",
       "      <td>21</td>\n",
       "      <td>46</td>\n",
       "      <td>5</td>\n",
       "      <td>89</td>\n",
       "      <td>93</td>\n",
       "      <td>68</td>\n",
       "      <td>81</td>\n",
       "      <td>45</td>\n",
       "    </tr>\n",
       "    <tr>\n",
       "      <th>2</th>\n",
       "      <td>182</td>\n",
       "      <td>75</td>\n",
       "      <td>Right</td>\n",
       "      <td>93</td>\n",
       "      <td>3</td>\n",
       "      <td>K. Mbappé</td>\n",
       "      <td>ST, LW</td>\n",
       "      <td>2</td>\n",
       "      <td>Paris Saint Germain</td>\n",
       "      <td>2018</td>\n",
       "      <td>2024</td>\n",
       "      <td>Forward</td>\n",
       "      <td>20-29</td>\n",
       "      <td>ST</td>\n",
       "      <td>24</td>\n",
       "      <td>91</td>\n",
       "      <td>94</td>\n",
       "      <td>181500000.0</td>\n",
       "      <td>230000.0</td>\n",
       "      <td>349400000.0</td>\n",
       "      <td>41</td>\n",
       "      <td>78</td>\n",
       "      <td>94</td>\n",
       "      <td>73</td>\n",
       "      <td>86</td>\n",
       "      <td>84</td>\n",
       "      <td>40</td>\n",
       "      <td>93</td>\n",
       "      <td>80</td>\n",
       "      <td>69</td>\n",
       "      <td>71</td>\n",
       "      <td>92</td>\n",
       "      <td>46</td>\n",
       "      <td>97</td>\n",
       "      <td>97</td>\n",
       "      <td>93</td>\n",
       "      <td>93</td>\n",
       "      <td>82</td>\n",
       "      <td>42</td>\n",
       "      <td>90</td>\n",
       "      <td>88</td>\n",
       "      <td>88</td>\n",
       "      <td>77</td>\n",
       "      <td>83</td>\n",
       "      <td>36</td>\n",
       "      <td>64</td>\n",
       "      <td>38</td>\n",
       "      <td>93</td>\n",
       "      <td>83</td>\n",
       "      <td>84</td>\n",
       "      <td>88</td>\n",
       "      <td>92</td>\n",
       "      <td>26</td>\n",
       "      <td>34</td>\n",
       "      <td>32</td>\n",
       "      <td>42</td>\n",
       "      <td>13</td>\n",
       "      <td>5</td>\n",
       "      <td>7</td>\n",
       "      <td>11</td>\n",
       "      <td>6</td>\n",
       "      <td>22</td>\n",
       "      <td>47</td>\n",
       "      <td>5</td>\n",
       "      <td>97</td>\n",
       "      <td>90</td>\n",
       "      <td>80</td>\n",
       "      <td>92</td>\n",
       "      <td>36</td>\n",
       "    </tr>\n",
       "  </tbody>\n",
       "</table>\n",
       "</div>"
      ],
      "text/plain": [
       "   height  weight   foot  best_overall  growth   player_name position  \\\n",
       "0     181      75  Right            91       0  K. De Bruyne  CM, CAM   \n",
       "1     195      94   Left            93       3    E. Haaland       ST   \n",
       "2     182      75  Right            93       3     K. Mbappé   ST, LW   \n",
       "\n",
       "   no_of_playable_positions                 team  contract_start  \\\n",
       "0                         2      Manchester City            2015   \n",
       "1                         1      Manchester City            2022   \n",
       "2                         2  Paris Saint Germain            2018   \n",
       "\n",
       "   contract_end core_position age_brackets best_position  age  overall_rating  \\\n",
       "0          2025    Midfielder        30-39            CM   32              91   \n",
       "1          2027       Forward        20-29            ST   22              91   \n",
       "2          2024       Forward        20-29            ST   24              91   \n",
       "\n",
       "   potential        value      wage  release_clause  total_attacking  \\\n",
       "0         91  103000000.0  350000.0     190600000.0               41   \n",
       "1         94  185000000.0  340000.0     356100000.0               39   \n",
       "2         94  181500000.0  230000.0     349400000.0               41   \n",
       "\n",
       "   crossing  finishing  heading_accuracy  short_passing  volleys  total_skill  \\\n",
       "0        95         85                55             94       83           44   \n",
       "1        47         96                83             77       90           36   \n",
       "2        78         94                73             86       84           40   \n",
       "\n",
       "   dribbling  curve  fk_accuracy  long_passing  ball_control  total_movement  \\\n",
       "0         86     92           83            94            92              39   \n",
       "1         79     77           62            63            82              42   \n",
       "2         93     80           69            71            92              46   \n",
       "\n",
       "   acceleration  sprint_speed  agility  reactions  balance  total_power  \\\n",
       "0            74            74       76         92       78           42   \n",
       "1            82            94       78         94       72           44   \n",
       "2            97            97       93         93       82           42   \n",
       "\n",
       "   shot_power  jumping  stamina  strength  long_shots  total_mentality  \\\n",
       "0          92       73       88        75          92               40   \n",
       "1          94       93       76        93          86               38   \n",
       "2          90       88       88        77          83               36   \n",
       "\n",
       "   aggression  interceptions att._position  vision  penalties  composure  \\\n",
       "0          75             66            88      95         83         88   \n",
       "1          87             43            96      74         86         87   \n",
       "2          64             38            93      83         84         88   \n",
       "\n",
       "   total_defending  defensive_awareness  standing_tackle  sliding_tackle  \\\n",
       "0               18                   66               70              53   \n",
       "1               11                   38               47              29   \n",
       "2               92                   26               34              32   \n",
       "\n",
       "   total_goalkeeping  gk_diving  gk_handling  gk_kicking  gk_positioning  \\\n",
       "0                 56         15           13           5              10   \n",
       "1                 52          7           14          13              11   \n",
       "2                 42         13            5           7              11   \n",
       "\n",
       "   gk_reflexes  total_stats  base_stats  international_reputation  \\\n",
       "0           13           23          48                         5   \n",
       "1            7           21          46                         5   \n",
       "2            6           22          47                         5   \n",
       "\n",
       "   pace_diving  shooting_handling  passing  dribbling_reflexes  defending_pace  \n",
       "0           74                 88       94                  87              65  \n",
       "1           89                 93       68                  81              45  \n",
       "2           97                 90       80                  92              36  "
      ]
     },
     "execution_count": 153,
     "metadata": {},
     "output_type": "execute_result"
    }
   ],
   "source": [
    "# merged dataset fro two different soccer data sets \n",
    "\n",
    "df = pd.merge(personal_df, stats_df, on=['player_name', 'team', 'best_position'])\n",
    "df.head(3)"
   ]
  },
  {
   "cell_type": "code",
   "execution_count": 97,
   "id": "62457b05-83f6-4b20-b371-49c343e6c491",
   "metadata": {},
   "outputs": [
    {
     "data": {
      "text/plain": [
       "<Axes: >"
      ]
     },
     "execution_count": 97,
     "metadata": {},
     "output_type": "execute_result"
    },
    {
     "data": {
      "image/png": "[encoded data removed]",
      "text/plain": [
       "<Figure size 640x480 with 2 Axes>"
      ]
     },
     "metadata": {},
     "output_type": "display_data"
    }
   ],
   "source": [
    "sns.heatmap(df.isna())"
   ]
  },
  {
   "cell_type": "markdown",
   "id": "2c943fed-b379-4a7c-9d7a-18a1ee69a4b5",
   "metadata": {},
   "source": [
    "### missingness\n",
    "Since there are no missingness in the data, lets induce some MCAR missingness in the dataset df1"
   ]
  },
  {
   "cell_type": "code",
   "execution_count": 98,
   "id": "fb15ceb7-db77-43cb-a01d-8d9dd096d46f",
   "metadata": {},
   "outputs": [
    {
     "data": {
      "image/png": "[encoded data removed]",
      "text/plain": [
       "<Figure size 600x400 with 1 Axes>"
      ]
     },
     "metadata": {},
     "output_type": "display_data"
    }
   ],
   "source": [
    "# Create a copy of df\n",
    "df1 = df.copy()\n",
    "\n",
    "# Introduce missingness in the \"penalties\" column by randomly setting 20% of the values to NaN\n",
    "missing_percentage = 0.7  # 20% missingness\n",
    "num_missing = int(missing_percentage * len(df1))\n",
    "\n",
    "# Randomly choose indices to set as NaN\n",
    "missing_indices = np.random.choice(df1.index, num_missing, replace=False)\n",
    "df1.loc[missing_indices, 'penalties'] = np.nan\n",
    "\n",
    "plt.figure(figsize=(6,4))\n",
    "fig = sns.heatmap(df1[['penalties','foot','dribbling','balance']].isna(), cmap='viridis', cbar=False)\n",
    "\n",
    "# Set the title\n",
    "plt.title('Induced Missingness in the Penalties Column : MCAR ( missing completely at random) - as missingness is not dependant on other columns')\n",
    "\n",
    "# Show the plot\n",
    "plt.show()"
   ]
  },
  {
   "cell_type": "code",
   "execution_count": 99,
   "id": "c65e467a-a21d-4b93-9ff4-d6b06304c379",
   "metadata": {},
   "outputs": [
    {
     "data": {
      "application/vnd.plotly.v1+json": {
       "config": {
        "plotlyServerURL": "https://plot.ly"
       },
       "data": [
        {
         "alignmentgroup": "True",
         "hovertemplate": "Correlation Coefficient=%{x}<br>Feature=%{y}<extra></extra>",
         "legendgroup": "",
         "marker": {
          "color": "#636efa",
          "pattern": {
           "shape": ""
          }
         },
         "name": "",
         "offsetgroup": "",
         "orientation": "h",
         "showlegend": false,
         "textposition": "auto",
         "type": "bar",
         "x": [
          0.5954443689182672,
          0.8434343209360138,
          0.5764329378407813,
          0.852778368494563,
          0.7067707215957726,
          0.7356760677689217,
          0.7653894251241598,
          0.7077916747462615,
          0.6382074728391836,
          0.7019402443096,
          0.8081856800040703,
          0.5880992317732573,
          -0.5745729971129804,
          -0.5502218041829325,
          -0.5363674947713457,
          -0.551142923316139,
          -0.5508410055893491,
          0.5450875206387605
         ],
         "xaxis": "x",
         "y": [
          "crossing",
          "finishing",
          "short_passing",
          "volleys",
          "dribbling",
          "curve",
          "fk_accuracy",
          "ball_control",
          "total_power",
          "shot_power",
          "long_shots",
          "vision",
          "gk_diving",
          "gk_handling",
          "gk_kicking",
          "gk_positioning",
          "gk_reflexes",
          "shooting_handling"
         ],
         "yaxis": "y"
        }
       ],
       "layout": {
        "autosize": true,
        "barmode": "relative",
        "legend": {
         "tracegroupgap": 0
        },
        "template": {
         "data": {
          "bar": [
           {
            "error_x": {
             "color": "#2a3f5f"
            },
            "error_y": {
             "color": "#2a3f5f"
            },
            "marker": {
             "line": {
              "color": "#E5ECF6",
              "width": 0.5
             },
             "pattern": {
              "fillmode": "overlay",
              "size": 10,
              "solidity": 0.2
             }
            },
            "type": "bar"
           }
          ],
          "barpolar": [
           {
            "marker": {
             "line": {
              "color": "#E5ECF6",
              "width": 0.5
             },
             "pattern": {
              "fillmode": "overlay",
              "size": 10,
              "solidity": 0.2
             }
            },
            "type": "barpolar"
           }
          ],
          "carpet": [
           {
            "aaxis": {
             "endlinecolor": "#2a3f5f",
             "gridcolor": "white",
             "linecolor": "white",
             "minorgridcolor": "white",
             "startlinecolor": "#2a3f5f"
            },
            "baxis": {
             "endlinecolor": "#2a3f5f",
             "gridcolor": "white",
             "linecolor": "white",
             "minorgridcolor": "white",
             "startlinecolor": "#2a3f5f"
            },
            "type": "carpet"
           }
          ],
          "choropleth": [
           {
            "colorbar": {
             "outlinewidth": 0,
             "ticks": ""
            },
            "type": "choropleth"
           }
          ],
          "contour": [
           {
            "colorbar": {
             "outlinewidth": 0,
             "ticks": ""
            },
            "colorscale": [
             [
              0,
              "#0d0887"
             ],
             [
              0.1111111111111111,
              "#46039f"
             ],
             [
              0.2222222222222222,
              "#7201a8"
             ],
             [
              0.3333333333333333,
              "#9c179e"
             ],
             [
              0.4444444444444444,
              "#bd3786"
             ],
             [
              0.5555555555555556,
              "#d8576b"
             ],
             [
              0.6666666666666666,
              "#ed7953"
             ],
             [
              0.7777777777777778,
              "#fb9f3a"
             ],
             [
              0.8888888888888888,
              "#fdca26"
             ],
             [
              1,
              "#f0f921"
             ]
            ],
            "type": "contour"
           }
          ],
          "contourcarpet": [
           {
            "colorbar": {
             "outlinewidth": 0,
             "ticks": ""
            },
            "type": "contourcarpet"
           }
          ],
          "heatmap": [
           {
            "colorbar": {
             "outlinewidth": 0,
             "ticks": ""
            },
            "colorscale": [
             [
              0,
              "#0d0887"
             ],
             [
              0.1111111111111111,
              "#46039f"
             ],
             [
              0.2222222222222222,
              "#7201a8"
             ],
             [
              0.3333333333333333,
              "#9c179e"
             ],
             [
              0.4444444444444444,
              "#bd3786"
             ],
             [
              0.5555555555555556,
              "#d8576b"
             ],
             [
              0.6666666666666666,
              "#ed7953"
             ],
             [
              0.7777777777777778,
              "#fb9f3a"
             ],
             [
              0.8888888888888888,
              "#fdca26"
             ],
             [
              1,
              "#f0f921"
             ]
            ],
            "type": "heatmap"
           }
          ],
          "heatmapgl": [
           {
            "colorbar": {
             "outlinewidth": 0,
             "ticks": ""
            },
            "colorscale": [
             [
              0,
              "#0d0887"
             ],
             [
              0.1111111111111111,
              "#46039f"
             ],
             [
              0.2222222222222222,
              "#7201a8"
             ],
             [
              0.3333333333333333,
              "#9c179e"
             ],
             [
              0.4444444444444444,
              "#bd3786"
             ],
             [
              0.5555555555555556,
              "#d8576b"
             ],
             [
              0.6666666666666666,
              "#ed7953"
             ],
             [
              0.7777777777777778,
              "#fb9f3a"
             ],
             [
              0.8888888888888888,
              "#fdca26"
             ],
             [
              1,
              "#f0f921"
             ]
            ],
            "type": "heatmapgl"
           }
          ],
          "histogram": [
           {
            "marker": {
             "pattern": {
              "fillmode": "overlay",
              "size": 10,
              "solidity": 0.2
             }
            },
            "type": "histogram"
           }
          ],
          "histogram2d": [
           {
            "colorbar": {
             "outlinewidth": 0,
             "ticks": ""
            },
            "colorscale": [
             [
              0,
              "#0d0887"
             ],
             [
              0.1111111111111111,
              "#46039f"
             ],
             [
              0.2222222222222222,
              "#7201a8"
             ],
             [
              0.3333333333333333,
              "#9c179e"
             ],
             [
              0.4444444444444444,
              "#bd3786"
             ],
             [
              0.5555555555555556,
              "#d8576b"
             ],
             [
              0.6666666666666666,
              "#ed7953"
             ],
             [
              0.7777777777777778,
              "#fb9f3a"
             ],
             [
              0.8888888888888888,
              "#fdca26"
             ],
             [
              1,
              "#f0f921"
             ]
            ],
            "type": "histogram2d"
           }
          ],
          "histogram2dcontour": [
           {
            "colorbar": {
             "outlinewidth": 0,
             "ticks": ""
            },
            "colorscale": [
             [
              0,
              "#0d0887"
             ],
             [
              0.1111111111111111,
              "#46039f"
             ],
             [
              0.2222222222222222,
              "#7201a8"
             ],
             [
              0.3333333333333333,
              "#9c179e"
             ],
             [
              0.4444444444444444,
              "#bd3786"
             ],
             [
              0.5555555555555556,
              "#d8576b"
             ],
             [
              0.6666666666666666,
              "#ed7953"
             ],
             [
              0.7777777777777778,
              "#fb9f3a"
             ],
             [
              0.8888888888888888,
              "#fdca26"
             ],
             [
              1,
              "#f0f921"
             ]
            ],
            "type": "histogram2dcontour"
           }
          ],
          "mesh3d": [
           {
            "colorbar": {
             "outlinewidth": 0,
             "ticks": ""
            },
            "type": "mesh3d"
           }
          ],
          "parcoords": [
           {
            "line": {
             "colorbar": {
              "outlinewidth": 0,
              "ticks": ""
             }
            },
            "type": "parcoords"
           }
          ],
          "pie": [
           {
            "automargin": true,
            "type": "pie"
           }
          ],
          "scatter": [
           {
            "fillpattern": {
             "fillmode": "overlay",
             "size": 10,
             "solidity": 0.2
            },
            "type": "scatter"
           }
          ],
          "scatter3d": [
           {
            "line": {
             "colorbar": {
              "outlinewidth": 0,
              "ticks": ""
             }
            },
            "marker": {
             "colorbar": {
              "outlinewidth": 0,
              "ticks": ""
             }
            },
            "type": "scatter3d"
           }
          ],
          "scattercarpet": [
           {
            "marker": {
             "colorbar": {
              "outlinewidth": 0,
              "ticks": ""
             }
            },
            "type": "scattercarpet"
           }
          ],
          "scattergeo": [
           {
            "marker": {
             "colorbar": {
              "outlinewidth": 0,
              "ticks": ""
             }
            },
            "type": "scattergeo"
           }
          ],
          "scattergl": [
           {
            "marker": {
             "colorbar": {
              "outlinewidth": 0,
              "ticks": ""
             }
            },
            "type": "scattergl"
           }
          ],
          "scattermapbox": [
           {
            "marker": {
             "colorbar": {
              "outlinewidth": 0,
              "ticks": ""
             }
            },
            "type": "scattermapbox"
           }
          ],
          "scatterpolar": [
           {
            "marker": {
             "colorbar": {
              "outlinewidth": 0,
              "ticks": ""
             }
            },
            "type": "scatterpolar"
           }
          ],
          "scatterpolargl": [
           {
            "marker": {
             "colorbar": {
              "outlinewidth": 0,
              "ticks": ""
             }
            },
            "type": "scatterpolargl"
           }
          ],
          "scatterternary": [
           {
            "marker": {
             "colorbar": {
              "outlinewidth": 0,
              "ticks": ""
             }
            },
            "type": "scatterternary"
           }
          ],
          "surface": [
           {
            "colorbar": {
             "outlinewidth": 0,
             "ticks": ""
            },
            "colorscale": [
             [
              0,
              "#0d0887"
             ],
             [
              0.1111111111111111,
              "#46039f"
             ],
             [
              0.2222222222222222,
              "#7201a8"
             ],
             [
              0.3333333333333333,
              "#9c179e"
             ],
             [
              0.4444444444444444,
              "#bd3786"
             ],
             [
              0.5555555555555556,
              "#d8576b"
             ],
             [
              0.6666666666666666,
              "#ed7953"
             ],
             [
              0.7777777777777778,
              "#fb9f3a"
             ],
             [
              0.8888888888888888,
              "#fdca26"
             ],
             [
              1,
              "#f0f921"
             ]
            ],
            "type": "surface"
           }
          ],
          "table": [
           {
            "cells": {
             "fill": {
              "color": "#EBF0F8"
             },
             "line": {
              "color": "white"
             }
            },
            "header": {
             "fill": {
              "color": "#C8D4E3"
             },
             "line": {
              "color": "white"
             }
            },
            "type": "table"
           }
          ]
         },
         "layout": {
          "annotationdefaults": {
           "arrowcolor": "#2a3f5f",
           "arrowhead": 0,
           "arrowwidth": 1
          },
          "autotypenumbers": "strict",
          "coloraxis": {
           "colorbar": {
            "outlinewidth": 0,
            "ticks": ""
           }
          },
          "colorscale": {
           "diverging": [
            [
             0,
             "#8e0152"
            ],
            [
             0.1,
             "#c51b7d"
            ],
            [
             0.2,
             "#de77ae"
            ],
            [
             0.3,
             "#f1b6da"
            ],
            [
             0.4,
             "#fde0ef"
            ],
            [
             0.5,
             "#f7f7f7"
            ],
            [
             0.6,
             "#e6f5d0"
            ],
            [
             0.7,
             "#b8e186"
            ],
            [
             0.8,
             "#7fbc41"
            ],
            [
             0.9,
             "#4d9221"
            ],
            [
             1,
             "#276419"
            ]
           ],
           "sequential": [
            [
             0,
             "#0d0887"
            ],
            [
             0.1111111111111111,
             "#46039f"
            ],
            [
             0.2222222222222222,
             "#7201a8"
            ],
            [
             0.3333333333333333,
             "#9c179e"
            ],
            [
             0.4444444444444444,
             "#bd3786"
            ],
            [
             0.5555555555555556,
             "#d8576b"
            ],
            [
             0.6666666666666666,
             "#ed7953"
            ],
            [
             0.7777777777777778,
             "#fb9f3a"
            ],
            [
             0.8888888888888888,
             "#fdca26"
            ],
            [
             1,
             "#f0f921"
            ]
           ],
           "sequentialminus": [
            [
             0,
             "#0d0887"
            ],
            [
             0.1111111111111111,
             "#46039f"
            ],
            [
             0.2222222222222222,
             "#7201a8"
            ],
            [
             0.3333333333333333,
             "#9c179e"
            ],
            [
             0.4444444444444444,
             "#bd3786"
            ],
            [
             0.5555555555555556,
             "#d8576b"
            ],
            [
             0.6666666666666666,
             "#ed7953"
            ],
            [
             0.7777777777777778,
             "#fb9f3a"
            ],
            [
             0.8888888888888888,
             "#fdca26"
            ],
            [
             1,
             "#f0f921"
            ]
           ]
          },
          "colorway": [
           "#636efa",
           "#EF553B",
           "#00cc96",
           "#ab63fa",
           "#FFA15A",
           "#19d3f3",
           "#FF6692",
           "#B6E880",
           "#FF97FF",
           "#FECB52"
          ],
          "font": {
           "color": "#2a3f5f"
          },
          "geo": {
           "bgcolor": "white",
           "lakecolor": "white",
           "landcolor": "#E5ECF6",
           "showlakes": true,
           "showland": true,
           "subunitcolor": "white"
          },
          "hoverlabel": {
           "align": "left"
          },
          "hovermode": "closest",
          "mapbox": {
           "style": "light"
          },
          "paper_bgcolor": "white",
          "plot_bgcolor": "#E5ECF6",
          "polar": {
           "angularaxis": {
            "gridcolor": "white",
            "linecolor": "white",
            "ticks": ""
           },
           "bgcolor": "#E5ECF6",
           "radialaxis": {
            "gridcolor": "white",
            "linecolor": "white",
            "ticks": ""
           }
          },
          "scene": {
           "xaxis": {
            "backgroundcolor": "#E5ECF6",
            "gridcolor": "white",
            "gridwidth": 2,
            "linecolor": "white",
            "showbackground": true,
            "ticks": "",
            "zerolinecolor": "white"
           },
           "yaxis": {
            "backgroundcolor": "#E5ECF6",
            "gridcolor": "white",
            "gridwidth": 2,
            "linecolor": "white",
            "showbackground": true,
            "ticks": "",
            "zerolinecolor": "white"
           },
           "zaxis": {
            "backgroundcolor": "#E5ECF6",
            "gridcolor": "white",
            "gridwidth": 2,
            "linecolor": "white",
            "showbackground": true,
            "ticks": "",
            "zerolinecolor": "white"
           }
          },
          "shapedefaults": {
           "line": {
            "color": "#2a3f5f"
           }
          },
          "ternary": {
           "aaxis": {
            "gridcolor": "white",
            "linecolor": "white",
            "ticks": ""
           },
           "baxis": {
            "gridcolor": "white",
            "linecolor": "white",
            "ticks": ""
           },
           "bgcolor": "#E5ECF6",
           "caxis": {
            "gridcolor": "white",
            "linecolor": "white",
            "ticks": ""
           }
          },
          "title": {
           "x": 0.05
          },
          "xaxis": {
           "automargin": true,
           "gridcolor": "white",
           "linecolor": "white",
           "ticks": "",
           "title": {
            "standoff": 15
           },
           "zerolinecolor": "white",
           "zerolinewidth": 2
          },
          "yaxis": {
           "automargin": true,
           "gridcolor": "white",
           "linecolor": "white",
           "ticks": "",
           "title": {
            "standoff": 15
           },
           "zerolinecolor": "white",
           "zerolinewidth": 2
          }
         }
        },
        "title": {
         "text": "Highly Correlated Features with Penalties"
        },
        "xaxis": {
         "anchor": "y",
         "autorange": true,
         "domain": [
          0,
          1
         ],
         "range": [
          -0.6538702952022883,
          0.932075666583871
         ],
         "title": {
          "text": "Correlation Coefficient"
         },
         "type": "linear"
        },
        "yaxis": {
         "anchor": "x",
         "autorange": true,
         "domain": [
          0,
          1
         ],
         "range": [
          -0.5,
          17.5
         ],
         "title": {
          "text": "Feature"
         },
         "type": "category"
        }
       }
      },
      "text/html": [
       "<div>                            <div id=\"ea7b5a21-38a5-410c-8cbc-9a90325ceb90\" class=\"plotly-graph-div\" style=\"height:525px; width:100%;\"></div>            <script type=\"text/javascript\">                require([\"plotly\"], function(Plotly) {                    window.PLOTLYENV=window.PLOTLYENV || {};                                    if (document.getElementById(\"ea7b5a21-38a5-410c-8cbc-9a90325ceb90\")) {                    Plotly.newPlot(                        \"ea7b5a21-38a5-410c-8cbc-9a90325ceb90\",                        [{\"alignmentgroup\":\"True\",\"hovertemplate\":\"Correlation Coefficient=%{x}\\u003cbr\\u003eFeature=%{y}\\u003cextra\\u003e\\u003c\\u002fextra\\u003e\",\"legendgroup\":\"\",\"marker\":{\"color\":\"#636efa\",\"pattern\":{\"shape\":\"\"}},\"name\":\"\",\"offsetgroup\":\"\",\"orientation\":\"h\",\"showlegend\":false,\"textposition\":\"auto\",\"x\":[0.5954443689182672,0.8434343209360138,0.5764329378407813,0.852778368494563,0.7067707215957726,0.7356760677689217,0.7653894251241598,0.7077916747462615,0.6382074728391836,0.7019402443096,0.8081856800040703,0.5880992317732573,-0.5745729971129804,-0.5502218041829325,-0.5363674947713457,-0.551142923316139,-0.5508410055893491,0.5450875206387605],\"xaxis\":\"x\",\"y\":[\"crossing\",\"finishing\",\"short_passing\",\"volleys\",\"dribbling\",\"curve\",\"fk_accuracy\",\"ball_control\",\"total_power\",\"shot_power\",\"long_shots\",\"vision\",\"gk_diving\",\"gk_handling\",\"gk_kicking\",\"gk_positioning\",\"gk_reflexes\",\"shooting_handling\"],\"yaxis\":\"y\",\"type\":\"bar\"}],                        {\"template\":{\"data\":{\"histogram2dcontour\":[{\"type\":\"histogram2dcontour\",\"colorbar\":{\"outlinewidth\":0,\"ticks\":\"\"},\"colorscale\":[[0.0,\"#0d0887\"],[0.1111111111111111,\"#46039f\"],[0.2222222222222222,\"#7201a8\"],[0.3333333333333333,\"#9c179e\"],[0.4444444444444444,\"#bd3786\"],[0.5555555555555556,\"#d8576b\"],[0.6666666666666666,\"#ed7953\"],[0.7777777777777778,\"#fb9f3a\"],[0.8888888888888888,\"#fdca26\"],[1.0,\"#f0f921\"]]}],\"choropleth\":[{\"type\":\"choropleth\",\"colorbar\":{\"outlinewidth\":0,\"ticks\":\"\"}}],\"histogram2d\":[{\"type\":\"histogram2d\",\"colorbar\":{\"outlinewidth\":0,\"ticks\":\"\"},\"colorscale\":[[0.0,\"#0d0887\"],[0.1111111111111111,\"#46039f\"],[0.2222222222222222,\"#7201a8\"],[0.3333333333333333,\"#9c179e\"],[0.4444444444444444,\"#bd3786\"],[0.5555555555555556,\"#d8576b\"],[0.6666666666666666,\"#ed7953\"],[0.7777777777777778,\"#fb9f3a\"],[0.8888888888888888,\"#fdca26\"],[1.0,\"#f0f921\"]]}],\"heatmap\":[{\"type\":\"heatmap\",\"colorbar\":{\"outlinewidth\":0,\"ticks\":\"\"},\"colorscale\":[[0.0,\"#0d0887\"],[0.1111111111111111,\"#46039f\"],[0.2222222222222222,\"#7201a8\"],[0.3333333333333333,\"#9c179e\"],[0.4444444444444444,\"#bd3786\"],[0.5555555555555556,\"#d8576b\"],[0.6666666666666666,\"#ed7953\"],[0.7777777777777778,\"#fb9f3a\"],[0.8888888888888888,\"#fdca26\"],[1.0,\"#f0f921\"]]}],\"heatmapgl\":[{\"type\":\"heatmapgl\",\"colorbar\":{\"outlinewidth\":0,\"ticks\":\"\"},\"colorscale\":[[0.0,\"#0d0887\"],[0.1111111111111111,\"#46039f\"],[0.2222222222222222,\"#7201a8\"],[0.3333333333333333,\"#9c179e\"],[0.4444444444444444,\"#bd3786\"],[0.5555555555555556,\"#d8576b\"],[0.6666666666666666,\"#ed7953\"],[0.7777777777777778,\"#fb9f3a\"],[0.8888888888888888,\"#fdca26\"],[1.0,\"#f0f921\"]]}],\"contourcarpet\":[{\"type\":\"contourcarpet\",\"colorbar\":{\"outlinewidth\":0,\"ticks\":\"\"}}],\"contour\":[{\"type\":\"contour\",\"colorbar\":{\"outlinewidth\":0,\"ticks\":\"\"},\"colorscale\":[[0.0,\"#0d0887\"],[0.1111111111111111,\"#46039f\"],[0.2222222222222222,\"#7201a8\"],[0.3333333333333333,\"#9c179e\"],[0.4444444444444444,\"#bd3786\"],[0.5555555555555556,\"#d8576b\"],[0.6666666666666666,\"#ed7953\"],[0.7777777777777778,\"#fb9f3a\"],[0.8888888888888888,\"#fdca26\"],[1.0,\"#f0f921\"]]}],\"surface\":[{\"type\":\"surface\",\"colorbar\":{\"outlinewidth\":0,\"ticks\":\"\"},\"colorscale\":[[0.0,\"#0d0887\"],[0.1111111111111111,\"#46039f\"],[0.2222222222222222,\"#7201a8\"],[0.3333333333333333,\"#9c179e\"],[0.4444444444444444,\"#bd3786\"],[0.5555555555555556,\"#d8576b\"],[0.6666666666666666,\"#ed7953\"],[0.7777777777777778,\"#fb9f3a\"],[0.8888888888888888,\"#fdca26\"],[1.0,\"#f0f921\"]]}],\"mesh3d\":[{\"type\":\"mesh3d\",\"colorbar\":{\"outlinewidth\":0,\"ticks\":\"\"}}],\"scatter\":[{\"fillpattern\":{\"fillmode\":\"overlay\",\"size\":10,\"solidity\":0.2},\"type\":\"scatter\"}],\"parcoords\":[{\"type\":\"parcoords\",\"line\":{\"colorbar\":{\"outlinewidth\":0,\"ticks\":\"\"}}}],\"scatterpolargl\":[{\"type\":\"scatterpolargl\",\"marker\":{\"colorbar\":{\"outlinewidth\":0,\"ticks\":\"\"}}}],\"bar\":[{\"error_x\":{\"color\":\"#2a3f5f\"},\"error_y\":{\"color\":\"#2a3f5f\"},\"marker\":{\"line\":{\"color\":\"#E5ECF6\",\"width\":0.5},\"pattern\":{\"fillmode\":\"overlay\",\"size\":10,\"solidity\":0.2}},\"type\":\"bar\"}],\"scattergeo\":[{\"type\":\"scattergeo\",\"marker\":{\"colorbar\":{\"outlinewidth\":0,\"ticks\":\"\"}}}],\"scatterpolar\":[{\"type\":\"scatterpolar\",\"marker\":{\"colorbar\":{\"outlinewidth\":0,\"ticks\":\"\"}}}],\"histogram\":[{\"marker\":{\"pattern\":{\"fillmode\":\"overlay\",\"size\":10,\"solidity\":0.2}},\"type\":\"histogram\"}],\"scattergl\":[{\"type\":\"scattergl\",\"marker\":{\"colorbar\":{\"outlinewidth\":0,\"ticks\":\"\"}}}],\"scatter3d\":[{\"type\":\"scatter3d\",\"line\":{\"colorbar\":{\"outlinewidth\":0,\"ticks\":\"\"}},\"marker\":{\"colorbar\":{\"outlinewidth\":0,\"ticks\":\"\"}}}],\"scattermapbox\":[{\"type\":\"scattermapbox\",\"marker\":{\"colorbar\":{\"outlinewidth\":0,\"ticks\":\"\"}}}],\"scatterternary\":[{\"type\":\"scatterternary\",\"marker\":{\"colorbar\":{\"outlinewidth\":0,\"ticks\":\"\"}}}],\"scattercarpet\":[{\"type\":\"scattercarpet\",\"marker\":{\"colorbar\":{\"outlinewidth\":0,\"ticks\":\"\"}}}],\"carpet\":[{\"aaxis\":{\"endlinecolor\":\"#2a3f5f\",\"gridcolor\":\"white\",\"linecolor\":\"white\",\"minorgridcolor\":\"white\",\"startlinecolor\":\"#2a3f5f\"},\"baxis\":{\"endlinecolor\":\"#2a3f5f\",\"gridcolor\":\"white\",\"linecolor\":\"white\",\"minorgridcolor\":\"white\",\"startlinecolor\":\"#2a3f5f\"},\"type\":\"carpet\"}],\"table\":[{\"cells\":{\"fill\":{\"color\":\"#EBF0F8\"},\"line\":{\"color\":\"white\"}},\"header\":{\"fill\":{\"color\":\"#C8D4E3\"},\"line\":{\"color\":\"white\"}},\"type\":\"table\"}],\"barpolar\":[{\"marker\":{\"line\":{\"color\":\"#E5ECF6\",\"width\":0.5},\"pattern\":{\"fillmode\":\"overlay\",\"size\":10,\"solidity\":0.2}},\"type\":\"barpolar\"}],\"pie\":[{\"automargin\":true,\"type\":\"pie\"}]},\"layout\":{\"autotypenumbers\":\"strict\",\"colorway\":[\"#636efa\",\"#EF553B\",\"#00cc96\",\"#ab63fa\",\"#FFA15A\",\"#19d3f3\",\"#FF6692\",\"#B6E880\",\"#FF97FF\",\"#FECB52\"],\"font\":{\"color\":\"#2a3f5f\"},\"hovermode\":\"closest\",\"hoverlabel\":{\"align\":\"left\"},\"paper_bgcolor\":\"white\",\"plot_bgcolor\":\"#E5ECF6\",\"polar\":{\"bgcolor\":\"#E5ECF6\",\"angularaxis\":{\"gridcolor\":\"white\",\"linecolor\":\"white\",\"ticks\":\"\"},\"radialaxis\":{\"gridcolor\":\"white\",\"linecolor\":\"white\",\"ticks\":\"\"}},\"ternary\":{\"bgcolor\":\"#E5ECF6\",\"aaxis\":{\"gridcolor\":\"white\",\"linecolor\":\"white\",\"ticks\":\"\"},\"baxis\":{\"gridcolor\":\"white\",\"linecolor\":\"white\",\"ticks\":\"\"},\"caxis\":{\"gridcolor\":\"white\",\"linecolor\":\"white\",\"ticks\":\"\"}},\"coloraxis\":{\"colorbar\":{\"outlinewidth\":0,\"ticks\":\"\"}},\"colorscale\":{\"sequential\":[[0.0,\"#0d0887\"],[0.1111111111111111,\"#46039f\"],[0.2222222222222222,\"#7201a8\"],[0.3333333333333333,\"#9c179e\"],[0.4444444444444444,\"#bd3786\"],[0.5555555555555556,\"#d8576b\"],[0.6666666666666666,\"#ed7953\"],[0.7777777777777778,\"#fb9f3a\"],[0.8888888888888888,\"#fdca26\"],[1.0,\"#f0f921\"]],\"sequentialminus\":[[0.0,\"#0d0887\"],[0.1111111111111111,\"#46039f\"],[0.2222222222222222,\"#7201a8\"],[0.3333333333333333,\"#9c179e\"],[0.4444444444444444,\"#bd3786\"],[0.5555555555555556,\"#d8576b\"],[0.6666666666666666,\"#ed7953\"],[0.7777777777777778,\"#fb9f3a\"],[0.8888888888888888,\"#fdca26\"],[1.0,\"#f0f921\"]],\"diverging\":[[0,\"#8e0152\"],[0.1,\"#c51b7d\"],[0.2,\"#de77ae\"],[0.3,\"#f1b6da\"],[0.4,\"#fde0ef\"],[0.5,\"#f7f7f7\"],[0.6,\"#e6f5d0\"],[0.7,\"#b8e186\"],[0.8,\"#7fbc41\"],[0.9,\"#4d9221\"],[1,\"#276419\"]]},\"xaxis\":{\"gridcolor\":\"white\",\"linecolor\":\"white\",\"ticks\":\"\",\"title\":{\"standoff\":15},\"zerolinecolor\":\"white\",\"automargin\":true,\"zerolinewidth\":2},\"yaxis\":{\"gridcolor\":\"white\",\"linecolor\":\"white\",\"ticks\":\"\",\"title\":{\"standoff\":15},\"zerolinecolor\":\"white\",\"automargin\":true,\"zerolinewidth\":2},\"scene\":{\"xaxis\":{\"backgroundcolor\":\"#E5ECF6\",\"gridcolor\":\"white\",\"linecolor\":\"white\",\"showbackground\":true,\"ticks\":\"\",\"zerolinecolor\":\"white\",\"gridwidth\":2},\"yaxis\":{\"backgroundcolor\":\"#E5ECF6\",\"gridcolor\":\"white\",\"linecolor\":\"white\",\"showbackground\":true,\"ticks\":\"\",\"zerolinecolor\":\"white\",\"gridwidth\":2},\"zaxis\":{\"backgroundcolor\":\"#E5ECF6\",\"gridcolor\":\"white\",\"linecolor\":\"white\",\"showbackground\":true,\"ticks\":\"\",\"zerolinecolor\":\"white\",\"gridwidth\":2}},\"shapedefaults\":{\"line\":{\"color\":\"#2a3f5f\"}},\"annotationdefaults\":{\"arrowcolor\":\"#2a3f5f\",\"arrowhead\":0,\"arrowwidth\":1},\"geo\":{\"bgcolor\":\"white\",\"landcolor\":\"#E5ECF6\",\"subunitcolor\":\"white\",\"showland\":true,\"showlakes\":true,\"lakecolor\":\"white\"},\"title\":{\"x\":0.05},\"mapbox\":{\"style\":\"light\"}}},\"xaxis\":{\"anchor\":\"y\",\"domain\":[0.0,1.0],\"title\":{\"text\":\"Correlation Coefficient\"}},\"yaxis\":{\"anchor\":\"x\",\"domain\":[0.0,1.0],\"title\":{\"text\":\"Feature\"}},\"legend\":{\"tracegroupgap\":0},\"title\":{\"text\":\"Highly Correlated Features with Penalties\"},\"barmode\":\"relative\"},                        {\"responsive\": true}                    ).then(function(){\n",
       "                            \n",
       "var gd = document.getElementById('ea7b5a21-38a5-410c-8cbc-9a90325ceb90');\n",
       "var x = new MutationObserver(function (mutations, observer) {{\n",
       "        var display = window.getComputedStyle(gd).display;\n",
       "        if (!display || display === 'none') {{\n",
       "            console.log([gd, 'removed!']);\n",
       "            Plotly.purge(gd);\n",
       "            observer.disconnect();\n",
       "        }}\n",
       "}});\n",
       "\n",
       "// Listen for the removal of the full notebook cells\n",
       "var notebookContainer = gd.closest('#notebook-container');\n",
       "if (notebookContainer) {{\n",
       "    x.observe(notebookContainer, {childList: true});\n",
       "}}\n",
       "\n",
       "// Listen for the clearing of the current output cell\n",
       "var outputEl = gd.closest('.output');\n",
       "if (outputEl) {{\n",
       "    x.observe(outputEl, {childList: true});\n",
       "}}\n",
       "\n",
       "                        })                };                });            </script>        </div>"
      ]
     },
     "metadata": {},
     "output_type": "display_data"
    }
   ],
   "source": [
    "import pandas as pd\n",
    "import plotly.express as px\n",
    "\n",
    "# Assuming df1 is your DataFrame and numeric_columns are defined\n",
    "# Calculate the correlation matrix\n",
    "correlation_matrix = df1[numeric_columns].corr()\n",
    "\n",
    "# Extract the correlation values for the 'penalties' column\n",
    "penalties_correlation = correlation_matrix['penalties']\n",
    "\n",
    "# Filter for highly correlated columns (absolute value greater than 0.5)\n",
    "highly_correlated_columns = penalties_correlation[penalties_correlation.abs() > 0.5]\n",
    "\n",
    "# Exclude 'penalties' itself from the result\n",
    "highly_correlated_columns = highly_correlated_columns[highly_correlated_columns.index != 'penalties']\n",
    "\n",
    "# Convert the Series to a DataFrame for easier plotting\n",
    "highly_correlated_df = highly_correlated_columns.reset_index()\n",
    "highly_correlated_df.columns = ['Feature', 'Correlation']\n",
    "\n",
    "# Create a horizontal bar chart using Plotly\n",
    "fig = px.bar(highly_correlated_df, \n",
    "             x='Correlation', \n",
    "             y='Feature', \n",
    "             title='Highly Correlated Features with Penalties',\n",
    "             labels={'Correlation': 'Correlation Coefficient'},\n",
    "             #color='Correlation',\n",
    "             #color_continuous_scale=px.colors.sequential.Viridis,\n",
    "             orientation='h')  # Set orientation to horizontal\n",
    "\n",
    "# Show the plot\n",
    "fig.show()\n"
   ]
  },
  {
   "cell_type": "markdown",
   "id": "67c9d8cc-d1e6-4b62-9c1b-052c02ce93fe",
   "metadata": {},
   "source": [
    "### Basis the corelation analysis, Finishing and volleys features are strongly correlated with penalties .Since finishing is more intutive, we consider this as a regressor for different types of Imputation "
   ]
  },
  {
   "cell_type": "markdown",
   "id": "62ca856b-fa92-41e5-881c-29f881ab9211",
   "metadata": {},
   "source": [
    "# Imputation using Linear Regression \n",
    "\n"
   ]
  },
  {
   "cell_type": "code",
   "execution_count": 114,
   "id": "3a58e43f-7f58-46d9-8bab-4b22535b35a3",
   "metadata": {},
   "outputs": [],
   "source": [
    "from sklearn.linear_model import LinearRegression\n",
    "from sklearn.model_selection import train_test_split\n",
    "\n",
    "# Step 1: Select numeric columns (excluding 'penalties')\n",
    "numeric_columns = ['penalties','finishing']\n",
    "numeric_columns.remove('penalties')\n",
    "\n",
    "# Step 2: Separate data where 'penalties' is missing and where it's not\n",
    "df_train = df1[df1['penalties'].notna()]  # Data where penalties is not missing\n",
    "df_missing = df1[df1['penalties'].isna()]  # Data where penalties is missing\n",
    "\n",
    "# Step 3: Separate features (X) and target (y) for the training data\n",
    "X_train = df_train[numeric_columns]\n",
    "y_train = df_train['penalties']\n",
    "\n",
    "# Step 4: Train the linear regression model\n",
    "lr_model = LinearRegression()\n",
    "lr_model.fit(X_train, y_train)\n",
    "\n",
    "# Step 5: Predict the missing penalties\n",
    "X_missing = df_missing[numeric_columns]\n",
    "penalties_pred = lr_model.predict(X_missing)\n",
    "\n",
    "\n",
    "# Step 6: Impute the missing penalties with the predicted values\n",
    "df1_linear = df1.copy()\n",
    "df1_linear.loc[df1_linear['penalties'].isna(), 'penalties'] = penalties_pred\n"
   ]
  },
  {
   "cell_type": "markdown",
   "id": "52c969b7-b793-4d21-b197-346cb6636a2d",
   "metadata": {},
   "source": [
    "# Imputation using Stochastic Regression \n",
    "\n"
   ]
  },
  {
   "cell_type": "code",
   "execution_count": 113,
   "id": "a8a3d46e-661d-4e5a-b7b7-9195cd6a3d97",
   "metadata": {},
   "outputs": [],
   "source": [
    "import numpy as np\n",
    "\n",
    "# Step 1: The linear regression model is already trained from the previous code.\n",
    "#         We'll calculate the residuals from that.\n",
    "\n",
    "# Step 2: Calculate residuals for the training data (where penalties is not missing)\n",
    "y_train_pred = lr_model.predict(X_train)\n",
    "residuals = y_train - y_train_pred\n",
    "\n",
    "# Step 3: Compute the mean and standard deviation of residuals\n",
    "mean_residual = residuals.mean()\n",
    "std_residual = residuals.std()\n",
    "\n",
    "# Step 4: Generate random noise for the missing data based on residuals' standard deviation\n",
    "random_noise = np.random.normal(mean_residual, std_residual, size=len(penalties_pred))\n",
    "\n",
    "# Step 5: Add the random noise to the linear regression predictions for stochastic imputation\n",
    "penalties_pred_stochastic = penalties_pred + random_noise\n",
    "\n",
    "# Step 6: Impute the missing penalties in a new DataFrame df1_stochastic\n",
    "df1_stochastic = df1.copy()\n",
    "df1_stochastic.loc[df1_stochastic['penalties'].isna(), 'penalties'] = penalties_pred_stochastic\n"
   ]
  },
  {
   "cell_type": "markdown",
   "id": "43e9f1b0-0a56-488b-8c00-17def961d6dd",
   "metadata": {},
   "source": [
    "# Imputation using MICE"
   ]
  },
  {
   "cell_type": "code",
   "execution_count": 112,
   "id": "e44a5ed3-c32a-4df1-a51c-b9cc11c78517",
   "metadata": {},
   "outputs": [],
   "source": [
    "from sklearn.experimental import enable_iterative_imputer  # noqa\n",
    "from sklearn.impute import IterativeImputer\n",
    "\n",
    "# Step 1: Create a copy of df1 as df1_mice\n",
    "df1_mice = df1.copy()\n",
    "\n",
    "# Step 2: Select numeric columns (including 'penalties') for MICE imputation\n",
    "numeric_columns = df1_mice.select_dtypes(include=[np.number]).columns.tolist()\n",
    "\n",
    "# Step 3: Set up the Iterative Imputer for MICE\n",
    "mice_imputer = IterativeImputer(random_state=42)\n",
    "\n",
    "# Step 4: Apply the imputer to the numeric columns\n",
    "df1_mice[numeric_columns] = mice_imputer.fit_transform(df1_mice[numeric_columns])\n",
    "\n"
   ]
  },
  {
   "cell_type": "markdown",
   "id": "c6099644-19ea-4be6-95de-ed8654c244aa",
   "metadata": {},
   "source": [
    "# Imputation using K-means"
   ]
  },
  {
   "cell_type": "code",
   "execution_count": 111,
   "id": "90f07a6c-4ea9-4fa8-ac82-a00445264332",
   "metadata": {},
   "outputs": [],
   "source": [
    "from sklearn.impute import KNNImputer\n",
    "\n",
    "# Step 1: Create a copy of df1 as df1_knn\n",
    "df1_knn = df1.copy()\n",
    "\n",
    "# Step 2: Select numeric columns (including 'penalties') for KNN imputation\n",
    "numeric_columns = df1_knn.select_dtypes(include=[np.number]).columns.tolist()\n",
    "\n",
    "# Step 3: Set up the KNN Imputer\n",
    "knn_imputer = KNNImputer(n_neighbors=5)\n",
    "\n",
    "# Step 4: Apply the imputer to the numeric columns\n",
    "df1_knn[numeric_columns] = knn_imputer.fit_transform(df1_knn[numeric_columns])\n",
    "\n"
   ]
  },
  {
   "cell_type": "markdown",
   "id": "cfb9bd92-45e4-4ae8-971a-718772e4594c",
   "metadata": {},
   "source": [
    "# Comparison of different Imputation techniques"
   ]
  },
  {
   "cell_type": "code",
   "execution_count": 104,
   "id": "bb8a3bd4-5a7e-44f6-98f2-ce906f5214f7",
   "metadata": {},
   "outputs": [
    {
     "data": {
      "image/png": "[encoded data removed]",
      "text/plain": [
       "<Figure size 1500x800 with 1 Axes>"
      ]
     },
     "metadata": {},
     "output_type": "display_data"
    }
   ],
   "source": [
    "import matplotlib.pyplot as plt\n",
    "import seaborn as sns\n",
    "\n",
    "# Create a DataFrame to hold the penalty values from each imputed DataFrame\n",
    "imputed_penalties = pd.DataFrame({\n",
    "    'Linear Regression': df1_linear['penalties'],\n",
    "    'Stochastic Regression': df1_stochastic['penalties'],\n",
    "    'MICE': df1_mice['penalties'],\n",
    "    'KNN': df1_knn['penalties']\n",
    "})\n",
    "\n",
    "# Step 1: Set up the matplotlib figure\n",
    "plt.figure(figsize=(15, 8))\n",
    "\n",
    "# Step 2: Create a boxplot to compare the distributions of penalties\n",
    "sns.boxplot(data=imputed_penalties)\n",
    "plt.title('Comparison of Imputed Penalties Using Different Methods')\n",
    "plt.ylabel('Penalties')\n",
    "plt.xticks(rotation=45)\n",
    "plt.grid(True)\n",
    "\n",
    "# Step 3: Show the plot\n",
    "plt.show()\n"
   ]
  },
  {
   "cell_type": "code",
   "execution_count": 120,
   "id": "951849ce-1e81-4efc-9868-1d81dc4e96b6",
   "metadata": {},
   "outputs": [
    {
     "data": {
      "application/vnd.plotly.v1+json": {
       "config": {
        "plotlyServerURL": "https://plot.ly"
       },
       "data": [
        {
         "marker": {
          "opacity": 0.7,
          "size": 10
         },
         "mode": "markers",
         "name": "Mean Imputation",
         "type": "scatter",
         "x": [
          67,
          48,
          78,
          22,
          58,
          71,
          63,
          39,
          72,
          64,
          66,
          15,
          66,
          74,
          67,
          61,
          60,
          9,
          84,
          78,
          30,
          70,
          56,
          65,
          71,
          69,
          87,
          57,
          65,
          42,
          64,
          70,
          79,
          58,
          68,
          64,
          64,
          68,
          77,
          41,
          72,
          40,
          58,
          56,
          69,
          70,
          53,
          63,
          91,
          55,
          6,
          74,
          44,
          75,
          57,
          82,
          82,
          30,
          58,
          25,
          56,
          32,
          78,
          38,
          68,
          60,
          31,
          38,
          74,
          69,
          32,
          60,
          74,
          65,
          11,
          77,
          76,
          20,
          35,
          85
         ],
         "xaxis": "x",
         "y": [
          55.04484848484849,
          50,
          55.04484848484849,
          55.04484848484849,
          55.04484848484849,
          55.04484848484849,
          54,
          55.04484848484849,
          55.04484848484849,
          46,
          55.04484848484849,
          24,
          55.04484848484849,
          55.04484848484849,
          55.04484848484849,
          55.04484848484849,
          55.04484848484849,
          55.04484848484849,
          81,
          80,
          36,
          80,
          55.04484848484849,
          55.04484848484849,
          55.04484848484849,
          55.04484848484849,
          55.04484848484849,
          53,
          52,
          55.04484848484849,
          63,
          55.04484848484849,
          55.04484848484849,
          55.04484848484849,
          55.04484848484849,
          55.04484848484849,
          55.04484848484849,
          55.04484848484849,
          55.04484848484849,
          43,
          55.04484848484849,
          47,
          55.04484848484849,
          55.04484848484849,
          55.04484848484849,
          55.04484848484849,
          53,
          55.04484848484849,
          55.04484848484849,
          55.04484848484849,
          55.04484848484849,
          64,
          55.04484848484849,
          55.04484848484849,
          55.04484848484849,
          55.04484848484849,
          55.04484848484849,
          44,
          55.04484848484849,
          45,
          55.04484848484849,
          55.04484848484849,
          60,
          55.04484848484849,
          55.04484848484849,
          55.04484848484849,
          55.04484848484849,
          39,
          55.04484848484849,
          55.04484848484849,
          35,
          55,
          55.04484848484849,
          55.04484848484849,
          21,
          55.04484848484849,
          82,
          55.04484848484849,
          55.04484848484849,
          55.04484848484849
         ],
         "yaxis": "y"
        },
        {
         "line": {
          "dash": "dash"
         },
         "mode": "lines",
         "name": "Trendline",
         "type": "scatter",
         "x": [
          6,
          6.858585858585858,
          7.717171717171717,
          8.575757575757576,
          9.434343434343434,
          10.292929292929292,
          11.151515151515152,
          12.01010101010101,
          12.868686868686869,
          13.727272727272727,
          14.585858585858585,
          15.444444444444445,
          16.303030303030305,
          17.16161616161616,
          18.02020202020202,
          18.87878787878788,
          19.737373737373737,
          20.595959595959595,
          21.454545454545453,
          22.31313131313131,
          23.17171717171717,
          24.03030303030303,
          24.88888888888889,
          25.747474747474747,
          26.606060606060606,
          27.464646464646464,
          28.32323232323232,
          29.18181818181818,
          30.04040404040404,
          30.8989898989899,
          31.757575757575758,
          32.61616161616162,
          33.474747474747474,
          34.33333333333333,
          35.19191919191919,
          36.05050505050505,
          36.90909090909091,
          37.76767676767677,
          38.62626262626262,
          39.484848484848484,
          40.34343434343434,
          41.2020202020202,
          42.06060606060606,
          42.91919191919192,
          43.77777777777778,
          44.63636363636363,
          45.494949494949495,
          46.35353535353535,
          47.21212121212121,
          48.07070707070707,
          48.92929292929293,
          49.78787878787879,
          50.64646464646464,
          51.505050505050505,
          52.36363636363636,
          53.22222222222222,
          54.08080808080808,
          54.93939393939394,
          55.7979797979798,
          56.656565656565654,
          57.515151515151516,
          58.37373737373737,
          59.23232323232323,
          60.090909090909086,
          60.94949494949495,
          61.80808080808081,
          62.666666666666664,
          63.525252525252526,
          64.38383838383838,
          65.24242424242425,
          66.1010101010101,
          66.95959595959596,
          67.81818181818181,
          68.67676767676767,
          69.53535353535354,
          70.39393939393939,
          71.25252525252525,
          72.11111111111111,
          72.96969696969697,
          73.82828282828282,
          74.68686868686868,
          75.54545454545455,
          76.4040404040404,
          77.26262626262626,
          78.12121212121212,
          78.97979797979798,
          79.83838383838383,
          80.69696969696969,
          81.55555555555556,
          82.41414141414141,
          83.27272727272727,
          84.13131313131314,
          84.98989898989899,
          85.84848484848484,
          86.7070707070707,
          87.56565656565657,
          88.42424242424242,
          89.28282828282828,
          90.14141414141415,
          91
         ],
         "xaxis": "x",
         "y": [
          41.353539265830214,
          41.56608812735865,
          41.77863698888709,
          41.99118585041552,
          42.20373471194396,
          42.41628357347239,
          42.62883243500083,
          42.84138129652926,
          43.0539301580577,
          43.266479019586136,
          43.479027881114575,
          43.69157674264301,
          43.90412560417145,
          44.11667446569988,
          44.32922332722832,
          44.54177218875675,
          44.75432105028519,
          44.96686991181363,
          45.179418773342064,
          45.3919676348705,
          45.60451649639894,
          45.817065357927376,
          46.02961421945581,
          46.24216308098425,
          46.45471194251268,
          46.66726080404112,
          46.87980966556955,
          47.09235852709799,
          47.304907388626425,
          47.517456250154865,
          47.7300051116833,
          47.94255397321174,
          48.15510283474017,
          48.36765169626861,
          48.58020055779704,
          48.79274941932548,
          49.005298280853914,
          49.217847142382354,
          49.430396003910786,
          49.642944865439226,
          49.85549372696766,
          50.0680425884961,
          50.28059145002453,
          50.49314031155297,
          50.70568917308141,
          50.91823803460984,
          51.130786896138275,
          51.343335757666715,
          51.555884619195155,
          51.76843348072359,
          51.98098234225202,
          52.19353120378046,
          52.4060800653089,
          52.61862892683733,
          52.831177788365764,
          53.043726649894204,
          53.25627551142264,
          53.468824372951076,
          53.681373234479516,
          53.89392209600795,
          54.10647095753639,
          54.31901981906482,
          54.53156868059326,
          54.74411754212169,
          54.95666640365013,
          55.169215265178565,
          55.381764126707004,
          55.59431298823544,
          55.80686184976388,
          56.01941071129231,
          56.23195957282075,
          56.44450843434918,
          56.65705729587762,
          56.869606157406054,
          57.08215501893449,
          57.294703880462926,
          57.507252741991365,
          57.7198016035198,
          57.93235046504824,
          58.14489932657667,
          58.35744818810511,
          58.56999704963354,
          58.78254591116198,
          58.995094772690415,
          59.207643634218854,
          59.42019249574729,
          59.63274135727573,
          59.84529021880416,
          60.0578390803326,
          60.27038794186103,
          60.48293680338947,
          60.69548566491791,
          60.90803452644634,
          61.120583387974776,
          61.333132249503215,
          61.545681111031655,
          61.75822997256009,
          61.97077883408852,
          62.18332769561697,
          62.3958765571454
         ],
         "yaxis": "y"
        },
        {
         "marker": {
          "opacity": 0.7,
          "size": 10
         },
         "mode": "markers",
         "name": "Mode Imputation",
         "selectedpoints": [],
         "type": "scatter",
         "x": [
          67,
          48,
          78,
          22,
          58,
          71,
          63,
          39,
          72,
          64,
          66,
          15,
          66,
          74,
          67,
          61,
          60,
          9,
          84,
          78,
          30,
          70,
          56,
          65,
          71,
          69,
          87,
          57,
          65,
          42,
          64,
          70,
          79,
          58,
          68,
          64,
          64,
          68,
          77,
          41,
          72,
          40,
          58,
          56,
          69,
          70,
          53,
          63,
          91,
          55,
          6,
          74,
          44,
          75,
          57,
          82,
          82,
          30,
          58,
          25,
          56,
          32,
          78,
          38,
          68,
          60,
          31,
          38,
          74,
          69,
          32,
          60,
          74,
          65,
          11,
          77,
          76,
          20,
          35,
          85
         ],
         "xaxis": "x2",
         "y": [
          58,
          50,
          58,
          58,
          58,
          58,
          54,
          58,
          58,
          46,
          58,
          24,
          58,
          58,
          58,
          58,
          58,
          58,
          81,
          80,
          36,
          80,
          58,
          58,
          58,
          58,
          58,
          53,
          52,
          58,
          63,
          58,
          58,
          58,
          58,
          58,
          58,
          58,
          58,
          43,
          58,
          47,
          58,
          58,
          58,
          58,
          53,
          58,
          58,
          58,
          58,
          64,
          58,
          58,
          58,
          58,
          58,
          44,
          58,
          45,
          58,
          58,
          60,
          58,
          58,
          58,
          58,
          39,
          58,
          58,
          35,
          55,
          58,
          58,
          21,
          58,
          82,
          58,
          58,
          58
         ],
         "yaxis": "y2"
        },
        {
         "line": {
          "dash": "dash"
         },
         "mode": "lines",
         "name": "Trendline",
         "selectedpoints": [],
         "type": "scatter",
         "x": [
          6,
          6.858585858585858,
          7.717171717171717,
          8.575757575757576,
          9.434343434343434,
          10.292929292929292,
          11.151515151515152,
          12.01010101010101,
          12.868686868686869,
          13.727272727272727,
          14.585858585858585,
          15.444444444444445,
          16.303030303030305,
          17.16161616161616,
          18.02020202020202,
          18.87878787878788,
          19.737373737373737,
          20.595959595959595,
          21.454545454545453,
          22.31313131313131,
          23.17171717171717,
          24.03030303030303,
          24.88888888888889,
          25.747474747474747,
          26.606060606060606,
          27.464646464646464,
          28.32323232323232,
          29.18181818181818,
          30.04040404040404,
          30.8989898989899,
          31.757575757575758,
          32.61616161616162,
          33.474747474747474,
          34.33333333333333,
          35.19191919191919,
          36.05050505050505,
          36.90909090909091,
          37.76767676767677,
          38.62626262626262,
          39.484848484848484,
          40.34343434343434,
          41.2020202020202,
          42.06060606060606,
          42.91919191919192,
          43.77777777777778,
          44.63636363636363,
          45.494949494949495,
          46.35353535353535,
          47.21212121212121,
          48.07070707070707,
          48.92929292929293,
          49.78787878787879,
          50.64646464646464,
          51.505050505050505,
          52.36363636363636,
          53.22222222222222,
          54.08080808080808,
          54.93939393939394,
          55.7979797979798,
          56.656565656565654,
          57.515151515151516,
          58.37373737373737,
          59.23232323232323,
          60.090909090909086,
          60.94949494949495,
          61.80808080808081,
          62.666666666666664,
          63.525252525252526,
          64.38383838383838,
          65.24242424242425,
          66.1010101010101,
          66.95959595959596,
          67.81818181818181,
          68.67676767676767,
          69.53535353535354,
          70.39393939393939,
          71.25252525252525,
          72.11111111111111,
          72.96969696969697,
          73.82828282828282,
          74.68686868686868,
          75.54545454545455,
          76.4040404040404,
          77.26262626262626,
          78.12121212121212,
          78.97979797979798,
          79.83838383838383,
          80.69696969696969,
          81.55555555555556,
          82.41414141414141,
          83.27272727272727,
          84.13131313131314,
          84.98989898989899,
          85.84848484848484,
          86.7070707070707,
          87.56565656565657,
          88.42424242424242,
          89.28282828282828,
          90.14141414141415,
          91
         ],
         "xaxis": "x2",
         "y": [
          42.721547531029145,
          42.94619842793176,
          43.170849324834386,
          43.395500221737,
          43.62015111863962,
          43.84480201554224,
          44.06945291244486,
          44.294103809347476,
          44.51875470625009,
          44.743405603152716,
          44.96805650005533,
          45.19270739695795,
          45.417358293860566,
          45.64200919076319,
          45.86666008766581,
          46.09131098456842,
          46.31596188147104,
          46.540612778373664,
          46.76526367527628,
          46.9899145721789,
          47.21456546908151,
          47.43921636598414,
          47.663867262886754,
          47.88851815978937,
          48.11316905669199,
          48.33781995359461,
          48.56247085049723,
          48.787121747399844,
          49.01177264430247,
          49.236423541205085,
          49.4610744381077,
          49.68572533501032,
          49.910376231912934,
          50.13502712881555,
          50.359678025718175,
          50.58432892262079,
          50.808979819523415,
          51.03363071642603,
          51.25828161332865,
          51.482932510231265,
          51.70758340713388,
          51.932234304036506,
          52.15688520093912,
          52.38153609784174,
          52.60618699474436,
          52.83083789164698,
          53.055488788549596,
          53.28013968545221,
          53.50479058235483,
          53.72944147925745,
          53.95409237616007,
          54.178743273062686,
          54.40339416996531,
          54.62804506686793,
          54.85269596377054,
          55.07734686067316,
          55.30199775757578,
          55.5266486544784,
          55.75129955138102,
          55.97595044828363,
          56.20060134518626,
          56.425252242088874,
          56.64990313899149,
          56.87455403589411,
          57.099204932796724,
          57.32385582969935,
          57.548506726601964,
          57.77315762350459,
          57.997808520407204,
          58.22245941730982,
          58.44711031421244,
          58.671761211115054,
          58.89641210801767,
          59.12106300492029,
          59.34571390182292,
          59.570364798725535,
          59.79501569562815,
          60.01966659253077,
          60.244317489433385,
          60.468968386336,
          60.69361928323862,
          60.91827018014124,
          61.14292107704386,
          61.36757197394648,
          61.5922228708491,
          61.816873767751716,
          62.04152466465433,
          62.26617556155695,
          62.49082645845957,
          62.71547735536219,
          62.940128252264806,
          63.16477914916743,
          63.389430046070046,
          63.61408094297266,
          63.83873183987528,
          64.0633827367779,
          64.28803363368053,
          64.51268453058313,
          64.73733542748576,
          64.96198632438838
         ],
         "yaxis": "y2"
        },
        {
         "marker": {
          "opacity": 0.7,
          "size": 10
         },
         "mode": "markers",
         "name": "Linear Regression Imputation",
         "type": "scatter",
         "x": [
          67,
          48,
          78,
          22,
          58,
          71,
          63,
          39,
          72,
          64,
          66,
          15,
          66,
          74,
          67,
          61,
          60,
          9,
          84,
          78,
          30,
          70,
          56,
          65,
          71,
          69,
          87,
          57,
          65,
          42,
          64,
          70,
          79,
          58,
          68,
          64,
          64,
          68,
          77,
          41,
          72,
          40,
          58,
          56,
          69,
          70,
          53,
          63,
          91,
          55,
          6,
          74,
          44,
          75,
          57,
          82,
          82,
          30,
          58,
          25,
          56,
          32,
          78,
          38,
          68,
          60,
          31,
          38,
          74,
          69,
          32,
          60,
          74,
          65,
          11,
          77,
          76,
          20,
          35,
          85
         ],
         "xaxis": "x3",
         "y": [
          62.16598282545843,
          50,
          69.67606930320801,
          31.442901780119207,
          56.02136661639059,
          64.89692336282192,
          54,
          43.049399063914024,
          65.5796584971628,
          46,
          61.483247691117555,
          24,
          61.483247691117555,
          66.94512876584453,
          62.16598282545843,
          58.0695720194132,
          57.38683688507233,
          22.567345033687875,
          81,
          80,
          36,
          80,
          54.65589634770884,
          60.80051255677669,
          64.89692336282192,
          63.531453094140176,
          75.82068551227587,
          53,
          52,
          45.09760446693664,
          63,
          64.21418822848105,
          70.35880443754888,
          56.02136661639059,
          62.8487179597993,
          60.117777422435815,
          60.117777422435815,
          62.8487179597993,
          68.99333416886714,
          43,
          65.5796584971628,
          47,
          56.02136661639059,
          54.65589634770884,
          63.531453094140176,
          64.21418822848105,
          53,
          59.43504228809494,
          78.55162604963934,
          53.97316121336797,
          20.519139630665258,
          64,
          46.46307473561838,
          67.6278639001854,
          55.33863148204971,
          72.4070098405715,
          72.4070098405715,
          44,
          56.02136661639059,
          45,
          54.65589634770884,
          38.27025312352792,
          60,
          42.36666392957315,
          62.8487179597993,
          57.38683688507233,
          37.58751798918705,
          39,
          66.94512876584453,
          63.531453094140176,
          35,
          55,
          66.94512876584453,
          60.80051255677669,
          21,
          68.99333416886714,
          82,
          30.077431511437464,
          40.318458526550536,
          74.45521524359413
         ],
         "yaxis": "y3"
        },
        {
         "line": {
          "dash": "dash"
         },
         "mode": "lines",
         "name": "Trendline",
         "type": "scatter",
         "x": [
          6,
          6.858585858585858,
          7.717171717171717,
          8.575757575757576,
          9.434343434343434,
          10.292929292929292,
          11.151515151515152,
          12.01010101010101,
          12.868686868686869,
          13.727272727272727,
          14.585858585858585,
          15.444444444444445,
          16.303030303030305,
          17.16161616161616,
          18.02020202020202,
          18.87878787878788,
          19.737373737373737,
          20.595959595959595,
          21.454545454545453,
          22.31313131313131,
          23.17171717171717,
          24.03030303030303,
          24.88888888888889,
          25.747474747474747,
          26.606060606060606,
          27.464646464646464,
          28.32323232323232,
          29.18181818181818,
          30.04040404040404,
          30.8989898989899,
          31.757575757575758,
          32.61616161616162,
          33.474747474747474,
          34.33333333333333,
          35.19191919191919,
          36.05050505050505,
          36.90909090909091,
          37.76767676767677,
          38.62626262626262,
          39.484848484848484,
          40.34343434343434,
          41.2020202020202,
          42.06060606060606,
          42.91919191919192,
          43.77777777777778,
          44.63636363636363,
          45.494949494949495,
          46.35353535353535,
          47.21212121212121,
          48.07070707070707,
          48.92929292929293,
          49.78787878787879,
          50.64646464646464,
          51.505050505050505,
          52.36363636363636,
          53.22222222222222,
          54.08080808080808,
          54.93939393939394,
          55.7979797979798,
          56.656565656565654,
          57.515151515151516,
          58.37373737373737,
          59.23232323232323,
          60.090909090909086,
          60.94949494949495,
          61.80808080808081,
          62.666666666666664,
          63.525252525252526,
          64.38383838383838,
          65.24242424242425,
          66.1010101010101,
          66.95959595959596,
          67.81818181818181,
          68.67676767676767,
          69.53535353535354,
          70.39393939393939,
          71.25252525252525,
          72.11111111111111,
          72.96969696969697,
          73.82828282828282,
          74.68686868686868,
          75.54545454545455,
          76.4040404040404,
          77.26262626262626,
          78.12121212121212,
          78.97979797979798,
          79.83838383838383,
          80.69696969696969,
          81.55555555555556,
          82.41414141414141,
          83.27272727272727,
          84.13131313131314,
          84.98989898989899,
          85.84848484848484,
          86.7070707070707,
          87.56565656565657,
          88.42424242424242,
          89.28282828282828,
          90.14141414141415,
          91
         ],
         "xaxis": "x3",
         "y": [
          20.27735760187947,
          20.870121884303188,
          21.46288616672691,
          22.055650449150633,
          22.648414731574352,
          23.24117901399807,
          23.833943296421793,
          24.426707578845516,
          25.019471861269235,
          25.612236143692954,
          26.205000426116676,
          26.7977647085404,
          27.390528990964118,
          27.983293273387837,
          28.57605755581156,
          29.16882183823528,
          29.761586120659,
          30.35435040308272,
          30.947114685506442,
          31.53987896793016,
          32.13264325035388,
          32.72540753277761,
          33.318171815201325,
          33.91093609762504,
          34.50370038004877,
          35.096464662472485,
          35.68922894489621,
          36.28199322731993,
          36.874757509743645,
          37.467521792167375,
          38.06028607459109,
          38.65305035701481,
          39.245814639438535,
          39.83857892186225,
          40.43134320428597,
          41.024107486709696,
          41.61687176913341,
          42.20963605155714,
          42.802400333980856,
          43.39516461640457,
          43.987928898828294,
          44.580693181252016,
          45.17345746367574,
          45.76622174609946,
          46.35898602852318,
          46.9517503109469,
          47.54451459337062,
          48.13727887579434,
          48.73004315821806,
          49.32280744064178,
          49.915571723065504,
          50.50833600548923,
          51.10110028791294,
          51.693864570336665,
          52.28662885276039,
          52.87939313518411,
          53.47215741760783,
          54.06492170003155,
          54.65768598245527,
          55.25045026487899,
          55.843214547302715,
          56.43597882972643,
          57.02874311215015,
          57.62150739457387,
          58.21427167699759,
          58.80703595942131,
          59.399800241845035,
          59.99256452426876,
          60.58532880669247,
          61.1780930891162,
          61.77085737153992,
          62.36362165396364,
          62.956385936387356,
          63.54915021881107,
          64.1419145012348,
          64.73467878365852,
          65.32744306608224,
          65.92020734850597,
          66.51297163092968,
          67.1057359133534,
          67.69850019577711,
          68.29126447820084,
          68.88402876062457,
          69.47679304304827,
          70.069557325472,
          70.66232160789573,
          71.25508589031945,
          71.84785017274316,
          72.4406144551669,
          73.03337873759061,
          73.62614302001433,
          74.21890730243805,
          74.81167158486178,
          75.40443586728549,
          75.99720014970922,
          76.58996443213294,
          77.18272871455665,
          77.77549299698038,
          78.3682572794041,
          78.96102156182782
         ],
         "yaxis": "y3"
        },
        {
         "marker": {
          "opacity": 0.7,
          "size": 10
         },
         "mode": "markers",
         "name": "Stochastic Regression Imputation",
         "type": "scatter",
         "x": [
          67,
          48,
          78,
          22,
          58,
          71,
          63,
          39,
          72,
          64,
          66,
          15,
          66,
          74,
          67,
          61,
          60,
          9,
          84,
          78,
          30,
          70,
          56,
          65,
          71,
          69,
          87,
          57,
          65,
          42,
          64,
          70,
          79,
          58,
          68,
          64,
          64,
          68,
          77,
          41,
          72,
          40,
          58,
          56,
          69,
          70,
          53,
          63,
          91,
          55,
          6,
          74,
          44,
          75,
          57,
          82,
          82,
          30,
          58,
          25,
          56,
          32,
          78,
          38,
          68,
          60,
          31,
          38,
          74,
          69,
          32,
          60,
          74,
          65,
          11,
          77,
          76,
          20,
          35,
          85
         ],
         "xaxis": "x4",
         "y": [
          59.341985488875316,
          50,
          77.35124884446941,
          25.505490902330443,
          54.02890606316052,
          71.72319940176098,
          54,
          51.1445929117889,
          71.24956908661675,
          46,
          67.10010866307387,
          24,
          75.42266155188291,
          62.307877410718774,
          49.32864140733485,
          58.989052174607195,
          62.35172744921654,
          22.40469268267013,
          81,
          80,
          36,
          80,
          45.99877496821855,
          52.80830981495295,
          45.48277839728211,
          51.984687346942195,
          85.45198961175436,
          53,
          52,
          42.919368492521585,
          63,
          65.22428830367238,
          74.7958313074533,
          49.759938259426185,
          57.218104740420834,
          58.42094214486723,
          77.6219644277097,
          72.46701541360454,
          70.37500885433936,
          43,
          57.09869201133341,
          47,
          44.80429592219605,
          56.725375110092045,
          59.44547711912732,
          66.6186879253958,
          53,
          61.217058031285156,
          103.76038734406235,
          53.59384664961392,
          21.57309447084172,
          64,
          50.51168863889089,
          64.93433066015872,
          71.05242629106093,
          91.87114572359842,
          76.03800383310465,
          44,
          73.83170885079215,
          45,
          43.23514934810022,
          46.80700711742185,
          60,
          45.60120950641282,
          60.947008310816884,
          54.573625401531324,
          45.2922136471686,
          39,
          59.29743964033949,
          53.17734305549949,
          35,
          55,
          70.16691656832687,
          57.40764769447487,
          21,
          56.72431046835786,
          82,
          40.87715978779573,
          35.365292791508494,
          65.19491510594449
         ],
         "yaxis": "y4"
        },
        {
         "line": {
          "dash": "dash"
         },
         "mode": "lines",
         "name": "Trendline",
         "type": "scatter",
         "x": [
          6,
          6.858585858585858,
          7.717171717171717,
          8.575757575757576,
          9.434343434343434,
          10.292929292929292,
          11.151515151515152,
          12.01010101010101,
          12.868686868686869,
          13.727272727272727,
          14.585858585858585,
          15.444444444444445,
          16.303030303030305,
          17.16161616161616,
          18.02020202020202,
          18.87878787878788,
          19.737373737373737,
          20.595959595959595,
          21.454545454545453,
          22.31313131313131,
          23.17171717171717,
          24.03030303030303,
          24.88888888888889,
          25.747474747474747,
          26.606060606060606,
          27.464646464646464,
          28.32323232323232,
          29.18181818181818,
          30.04040404040404,
          30.8989898989899,
          31.757575757575758,
          32.61616161616162,
          33.474747474747474,
          34.33333333333333,
          35.19191919191919,
          36.05050505050505,
          36.90909090909091,
          37.76767676767677,
          38.62626262626262,
          39.484848484848484,
          40.34343434343434,
          41.2020202020202,
          42.06060606060606,
          42.91919191919192,
          43.77777777777778,
          44.63636363636363,
          45.494949494949495,
          46.35353535353535,
          47.21212121212121,
          48.07070707070707,
          48.92929292929293,
          49.78787878787879,
          50.64646464646464,
          51.505050505050505,
          52.36363636363636,
          53.22222222222222,
          54.08080808080808,
          54.93939393939394,
          55.7979797979798,
          56.656565656565654,
          57.515151515151516,
          58.37373737373737,
          59.23232323232323,
          60.090909090909086,
          60.94949494949495,
          61.80808080808081,
          62.666666666666664,
          63.525252525252526,
          64.38383838383838,
          65.24242424242425,
          66.1010101010101,
          66.95959595959596,
          67.81818181818181,
          68.67676767676767,
          69.53535353535354,
          70.39393939393939,
          71.25252525252525,
          72.11111111111111,
          72.96969696969697,
          73.82828282828282,
          74.68686868686868,
          75.54545454545455,
          76.4040404040404,
          77.26262626262626,
          78.12121212121212,
          78.97979797979798,
          79.83838383838383,
          80.69696969696969,
          81.55555555555556,
          82.41414141414141,
          83.27272727272727,
          84.13131313131314,
          84.98989898989899,
          85.84848484848484,
          86.7070707070707,
          87.56565656565657,
          88.42424242424242,
          89.28282828282828,
          90.14141414141415,
          91
         ],
         "xaxis": "x4",
         "y": [
          20.635851619949797,
          21.231211808316576,
          21.826571996683356,
          22.42193218505013,
          23.01729237341691,
          23.61265256178369,
          24.208012750150466,
          24.803372938517246,
          25.398733126884025,
          25.9940933152508,
          26.589453503617577,
          27.18481369198436,
          27.780173880351136,
          28.37553406871791,
          28.97089425708469,
          29.56625444545147,
          30.161614633818246,
          30.756974822185025,
          31.352335010551805,
          31.94769519891858,
          32.54305538728536,
          33.13841557565214,
          33.733775764018915,
          34.3291359523857,
          34.92449614075247,
          35.51985632911925,
          36.115216517486026,
          36.7105767058528,
          37.305936894219585,
          37.90129708258636,
          38.496657270953136,
          39.09201745931992,
          39.687377647686695,
          40.28273783605347,
          40.878098024420254,
          41.47345821278703,
          42.068818401153806,
          42.66417858952059,
          43.25953877788736,
          43.85489896625414,
          44.450259154620916,
          45.04561934298769,
          45.640979531354475,
          46.23633971972125,
          46.831699908088034,
          47.42706009645481,
          48.02242028482159,
          48.61778047318836,
          49.213140661555144,
          49.80850084992193,
          50.403861038288696,
          50.99922122665548,
          51.59458141502225,
          52.18994160338903,
          52.78530179175581,
          53.380661980122596,
          53.976022168489365,
          54.57138235685615,
          55.16674254522293,
          55.7621027335897,
          56.35746292195648,
          56.95282311032325,
          57.548183298690034,
          58.14354348705682,
          58.738903675423586,
          59.33426386379037,
          59.92962405215715,
          60.52498424052392,
          61.120344428890704,
          61.71570461725749,
          62.311064805624255,
          62.90642499399104,
          63.50178518235781,
          64.09714537072459,
          64.69250555909137,
          65.28786574745814,
          65.88322593582492,
          66.47858612419171,
          67.07394631255849,
          67.66930650092526,
          68.26466668929203,
          68.86002687765883,
          69.4553870660256,
          70.05074725439236,
          70.64610744275916,
          71.24146763112593,
          71.83682781949271,
          72.43218800785948,
          73.02754819622626,
          73.62290838459305,
          74.21826857295981,
          74.8136287613266,
          75.40898894969338,
          76.00434913806015,
          76.59970932642693,
          77.19506951479372,
          77.79042970316048,
          78.38578989152727,
          78.98115007989405,
          79.57651026826082
         ],
         "yaxis": "y4"
        },
        {
         "marker": {
          "opacity": 0.7,
          "size": 10
         },
         "mode": "markers",
         "name": "MICE Imputation",
         "type": "scatter",
         "x": [
          67,
          48,
          78,
          22,
          58,
          71,
          63,
          39,
          72,
          64,
          66,
          15,
          66,
          74,
          67,
          61,
          60,
          9,
          84,
          78,
          30,
          70,
          56,
          65,
          71,
          69,
          87,
          57,
          65,
          42,
          64,
          70,
          79,
          58,
          68,
          64,
          64,
          68,
          77,
          41,
          72,
          40,
          58,
          56,
          69,
          70,
          53,
          63,
          91,
          55,
          6,
          74,
          44,
          75,
          57,
          82,
          82,
          30,
          58,
          25,
          56,
          32,
          78,
          38,
          68,
          60,
          31,
          38,
          74,
          69,
          32,
          60,
          74,
          65,
          11,
          77,
          76,
          20,
          35,
          85
         ],
         "xaxis": "x5",
         "y": [
          61.75696931851566,
          50,
          69.03289437267628,
          32.47558945041533,
          51.4351818894003,
          60.867157621134865,
          54,
          41.15025066605477,
          60.40963313948201,
          46,
          64.39828637566505,
          24,
          48.52582704734393,
          69.84069827747615,
          59.89537556116769,
          72.18773246740207,
          55.78470888657203,
          23.330378465610636,
          81,
          80,
          36,
          80,
          49.30804743903862,
          58.41474363958673,
          63.01711041349718,
          64.4095474616301,
          76.43098515171515,
          53,
          52,
          50.785802286806245,
          63,
          58.363494721328486,
          66.98595343113386,
          57.92013909745279,
          64.64953680187864,
          55.898367598868276,
          58.16620252526309,
          60.70222598327298,
          64.30640852851293,
          43,
          60.940001254609186,
          47,
          54.946145509350295,
          50.47589959459904,
          59.88633927452673,
          71.75532449231184,
          53,
          53.30725742898386,
          74.24926488382306,
          55.08223871299201,
          20.536590135035247,
          64,
          45.878517471938885,
          67.20623009266038,
          57.42506920714502,
          73.80087304194416,
          68.65624123934137,
          44,
          58.92939084149872,
          45,
          57.22520882568629,
          40.62141480882134,
          60,
          40.16387931969893,
          61.60014176953416,
          58.25962563529038,
          41.41444719532827,
          39,
          77.10414683422118,
          58.54876526352621,
          35,
          55,
          64.21980715320166,
          56.67183353757779,
          21,
          69.51708983144292,
          82,
          31.967922051763765,
          39.015610500010744,
          70.2239679780732
         ],
         "yaxis": "y5"
        },
        {
         "line": {
          "dash": "dash"
         },
         "mode": "lines",
         "name": "Trendline",
         "type": "scatter",
         "x": [
          6,
          6.858585858585858,
          7.717171717171717,
          8.575757575757576,
          9.434343434343434,
          10.292929292929292,
          11.151515151515152,
          12.01010101010101,
          12.868686868686869,
          13.727272727272727,
          14.585858585858585,
          15.444444444444445,
          16.303030303030305,
          17.16161616161616,
          18.02020202020202,
          18.87878787878788,
          19.737373737373737,
          20.595959595959595,
          21.454545454545453,
          22.31313131313131,
          23.17171717171717,
          24.03030303030303,
          24.88888888888889,
          25.747474747474747,
          26.606060606060606,
          27.464646464646464,
          28.32323232323232,
          29.18181818181818,
          30.04040404040404,
          30.8989898989899,
          31.757575757575758,
          32.61616161616162,
          33.474747474747474,
          34.33333333333333,
          35.19191919191919,
          36.05050505050505,
          36.90909090909091,
          37.76767676767677,
          38.62626262626262,
          39.484848484848484,
          40.34343434343434,
          41.2020202020202,
          42.06060606060606,
          42.91919191919192,
          43.77777777777778,
          44.63636363636363,
          45.494949494949495,
          46.35353535353535,
          47.21212121212121,
          48.07070707070707,
          48.92929292929293,
          49.78787878787879,
          50.64646464646464,
          51.505050505050505,
          52.36363636363636,
          53.22222222222222,
          54.08080808080808,
          54.93939393939394,
          55.7979797979798,
          56.656565656565654,
          57.515151515151516,
          58.37373737373737,
          59.23232323232323,
          60.090909090909086,
          60.94949494949495,
          61.80808080808081,
          62.666666666666664,
          63.525252525252526,
          64.38383838383838,
          65.24242424242425,
          66.1010101010101,
          66.95959595959596,
          67.81818181818181,
          68.67676767676767,
          69.53535353535354,
          70.39393939393939,
          71.25252525252525,
          72.11111111111111,
          72.96969696969697,
          73.82828282828282,
          74.68686868686868,
          75.54545454545455,
          76.4040404040404,
          77.26262626262626,
          78.12121212121212,
          78.97979797979798,
          79.83838383838383,
          80.69696969696969,
          81.55555555555556,
          82.41414141414141,
          83.27272727272727,
          84.13131313131314,
          84.98989898989899,
          85.84848484848484,
          86.7070707070707,
          87.56565656565657,
          88.42424242424242,
          89.28282828282828,
          90.14141414141415,
          91
         ],
         "xaxis": "x5",
         "y": [
          21.48572052601096,
          22.049405083689884,
          22.613089641368802,
          23.17677419904772,
          23.74045875672664,
          24.304143314405557,
          24.86782787208448,
          25.431512429763398,
          25.99519698744232,
          26.55888154512124,
          27.122566102800157,
          27.686250660479075,
          28.249935218157997,
          28.813619775836912,
          29.377304333515838,
          29.940988891194756,
          30.504673448873675,
          31.068358006552593,
          31.63204256423151,
          32.19572712191043,
          32.75941167958935,
          33.323096237268274,
          33.88678079494719,
          34.45046535262611,
          35.01414991030503,
          35.57783446798395,
          36.14151902566287,
          36.705203583341785,
          37.26888814102071,
          37.83257269869963,
          38.39625725637855,
          38.95994181405747,
          39.523626371736384,
          40.0873109294153,
          40.65099548709422,
          41.21468004477315,
          41.778364602452065,
          42.34204916013098,
          42.9057337178099,
          43.46941827548882,
          44.033102833167746,
          44.59678739084666,
          45.16047194852558,
          45.7241565062045,
          46.28784106388342,
          46.85152562156234,
          47.41521017924126,
          47.97889473692018,
          48.5425792945991,
          49.10626385227802,
          49.66994840995694,
          50.233632967635856,
          50.797317525314774,
          51.3610020829937,
          51.92468664067261,
          52.48837119835154,
          53.052055756030455,
          53.615740313709374,
          54.1794248713883,
          54.74310942906721,
          55.306793986746136,
          55.870478544425055,
          56.43416310210397,
          56.99784765978289,
          57.56153221746181,
          58.125216775140736,
          58.68890133281965,
          59.25258589049857,
          59.81627044817749,
          60.37995500585642,
          60.943639563535335,
          61.507324121214246,
          62.071008678893165,
          62.63469323657208,
          63.19837779425101,
          63.76206235192993,
          64.32574690960885,
          64.88943146728778,
          65.45311602496668,
          66.0168005826456,
          66.58048514032453,
          67.14416969800345,
          67.70785425568236,
          68.27153881336127,
          68.8352233710402,
          69.39890792871913,
          69.96259248639804,
          70.52627704407695,
          71.08996160175587,
          71.6536461594348,
          72.21733071711373,
          72.78101527479265,
          73.34469983247156,
          73.90838439015047,
          74.4720689478294,
          75.03575350550832,
          75.59943806318724,
          76.16312262086615,
          76.72680717854507,
          77.290491736224
         ],
         "yaxis": "y5"
        },
        {
         "marker": {
          "opacity": 0.7,
          "size": 10
         },
         "mode": "markers",
         "name": "KNN Imputation",
         "type": "scatter",
         "x": [
          67,
          48,
          78,
          22,
          58,
          71,
          63,
          39,
          72,
          64,
          66,
          15,
          66,
          74,
          67,
          61,
          60,
          9,
          84,
          78,
          30,
          70,
          56,
          65,
          71,
          69,
          87,
          57,
          65,
          42,
          64,
          70,
          79,
          58,
          68,
          64,
          64,
          68,
          77,
          41,
          72,
          40,
          58,
          56,
          69,
          70,
          53,
          63,
          91,
          55,
          6,
          74,
          44,
          75,
          57,
          82,
          82,
          30,
          58,
          25,
          56,
          32,
          78,
          38,
          68,
          60,
          31,
          38,
          74,
          69,
          32,
          60,
          74,
          65,
          11,
          77,
          76,
          20,
          35,
          85
         ],
         "xaxis": "x6",
         "y": [
          47.8,
          50,
          56.2,
          39,
          55.4,
          72,
          54,
          37,
          55.2,
          46,
          62.8,
          24,
          54.2,
          61.2,
          55.4,
          47.2,
          63.6,
          39.8,
          81,
          80,
          36,
          80,
          61,
          46.4,
          39.4,
          48.8,
          58,
          53,
          52,
          60.8,
          63,
          52.8,
          52,
          58.2,
          61.4,
          57.2,
          47.8,
          58,
          54.8,
          43,
          44.8,
          47,
          66.4,
          60.4,
          59.4,
          39.8,
          53,
          61.4,
          68.6,
          53.8,
          61.4,
          64,
          50.4,
          57.6,
          41.8,
          63.2,
          67.6,
          44,
          52.2,
          45,
          38.4,
          61.8,
          60,
          53.4,
          57.2,
          38.8,
          55.4,
          39,
          64.2,
          47.2,
          35,
          55,
          45.2,
          42.2,
          21,
          57,
          82,
          44.2,
          59,
          42.6
         ],
         "yaxis": "y6"
        },
        {
         "line": {
          "dash": "dash"
         },
         "mode": "lines",
         "name": "Trendline",
         "type": "scatter",
         "x": [
          6,
          6.858585858585858,
          7.717171717171717,
          8.575757575757576,
          9.434343434343434,
          10.292929292929292,
          11.151515151515152,
          12.01010101010101,
          12.868686868686869,
          13.727272727272727,
          14.585858585858585,
          15.444444444444445,
          16.303030303030305,
          17.16161616161616,
          18.02020202020202,
          18.87878787878788,
          19.737373737373737,
          20.595959595959595,
          21.454545454545453,
          22.31313131313131,
          23.17171717171717,
          24.03030303030303,
          24.88888888888889,
          25.747474747474747,
          26.606060606060606,
          27.464646464646464,
          28.32323232323232,
          29.18181818181818,
          30.04040404040404,
          30.8989898989899,
          31.757575757575758,
          32.61616161616162,
          33.474747474747474,
          34.33333333333333,
          35.19191919191919,
          36.05050505050505,
          36.90909090909091,
          37.76767676767677,
          38.62626262626262,
          39.484848484848484,
          40.34343434343434,
          41.2020202020202,
          42.06060606060606,
          42.91919191919192,
          43.77777777777778,
          44.63636363636363,
          45.494949494949495,
          46.35353535353535,
          47.21212121212121,
          48.07070707070707,
          48.92929292929293,
          49.78787878787879,
          50.64646464646464,
          51.505050505050505,
          52.36363636363636,
          53.22222222222222,
          54.08080808080808,
          54.93939393939394,
          55.7979797979798,
          56.656565656565654,
          57.515151515151516,
          58.37373737373737,
          59.23232323232323,
          60.090909090909086,
          60.94949494949495,
          61.80808080808081,
          62.666666666666664,
          63.525252525252526,
          64.38383838383838,
          65.24242424242425,
          66.1010101010101,
          66.95959595959596,
          67.81818181818181,
          68.67676767676767,
          69.53535353535354,
          70.39393939393939,
          71.25252525252525,
          72.11111111111111,
          72.96969696969697,
          73.82828282828282,
          74.68686868686868,
          75.54545454545455,
          76.4040404040404,
          77.26262626262626,
          78.12121212121212,
          78.97979797979798,
          79.83838383838383,
          80.69696969696969,
          81.55555555555556,
          82.41414141414141,
          83.27272727272727,
          84.13131313131314,
          84.98989898989899,
          85.84848484848484,
          86.7070707070707,
          87.56565656565657,
          88.42424242424242,
          89.28282828282828,
          90.14141414141415,
          91
         ],
         "xaxis": "x6",
         "y": [
          37.234272308935715,
          37.49825940468836,
          37.76224650044101,
          38.026233596193656,
          38.2902206919463,
          38.55420778769895,
          38.818194883451596,
          39.08218197920424,
          39.34616907495689,
          39.61015617070953,
          39.87414326646218,
          40.138130362214824,
          40.40211745796747,
          40.66610455372012,
          40.930091649472764,
          41.19407874522541,
          41.45806584097806,
          41.722052936730705,
          41.98604003248335,
          42.250027128236,
          42.51401422398864,
          42.77800131974129,
          43.04198841549393,
          43.30597551124658,
          43.569962606999226,
          43.83394970275187,
          44.09793679850452,
          44.36192389425717,
          44.625910990009814,
          44.88989808576246,
          45.15388518151511,
          45.417872277267755,
          45.6818593730204,
          45.94584646877304,
          46.20983356452569,
          46.473820660278335,
          46.73780775603098,
          47.00179485178363,
          47.265781947536276,
          47.52976904328892,
          47.79375613904156,
          48.057743234794216,
          48.321730330546856,
          48.5857174262995,
          48.84970452205215,
          49.1136916178048,
          49.377678713557444,
          49.64166580931009,
          49.90565290506274,
          50.169640000815384,
          50.43362709656803,
          50.69761419232068,
          50.961601288073325,
          51.225588383825965,
          51.48957547957862,
          51.75356257533126,
          52.01754967108391,
          52.28153676683655,
          52.5455238625892,
          52.809510958341846,
          53.07349805409449,
          53.33748514984714,
          53.60147224559978,
          53.865459341352434,
          54.129446437105074,
          54.39343353285773,
          54.65742062861037,
          54.92140772436302,
          55.18539482011566,
          55.449381915868315,
          55.713369011620955,
          55.9773561073736,
          56.24134320312625,
          56.50533029887889,
          56.76931739463154,
          57.03330449038418,
          57.29729158613683,
          57.561278681889476,
          57.82526577764213,
          58.08925287339477,
          58.35323996914741,
          58.617227064900064,
          58.88121416065271,
          59.14520125640536,
          59.409188352158004,
          59.67317544791065,
          59.93716254366329,
          60.20114963941594,
          60.465136735168585,
          60.72912383092123,
          60.99311092667388,
          61.25709802242653,
          61.52108511817917,
          61.78507221393182,
          62.049059309684466,
          62.31304640543711,
          62.57703350118976,
          62.8410205969424,
          63.105007692695054,
          63.368994788447694
         ],
         "yaxis": "y6"
        }
       ],
       "layout": {
        "annotations": [
         {
          "font": {
           "size": 16
          },
          "showarrow": false,
          "text": "Mean Imputation",
          "x": 0.225,
          "xanchor": "center",
          "xref": "paper",
          "y": 1,
          "yanchor": "bottom",
          "yref": "paper"
         },
         {
          "font": {
           "size": 16
          },
          "showarrow": false,
          "text": "Mode Imputation",
          "x": 0.775,
          "xanchor": "center",
          "xref": "paper",
          "y": 1,
          "yanchor": "bottom",
          "yref": "paper"
         },
         {
          "font": {
           "size": 16
          },
          "showarrow": false,
          "text": "Linear Regression Imputation",
          "x": 0.225,
          "xanchor": "center",
          "xref": "paper",
          "y": 0.6111111111111112,
          "yanchor": "bottom",
          "yref": "paper"
         },
         {
          "font": {
           "size": 16
          },
          "showarrow": false,
          "text": "Stochastic Regression Imputation",
          "x": 0.775,
          "xanchor": "center",
          "xref": "paper",
          "y": 0.6111111111111112,
          "yanchor": "bottom",
          "yref": "paper"
         },
         {
          "font": {
           "size": 16
          },
          "showarrow": false,
          "text": "MICE Imputation",
          "x": 0.225,
          "xanchor": "center",
          "xref": "paper",
          "y": 0.22222222222222224,
          "yanchor": "bottom",
          "yref": "paper"
         },
         {
          "font": {
           "size": 16
          },
          "showarrow": false,
          "text": "KNN Imputation",
          "x": 0.775,
          "xanchor": "center",
          "xref": "paper",
          "y": 0.22222222222222224,
          "yanchor": "bottom",
          "yref": "paper"
         }
        ],
        "dragmode": "lasso",
        "height": 700,
        "selections": [
         {
          "line": {
           "dash": "dot",
           "width": 1
          },
          "path": "M68.4773676880223,72.98726851851852L58.710654596100284,71.65393518518519L49.83182451253482,64.98726851851852L50.12778551532034,65.65393518518519Z",
          "type": "path",
          "xref": "x2",
          "yref": "y2"
         }
        ],
        "showlegend": false,
        "template": {
         "data": {
          "bar": [
           {
            "error_x": {
             "color": "#2a3f5f"
            },
            "error_y": {
             "color": "#2a3f5f"
            },
            "marker": {
             "line": {
              "color": "#E5ECF6",
              "width": 0.5
             },
             "pattern": {
              "fillmode": "overlay",
              "size": 10,
              "solidity": 0.2
             }
            },
            "type": "bar"
           }
          ],
          "barpolar": [
           {
            "marker": {
             "line": {
              "color": "#E5ECF6",
              "width": 0.5
             },
             "pattern": {
              "fillmode": "overlay",
              "size": 10,
              "solidity": 0.2
             }
            },
            "type": "barpolar"
           }
          ],
          "carpet": [
           {
            "aaxis": {
             "endlinecolor": "#2a3f5f",
             "gridcolor": "white",
             "linecolor": "white",
             "minorgridcolor": "white",
             "startlinecolor": "#2a3f5f"
            },
            "baxis": {
             "endlinecolor": "#2a3f5f",
             "gridcolor": "white",
             "linecolor": "white",
             "minorgridcolor": "white",
             "startlinecolor": "#2a3f5f"
            },
            "type": "carpet"
           }
          ],
          "choropleth": [
           {
            "colorbar": {
             "outlinewidth": 0,
             "ticks": ""
            },
            "type": "choropleth"
           }
          ],
          "contour": [
           {
            "colorbar": {
             "outlinewidth": 0,
             "ticks": ""
            },
            "colorscale": [
             [
              0,
              "#0d0887"
             ],
             [
              0.1111111111111111,
              "#46039f"
             ],
             [
              0.2222222222222222,
              "#7201a8"
             ],
             [
              0.3333333333333333,
              "#9c179e"
             ],
             [
              0.4444444444444444,
              "#bd3786"
             ],
             [
              0.5555555555555556,
              "#d8576b"
             ],
             [
              0.6666666666666666,
              "#ed7953"
             ],
             [
              0.7777777777777778,
              "#fb9f3a"
             ],
             [
              0.8888888888888888,
              "#fdca26"
             ],
             [
              1,
              "#f0f921"
             ]
            ],
            "type": "contour"
           }
          ],
          "contourcarpet": [
           {
            "colorbar": {
             "outlinewidth": 0,
             "ticks": ""
            },
            "type": "contourcarpet"
           }
          ],
          "heatmap": [
           {
            "colorbar": {
             "outlinewidth": 0,
             "ticks": ""
            },
            "colorscale": [
             [
              0,
              "#0d0887"
             ],
             [
              0.1111111111111111,
              "#46039f"
             ],
             [
              0.2222222222222222,
              "#7201a8"
             ],
             [
              0.3333333333333333,
              "#9c179e"
             ],
             [
              0.4444444444444444,
              "#bd3786"
             ],
             [
              0.5555555555555556,
              "#d8576b"
             ],
             [
              0.6666666666666666,
              "#ed7953"
             ],
             [
              0.7777777777777778,
              "#fb9f3a"
             ],
             [
              0.8888888888888888,
              "#fdca26"
             ],
             [
              1,
              "#f0f921"
             ]
            ],
            "type": "heatmap"
           }
          ],
          "heatmapgl": [
           {
            "colorbar": {
             "outlinewidth": 0,
             "ticks": ""
            },
            "colorscale": [
             [
              0,
              "#0d0887"
             ],
             [
              0.1111111111111111,
              "#46039f"
             ],
             [
              0.2222222222222222,
              "#7201a8"
             ],
             [
              0.3333333333333333,
              "#9c179e"
             ],
             [
              0.4444444444444444,
              "#bd3786"
             ],
             [
              0.5555555555555556,
              "#d8576b"
             ],
             [
              0.6666666666666666,
              "#ed7953"
             ],
             [
              0.7777777777777778,
              "#fb9f3a"
             ],
             [
              0.8888888888888888,
              "#fdca26"
             ],
             [
              1,
              "#f0f921"
             ]
            ],
            "type": "heatmapgl"
           }
          ],
          "histogram": [
           {
            "marker": {
             "pattern": {
              "fillmode": "overlay",
              "size": 10,
              "solidity": 0.2
             }
            },
            "type": "histogram"
           }
          ],
          "histogram2d": [
           {
            "colorbar": {
             "outlinewidth": 0,
             "ticks": ""
            },
            "colorscale": [
             [
              0,
              "#0d0887"
             ],
             [
              0.1111111111111111,
              "#46039f"
             ],
             [
              0.2222222222222222,
              "#7201a8"
             ],
             [
              0.3333333333333333,
              "#9c179e"
             ],
             [
              0.4444444444444444,
              "#bd3786"
             ],
             [
              0.5555555555555556,
              "#d8576b"
             ],
             [
              0.6666666666666666,
              "#ed7953"
             ],
             [
              0.7777777777777778,
              "#fb9f3a"
             ],
             [
              0.8888888888888888,
              "#fdca26"
             ],
             [
              1,
              "#f0f921"
             ]
            ],
            "type": "histogram2d"
           }
          ],
          "histogram2dcontour": [
           {
            "colorbar": {
             "outlinewidth": 0,
             "ticks": ""
            },
            "colorscale": [
             [
              0,
              "#0d0887"
             ],
             [
              0.1111111111111111,
              "#46039f"
             ],
             [
              0.2222222222222222,
              "#7201a8"
             ],
             [
              0.3333333333333333,
              "#9c179e"
             ],
             [
              0.4444444444444444,
              "#bd3786"
             ],
             [
              0.5555555555555556,
              "#d8576b"
             ],
             [
              0.6666666666666666,
              "#ed7953"
             ],
             [
              0.7777777777777778,
              "#fb9f3a"
             ],
             [
              0.8888888888888888,
              "#fdca26"
             ],
             [
              1,
              "#f0f921"
             ]
            ],
            "type": "histogram2dcontour"
           }
          ],
          "mesh3d": [
           {
            "colorbar": {
             "outlinewidth": 0,
             "ticks": ""
            },
            "type": "mesh3d"
           }
          ],
          "parcoords": [
           {
            "line": {
             "colorbar": {
              "outlinewidth": 0,
              "ticks": ""
             }
            },
            "type": "parcoords"
           }
          ],
          "pie": [
           {
            "automargin": true,
            "type": "pie"
           }
          ],
          "scatter": [
           {
            "fillpattern": {
             "fillmode": "overlay",
             "size": 10,
             "solidity": 0.2
            },
            "type": "scatter"
           }
          ],
          "scatter3d": [
           {
            "line": {
             "colorbar": {
              "outlinewidth": 0,
              "ticks": ""
             }
            },
            "marker": {
             "colorbar": {
              "outlinewidth": 0,
              "ticks": ""
             }
            },
            "type": "scatter3d"
           }
          ],
          "scattercarpet": [
           {
            "marker": {
             "colorbar": {
              "outlinewidth": 0,
              "ticks": ""
             }
            },
            "type": "scattercarpet"
           }
          ],
          "scattergeo": [
           {
            "marker": {
             "colorbar": {
              "outlinewidth": 0,
              "ticks": ""
             }
            },
            "type": "scattergeo"
           }
          ],
          "scattergl": [
           {
            "marker": {
             "colorbar": {
              "outlinewidth": 0,
              "ticks": ""
             }
            },
            "type": "scattergl"
           }
          ],
          "scattermapbox": [
           {
            "marker": {
             "colorbar": {
              "outlinewidth": 0,
              "ticks": ""
             }
            },
            "type": "scattermapbox"
           }
          ],
          "scatterpolar": [
           {
            "marker": {
             "colorbar": {
              "outlinewidth": 0,
              "ticks": ""
             }
            },
            "type": "scatterpolar"
           }
          ],
          "scatterpolargl": [
           {
            "marker": {
             "colorbar": {
              "outlinewidth": 0,
              "ticks": ""
             }
            },
            "type": "scatterpolargl"
           }
          ],
          "scatterternary": [
           {
            "marker": {
             "colorbar": {
              "outlinewidth": 0,
              "ticks": ""
             }
            },
            "type": "scatterternary"
           }
          ],
          "surface": [
           {
            "colorbar": {
             "outlinewidth": 0,
             "ticks": ""
            },
            "colorscale": [
             [
              0,
              "#0d0887"
             ],
             [
              0.1111111111111111,
              "#46039f"
             ],
             [
              0.2222222222222222,
              "#7201a8"
             ],
             [
              0.3333333333333333,
              "#9c179e"
             ],
             [
              0.4444444444444444,
              "#bd3786"
             ],
             [
              0.5555555555555556,
              "#d8576b"
             ],
             [
              0.6666666666666666,
              "#ed7953"
             ],
             [
              0.7777777777777778,
              "#fb9f3a"
             ],
             [
              0.8888888888888888,
              "#fdca26"
             ],
             [
              1,
              "#f0f921"
             ]
            ],
            "type": "surface"
           }
          ],
          "table": [
           {
            "cells": {
             "fill": {
              "color": "#EBF0F8"
             },
             "line": {
              "color": "white"
             }
            },
            "header": {
             "fill": {
              "color": "#C8D4E3"
             },
             "line": {
              "color": "white"
             }
            },
            "type": "table"
           }
          ]
         },
         "layout": {
          "annotationdefaults": {
           "arrowcolor": "#2a3f5f",
           "arrowhead": 0,
           "arrowwidth": 1
          },
          "autotypenumbers": "strict",
          "coloraxis": {
           "colorbar": {
            "outlinewidth": 0,
            "ticks": ""
           }
          },
          "colorscale": {
           "diverging": [
            [
             0,
             "#8e0152"
            ],
            [
             0.1,
             "#c51b7d"
            ],
            [
             0.2,
             "#de77ae"
            ],
            [
             0.3,
             "#f1b6da"
            ],
            [
             0.4,
             "#fde0ef"
            ],
            [
             0.5,
             "#f7f7f7"
            ],
            [
             0.6,
             "#e6f5d0"
            ],
            [
             0.7,
             "#b8e186"
            ],
            [
             0.8,
             "#7fbc41"
            ],
            [
             0.9,
             "#4d9221"
            ],
            [
             1,
             "#276419"
            ]
           ],
           "sequential": [
            [
             0,
             "#0d0887"
            ],
            [
             0.1111111111111111,
             "#46039f"
            ],
            [
             0.2222222222222222,
             "#7201a8"
            ],
            [
             0.3333333333333333,
             "#9c179e"
            ],
            [
             0.4444444444444444,
             "#bd3786"
            ],
            [
             0.5555555555555556,
             "#d8576b"
            ],
            [
             0.6666666666666666,
             "#ed7953"
            ],
            [
             0.7777777777777778,
             "#fb9f3a"
            ],
            [
             0.8888888888888888,
             "#fdca26"
            ],
            [
             1,
             "#f0f921"
            ]
           ],
           "sequentialminus": [
            [
             0,
             "#0d0887"
            ],
            [
             0.1111111111111111,
             "#46039f"
            ],
            [
             0.2222222222222222,
             "#7201a8"
            ],
            [
             0.3333333333333333,
             "#9c179e"
            ],
            [
             0.4444444444444444,
             "#bd3786"
            ],
            [
             0.5555555555555556,
             "#d8576b"
            ],
            [
             0.6666666666666666,
             "#ed7953"
            ],
            [
             0.7777777777777778,
             "#fb9f3a"
            ],
            [
             0.8888888888888888,
             "#fdca26"
            ],
            [
             1,
             "#f0f921"
            ]
           ]
          },
          "colorway": [
           "#636efa",
           "#EF553B",
           "#00cc96",
           "#ab63fa",
           "#FFA15A",
           "#19d3f3",
           "#FF6692",
           "#B6E880",
           "#FF97FF",
           "#FECB52"
          ],
          "font": {
           "color": "#2a3f5f"
          },
          "geo": {
           "bgcolor": "white",
           "lakecolor": "white",
           "landcolor": "#E5ECF6",
           "showlakes": true,
           "showland": true,
           "subunitcolor": "white"
          },
          "hoverlabel": {
           "align": "left"
          },
          "hovermode": "closest",
          "mapbox": {
           "style": "light"
          },
          "paper_bgcolor": "white",
          "plot_bgcolor": "#E5ECF6",
          "polar": {
           "angularaxis": {
            "gridcolor": "white",
            "linecolor": "white",
            "ticks": ""
           },
           "bgcolor": "#E5ECF6",
           "radialaxis": {
            "gridcolor": "white",
            "linecolor": "white",
            "ticks": ""
           }
          },
          "scene": {
           "xaxis": {
            "backgroundcolor": "#E5ECF6",
            "gridcolor": "white",
            "gridwidth": 2,
            "linecolor": "white",
            "showbackground": true,
            "ticks": "",
            "zerolinecolor": "white"
           },
           "yaxis": {
            "backgroundcolor": "#E5ECF6",
            "gridcolor": "white",
            "gridwidth": 2,
            "linecolor": "white",
            "showbackground": true,
            "ticks": "",
            "zerolinecolor": "white"
           },
           "zaxis": {
            "backgroundcolor": "#E5ECF6",
            "gridcolor": "white",
            "gridwidth": 2,
            "linecolor": "white",
            "showbackground": true,
            "ticks": "",
            "zerolinecolor": "white"
           }
          },
          "shapedefaults": {
           "line": {
            "color": "#2a3f5f"
           }
          },
          "ternary": {
           "aaxis": {
            "gridcolor": "white",
            "linecolor": "white",
            "ticks": ""
           },
           "baxis": {
            "gridcolor": "white",
            "linecolor": "white",
            "ticks": ""
           },
           "bgcolor": "#E5ECF6",
           "caxis": {
            "gridcolor": "white",
            "linecolor": "white",
            "ticks": ""
           }
          },
          "title": {
           "x": 0.05
          },
          "xaxis": {
           "automargin": true,
           "gridcolor": "white",
           "linecolor": "white",
           "ticks": "",
           "title": {
            "standoff": 15
           },
           "zerolinecolor": "white",
           "zerolinewidth": 2
          },
          "yaxis": {
           "automargin": true,
           "gridcolor": "white",
           "linecolor": "white",
           "ticks": "",
           "title": {
            "standoff": 15
           },
           "zerolinecolor": "white",
           "zerolinewidth": 2
          }
         }
        },
        "title": {
         "text": "Imputation Method Comparison: Penalties vs Finishing"
        },
        "width": 900,
        "xaxis": {
         "anchor": "y",
         "autorange": true,
         "domain": [
          0,
          0.45
         ],
         "range": [
          -0.7775069637883005,
          97.7775069637883
         ],
         "showspikes": false,
         "type": "linear"
        },
        "xaxis2": {
         "anchor": "y2",
         "autorange": true,
         "domain": [
          0.55,
          1
         ],
         "range": [
          -0.7775069637883014,
          97.7775069637883
         ],
         "showspikes": false,
         "type": "linear"
        },
        "xaxis3": {
         "anchor": "y3",
         "autorange": true,
         "domain": [
          0,
          0.45
         ],
         "range": [
          -0.7775069637883005,
          97.7775069637883
         ],
         "showspikes": false,
         "type": "linear"
        },
        "xaxis4": {
         "anchor": "y4",
         "autorange": true,
         "domain": [
          0.55,
          1
         ],
         "range": [
          -0.7775069637883014,
          97.7775069637883
         ],
         "showspikes": false,
         "type": "linear"
        },
        "xaxis5": {
         "anchor": "y5",
         "autorange": true,
         "domain": [
          0,
          0.45
         ],
         "range": [
          -0.7775069637883005,
          97.7775069637883
         ],
         "showspikes": false,
         "type": "linear"
        },
        "xaxis6": {
         "anchor": "y6",
         "autorange": true,
         "domain": [
          0.55,
          1
         ],
         "range": [
          -0.7775069637883014,
          97.7775069637883
         ],
         "showspikes": false,
         "type": "linear"
        },
        "yaxis": {
         "anchor": "x",
         "autorange": true,
         "domain": [
          0.7777777777777778,
          1
         ],
         "range": [
          12.981481481481481,
          90.01851851851852
         ],
         "showspikes": false,
         "type": "linear"
        },
        "yaxis2": {
         "anchor": "x2",
         "autorange": true,
         "domain": [
          0.7777777777777778,
          1
         ],
         "range": [
          12.981481481481481,
          90.01851851851852
         ],
         "showspikes": false,
         "type": "linear"
        },
        "yaxis3": {
         "anchor": "x3",
         "autorange": true,
         "domain": [
          0.3888888888888889,
          0.6111111111111112
         ],
         "range": [
          12.437411476469164,
          90.0817281541961
         ],
         "showspikes": false,
         "type": "linear"
        },
        "yaxis4": {
         "anchor": "x4",
         "autorange": true,
         "domain": [
          0.3888888888888889,
          0.6111111111111112
         ],
         "range": [
          10.121054122653616,
          114.63933322140873
         ],
         "showspikes": false,
         "type": "linear"
        },
        "yaxis5": {
         "anchor": "x5",
         "autorange": true,
         "domain": [
          0,
          0.22222222222222224
         ],
         "range": [
          12.45715586923994,
          90.0794342657953
         ],
         "showspikes": false,
         "type": "linear"
        },
        "yaxis6": {
         "anchor": "x6",
         "autorange": true,
         "domain": [
          0,
          0.22222222222222224
         ],
         "range": [
          12.981481481481481,
          90.01851851851852
         ],
         "showspikes": false,
         "type": "linear"
        }
       }
      },
      "image/png": "[encoded data removed]",
      "text/html": [
       "<div>                            <div id=\"f13250e4-5023-41f4-aa91-589fd59e8c17\" class=\"plotly-graph-div\" style=\"height:700px; width:900px;\"></div>            <script type=\"text/javascript\">                require([\"plotly\"], function(Plotly) {                    window.PLOTLYENV=window.PLOTLYENV || {};                                    if (document.getElementById(\"f13250e4-5023-41f4-aa91-589fd59e8c17\")) {                    Plotly.newPlot(                        \"f13250e4-5023-41f4-aa91-589fd59e8c17\",                        [{\"marker\":{\"opacity\":0.7,\"size\":10},\"mode\":\"markers\",\"name\":\"Mean Imputation\",\"x\":[67,48,78,22,58,71,63,39,72,64,66,15,66,74,67,61,60,9,84,78,30,70,56,65,71,69,87,57,65,42,64,70,79,58,68,64,64,68,77,41,72,40,58,56,69,70,53,63,91,55,6,74,44,75,57,82,82,30,58,25,56,32,78,38,68,60,31,38,74,69,32,60,74,65,11,77,76,20,35,85],\"y\":[55.04484848484849,50.0,55.04484848484849,55.04484848484849,55.04484848484849,55.04484848484849,54.0,55.04484848484849,55.04484848484849,46.0,55.04484848484849,24.0,55.04484848484849,55.04484848484849,55.04484848484849,55.04484848484849,55.04484848484849,55.04484848484849,81.0,80.0,36.0,80.0,55.04484848484849,55.04484848484849,55.04484848484849,55.04484848484849,55.04484848484849,53.0,52.0,55.04484848484849,63.0,55.04484848484849,55.04484848484849,55.04484848484849,55.04484848484849,55.04484848484849,55.04484848484849,55.04484848484849,55.04484848484849,43.0,55.04484848484849,47.0,55.04484848484849,55.04484848484849,55.04484848484849,55.04484848484849,53.0,55.04484848484849,55.04484848484849,55.04484848484849,55.04484848484849,64.0,55.04484848484849,55.04484848484849,55.04484848484849,55.04484848484849,55.04484848484849,44.0,55.04484848484849,45.0,55.04484848484849,55.04484848484849,60.0,55.04484848484849,55.04484848484849,55.04484848484849,55.04484848484849,39.0,55.04484848484849,55.04484848484849,35.0,55.0,55.04484848484849,55.04484848484849,21.0,55.04484848484849,82.0,55.04484848484849,55.04484848484849,55.04484848484849],\"type\":\"scatter\",\"xaxis\":\"x\",\"yaxis\":\"y\"},{\"line\":{\"dash\":\"dash\"},\"mode\":\"lines\",\"name\":\"Trendline\",\"x\":[6.0,6.858585858585858,7.717171717171717,8.575757575757576,9.434343434343434,10.292929292929292,11.151515151515152,12.01010101010101,12.868686868686869,13.727272727272727,14.585858585858585,15.444444444444445,16.303030303030305,17.16161616161616,18.02020202020202,18.87878787878788,19.737373737373737,20.595959595959595,21.454545454545453,22.31313131313131,23.17171717171717,24.03030303030303,24.88888888888889,25.747474747474747,26.606060606060606,27.464646464646464,28.32323232323232,29.18181818181818,30.04040404040404,30.8989898989899,31.757575757575758,32.61616161616162,33.474747474747474,34.33333333333333,35.19191919191919,36.05050505050505,36.90909090909091,37.76767676767677,38.62626262626262,39.484848484848484,40.34343434343434,41.2020202020202,42.06060606060606,42.91919191919192,43.77777777777778,44.63636363636363,45.494949494949495,46.35353535353535,47.21212121212121,48.07070707070707,48.92929292929293,49.78787878787879,50.64646464646464,51.505050505050505,52.36363636363636,53.22222222222222,54.08080808080808,54.93939393939394,55.7979797979798,56.656565656565654,57.515151515151516,58.37373737373737,59.23232323232323,60.090909090909086,60.94949494949495,61.80808080808081,62.666666666666664,63.525252525252526,64.38383838383838,65.24242424242425,66.1010101010101,66.95959595959596,67.81818181818181,68.67676767676767,69.53535353535354,70.39393939393939,71.25252525252525,72.11111111111111,72.96969696969697,73.82828282828282,74.68686868686868,75.54545454545455,76.4040404040404,77.26262626262626,78.12121212121212,78.97979797979798,79.83838383838383,80.69696969696969,81.55555555555556,82.41414141414141,83.27272727272727,84.13131313131314,84.98989898989899,85.84848484848484,86.7070707070707,87.56565656565657,88.42424242424242,89.28282828282828,90.14141414141415,91.0],\"y\":[41.353539265830214,41.56608812735865,41.77863698888709,41.99118585041552,42.20373471194396,42.41628357347239,42.62883243500083,42.84138129652926,43.0539301580577,43.266479019586136,43.479027881114575,43.69157674264301,43.90412560417145,44.11667446569988,44.32922332722832,44.54177218875675,44.75432105028519,44.96686991181363,45.179418773342064,45.3919676348705,45.60451649639894,45.817065357927376,46.02961421945581,46.24216308098425,46.45471194251268,46.66726080404112,46.87980966556955,47.09235852709799,47.304907388626425,47.517456250154865,47.7300051116833,47.94255397321174,48.15510283474017,48.36765169626861,48.58020055779704,48.79274941932548,49.005298280853914,49.217847142382354,49.430396003910786,49.642944865439226,49.85549372696766,50.0680425884961,50.28059145002453,50.49314031155297,50.70568917308141,50.91823803460984,51.130786896138275,51.343335757666715,51.555884619195155,51.76843348072359,51.98098234225202,52.19353120378046,52.4060800653089,52.61862892683733,52.831177788365764,53.043726649894204,53.25627551142264,53.468824372951076,53.681373234479516,53.89392209600795,54.10647095753639,54.31901981906482,54.53156868059326,54.74411754212169,54.95666640365013,55.169215265178565,55.381764126707004,55.59431298823544,55.80686184976388,56.01941071129231,56.23195957282075,56.44450843434918,56.65705729587762,56.869606157406054,57.08215501893449,57.294703880462926,57.507252741991365,57.7198016035198,57.93235046504824,58.14489932657667,58.35744818810511,58.56999704963354,58.78254591116198,58.995094772690415,59.207643634218854,59.42019249574729,59.63274135727573,59.84529021880416,60.0578390803326,60.27038794186103,60.48293680338947,60.69548566491791,60.90803452644634,61.120583387974776,61.333132249503215,61.545681111031655,61.75822997256009,61.97077883408852,62.18332769561697,62.3958765571454],\"type\":\"scatter\",\"xaxis\":\"x\",\"yaxis\":\"y\"},{\"marker\":{\"opacity\":0.7,\"size\":10},\"mode\":\"markers\",\"name\":\"Mode Imputation\",\"x\":[67,48,78,22,58,71,63,39,72,64,66,15,66,74,67,61,60,9,84,78,30,70,56,65,71,69,87,57,65,42,64,70,79,58,68,64,64,68,77,41,72,40,58,56,69,70,53,63,91,55,6,74,44,75,57,82,82,30,58,25,56,32,78,38,68,60,31,38,74,69,32,60,74,65,11,77,76,20,35,85],\"y\":[58.0,50.0,58.0,58.0,58.0,58.0,54.0,58.0,58.0,46.0,58.0,24.0,58.0,58.0,58.0,58.0,58.0,58.0,81.0,80.0,36.0,80.0,58.0,58.0,58.0,58.0,58.0,53.0,52.0,58.0,63.0,58.0,58.0,58.0,58.0,58.0,58.0,58.0,58.0,43.0,58.0,47.0,58.0,58.0,58.0,58.0,53.0,58.0,58.0,58.0,58.0,64.0,58.0,58.0,58.0,58.0,58.0,44.0,58.0,45.0,58.0,58.0,60.0,58.0,58.0,58.0,58.0,39.0,58.0,58.0,35.0,55.0,58.0,58.0,21.0,58.0,82.0,58.0,58.0,58.0],\"type\":\"scatter\",\"xaxis\":\"x2\",\"yaxis\":\"y2\"},{\"line\":{\"dash\":\"dash\"},\"mode\":\"lines\",\"name\":\"Trendline\",\"x\":[6.0,6.858585858585858,7.717171717171717,8.575757575757576,9.434343434343434,10.292929292929292,11.151515151515152,12.01010101010101,12.868686868686869,13.727272727272727,14.585858585858585,15.444444444444445,16.303030303030305,17.16161616161616,18.02020202020202,18.87878787878788,19.737373737373737,20.595959595959595,21.454545454545453,22.31313131313131,23.17171717171717,24.03030303030303,24.88888888888889,25.747474747474747,26.606060606060606,27.464646464646464,28.32323232323232,29.18181818181818,30.04040404040404,30.8989898989899,31.757575757575758,32.61616161616162,33.474747474747474,34.33333333333333,35.19191919191919,36.05050505050505,36.90909090909091,37.76767676767677,38.62626262626262,39.484848484848484,40.34343434343434,41.2020202020202,42.06060606060606,42.91919191919192,43.77777777777778,44.63636363636363,45.494949494949495,46.35353535353535,47.21212121212121,48.07070707070707,48.92929292929293,49.78787878787879,50.64646464646464,51.505050505050505,52.36363636363636,53.22222222222222,54.08080808080808,54.93939393939394,55.7979797979798,56.656565656565654,57.515151515151516,58.37373737373737,59.23232323232323,60.090909090909086,60.94949494949495,61.80808080808081,62.666666666666664,63.525252525252526,64.38383838383838,65.24242424242425,66.1010101010101,66.95959595959596,67.81818181818181,68.67676767676767,69.53535353535354,70.39393939393939,71.25252525252525,72.11111111111111,72.96969696969697,73.82828282828282,74.68686868686868,75.54545454545455,76.4040404040404,77.26262626262626,78.12121212121212,78.97979797979798,79.83838383838383,80.69696969696969,81.55555555555556,82.41414141414141,83.27272727272727,84.13131313131314,84.98989898989899,85.84848484848484,86.7070707070707,87.56565656565657,88.42424242424242,89.28282828282828,90.14141414141415,91.0],\"y\":[42.721547531029145,42.94619842793176,43.170849324834386,43.395500221737,43.62015111863962,43.84480201554224,44.06945291244486,44.294103809347476,44.51875470625009,44.743405603152716,44.96805650005533,45.19270739695795,45.417358293860566,45.64200919076319,45.86666008766581,46.09131098456842,46.31596188147104,46.540612778373664,46.76526367527628,46.9899145721789,47.21456546908151,47.43921636598414,47.663867262886754,47.88851815978937,48.11316905669199,48.33781995359461,48.56247085049723,48.787121747399844,49.01177264430247,49.236423541205085,49.4610744381077,49.68572533501032,49.910376231912934,50.13502712881555,50.359678025718175,50.58432892262079,50.808979819523415,51.03363071642603,51.25828161332865,51.482932510231265,51.70758340713388,51.932234304036506,52.15688520093912,52.38153609784174,52.60618699474436,52.83083789164698,53.055488788549596,53.28013968545221,53.50479058235483,53.72944147925745,53.95409237616007,54.178743273062686,54.40339416996531,54.62804506686793,54.85269596377054,55.07734686067316,55.30199775757578,55.5266486544784,55.75129955138102,55.97595044828363,56.20060134518626,56.425252242088874,56.64990313899149,56.87455403589411,57.099204932796724,57.32385582969935,57.548506726601964,57.77315762350459,57.997808520407204,58.22245941730982,58.44711031421244,58.671761211115054,58.89641210801767,59.12106300492029,59.34571390182292,59.570364798725535,59.79501569562815,60.01966659253077,60.244317489433385,60.468968386336,60.69361928323862,60.91827018014124,61.14292107704386,61.36757197394648,61.5922228708491,61.816873767751716,62.04152466465433,62.26617556155695,62.49082645845957,62.71547735536219,62.940128252264806,63.16477914916743,63.389430046070046,63.61408094297266,63.83873183987528,64.0633827367779,64.28803363368053,64.51268453058313,64.73733542748576,64.96198632438838],\"type\":\"scatter\",\"xaxis\":\"x2\",\"yaxis\":\"y2\"},{\"marker\":{\"opacity\":0.7,\"size\":10},\"mode\":\"markers\",\"name\":\"Linear Regression Imputation\",\"x\":[67,48,78,22,58,71,63,39,72,64,66,15,66,74,67,61,60,9,84,78,30,70,56,65,71,69,87,57,65,42,64,70,79,58,68,64,64,68,77,41,72,40,58,56,69,70,53,63,91,55,6,74,44,75,57,82,82,30,58,25,56,32,78,38,68,60,31,38,74,69,32,60,74,65,11,77,76,20,35,85],\"y\":[62.16598282545843,50.0,69.67606930320801,31.442901780119207,56.02136661639059,64.89692336282192,54.0,43.049399063914024,65.5796584971628,46.0,61.483247691117555,24.0,61.483247691117555,66.94512876584453,62.16598282545843,58.0695720194132,57.38683688507233,22.567345033687875,81.0,80.0,36.0,80.0,54.65589634770884,60.80051255677669,64.89692336282192,63.531453094140176,75.82068551227587,53.0,52.0,45.09760446693664,63.0,64.21418822848105,70.35880443754888,56.02136661639059,62.8487179597993,60.117777422435815,60.117777422435815,62.8487179597993,68.99333416886714,43.0,65.5796584971628,47.0,56.02136661639059,54.65589634770884,63.531453094140176,64.21418822848105,53.0,59.43504228809494,78.55162604963934,53.97316121336797,20.519139630665258,64.0,46.46307473561838,67.6278639001854,55.33863148204971,72.4070098405715,72.4070098405715,44.0,56.02136661639059,45.0,54.65589634770884,38.27025312352792,60.0,42.36666392957315,62.8487179597993,57.38683688507233,37.58751798918705,39.0,66.94512876584453,63.531453094140176,35.0,55.0,66.94512876584453,60.80051255677669,21.0,68.99333416886714,82.0,30.077431511437464,40.318458526550536,74.45521524359413],\"type\":\"scatter\",\"xaxis\":\"x3\",\"yaxis\":\"y3\"},{\"line\":{\"dash\":\"dash\"},\"mode\":\"lines\",\"name\":\"Trendline\",\"x\":[6.0,6.858585858585858,7.717171717171717,8.575757575757576,9.434343434343434,10.292929292929292,11.151515151515152,12.01010101010101,12.868686868686869,13.727272727272727,14.585858585858585,15.444444444444445,16.303030303030305,17.16161616161616,18.02020202020202,18.87878787878788,19.737373737373737,20.595959595959595,21.454545454545453,22.31313131313131,23.17171717171717,24.03030303030303,24.88888888888889,25.747474747474747,26.606060606060606,27.464646464646464,28.32323232323232,29.18181818181818,30.04040404040404,30.8989898989899,31.757575757575758,32.61616161616162,33.474747474747474,34.33333333333333,35.19191919191919,36.05050505050505,36.90909090909091,37.76767676767677,38.62626262626262,39.484848484848484,40.34343434343434,41.2020202020202,42.06060606060606,42.91919191919192,43.77777777777778,44.63636363636363,45.494949494949495,46.35353535353535,47.21212121212121,48.07070707070707,48.92929292929293,49.78787878787879,50.64646464646464,51.505050505050505,52.36363636363636,53.22222222222222,54.08080808080808,54.93939393939394,55.7979797979798,56.656565656565654,57.515151515151516,58.37373737373737,59.23232323232323,60.090909090909086,60.94949494949495,61.80808080808081,62.666666666666664,63.525252525252526,64.38383838383838,65.24242424242425,66.1010101010101,66.95959595959596,67.81818181818181,68.67676767676767,69.53535353535354,70.39393939393939,71.25252525252525,72.11111111111111,72.96969696969697,73.82828282828282,74.68686868686868,75.54545454545455,76.4040404040404,77.26262626262626,78.12121212121212,78.97979797979798,79.83838383838383,80.69696969696969,81.55555555555556,82.41414141414141,83.27272727272727,84.13131313131314,84.98989898989899,85.84848484848484,86.7070707070707,87.56565656565657,88.42424242424242,89.28282828282828,90.14141414141415,91.0],\"y\":[20.27735760187947,20.870121884303188,21.46288616672691,22.055650449150633,22.648414731574352,23.24117901399807,23.833943296421793,24.426707578845516,25.019471861269235,25.612236143692954,26.205000426116676,26.7977647085404,27.390528990964118,27.983293273387837,28.57605755581156,29.16882183823528,29.761586120659,30.35435040308272,30.947114685506442,31.53987896793016,32.13264325035388,32.72540753277761,33.318171815201325,33.91093609762504,34.50370038004877,35.096464662472485,35.68922894489621,36.28199322731993,36.874757509743645,37.467521792167375,38.06028607459109,38.65305035701481,39.245814639438535,39.83857892186225,40.43134320428597,41.024107486709696,41.61687176913341,42.20963605155714,42.802400333980856,43.39516461640457,43.987928898828294,44.580693181252016,45.17345746367574,45.76622174609946,46.35898602852318,46.9517503109469,47.54451459337062,48.13727887579434,48.73004315821806,49.32280744064178,49.915571723065504,50.50833600548923,51.10110028791294,51.693864570336665,52.28662885276039,52.87939313518411,53.47215741760783,54.06492170003155,54.65768598245527,55.25045026487899,55.843214547302715,56.43597882972643,57.02874311215015,57.62150739457387,58.21427167699759,58.80703595942131,59.399800241845035,59.99256452426876,60.58532880669247,61.1780930891162,61.77085737153992,62.36362165396364,62.956385936387356,63.54915021881107,64.1419145012348,64.73467878365852,65.32744306608224,65.92020734850597,66.51297163092968,67.1057359133534,67.69850019577711,68.29126447820084,68.88402876062457,69.47679304304827,70.069557325472,70.66232160789573,71.25508589031945,71.84785017274316,72.4406144551669,73.03337873759061,73.62614302001433,74.21890730243805,74.81167158486178,75.40443586728549,75.99720014970922,76.58996443213294,77.18272871455665,77.77549299698038,78.3682572794041,78.96102156182782],\"type\":\"scatter\",\"xaxis\":\"x3\",\"yaxis\":\"y3\"},{\"marker\":{\"opacity\":0.7,\"size\":10},\"mode\":\"markers\",\"name\":\"Stochastic Regression Imputation\",\"x\":[67,48,78,22,58,71,63,39,72,64,66,15,66,74,67,61,60,9,84,78,30,70,56,65,71,69,87,57,65,42,64,70,79,58,68,64,64,68,77,41,72,40,58,56,69,70,53,63,91,55,6,74,44,75,57,82,82,30,58,25,56,32,78,38,68,60,31,38,74,69,32,60,74,65,11,77,76,20,35,85],\"y\":[59.341985488875316,50.0,77.35124884446941,25.505490902330443,54.02890606316052,71.72319940176098,54.0,51.1445929117889,71.24956908661675,46.0,67.10010866307387,24.0,75.42266155188291,62.307877410718774,49.32864140733485,58.989052174607195,62.35172744921654,22.40469268267013,81.0,80.0,36.0,80.0,45.99877496821855,52.80830981495295,45.48277839728211,51.984687346942195,85.45198961175436,53.0,52.0,42.919368492521585,63.0,65.22428830367238,74.7958313074533,49.759938259426185,57.218104740420834,58.42094214486723,77.6219644277097,72.46701541360454,70.37500885433936,43.0,57.09869201133341,47.0,44.80429592219605,56.725375110092045,59.44547711912732,66.6186879253958,53.0,61.217058031285156,103.76038734406235,53.59384664961392,21.57309447084172,64.0,50.51168863889089,64.93433066015872,71.05242629106093,91.87114572359842,76.03800383310465,44.0,73.83170885079215,45.0,43.23514934810022,46.80700711742185,60.0,45.60120950641282,60.947008310816884,54.573625401531324,45.2922136471686,39.0,59.29743964033949,53.17734305549949,35.0,55.0,70.16691656832687,57.40764769447487,21.0,56.72431046835786,82.0,40.87715978779573,35.365292791508494,65.19491510594449],\"type\":\"scatter\",\"xaxis\":\"x4\",\"yaxis\":\"y4\"},{\"line\":{\"dash\":\"dash\"},\"mode\":\"lines\",\"name\":\"Trendline\",\"x\":[6.0,6.858585858585858,7.717171717171717,8.575757575757576,9.434343434343434,10.292929292929292,11.151515151515152,12.01010101010101,12.868686868686869,13.727272727272727,14.585858585858585,15.444444444444445,16.303030303030305,17.16161616161616,18.02020202020202,18.87878787878788,19.737373737373737,20.595959595959595,21.454545454545453,22.31313131313131,23.17171717171717,24.03030303030303,24.88888888888889,25.747474747474747,26.606060606060606,27.464646464646464,28.32323232323232,29.18181818181818,30.04040404040404,30.8989898989899,31.757575757575758,32.61616161616162,33.474747474747474,34.33333333333333,35.19191919191919,36.05050505050505,36.90909090909091,37.76767676767677,38.62626262626262,39.484848484848484,40.34343434343434,41.2020202020202,42.06060606060606,42.91919191919192,43.77777777777778,44.63636363636363,45.494949494949495,46.35353535353535,47.21212121212121,48.07070707070707,48.92929292929293,49.78787878787879,50.64646464646464,51.505050505050505,52.36363636363636,53.22222222222222,54.08080808080808,54.93939393939394,55.7979797979798,56.656565656565654,57.515151515151516,58.37373737373737,59.23232323232323,60.090909090909086,60.94949494949495,61.80808080808081,62.666666666666664,63.525252525252526,64.38383838383838,65.24242424242425,66.1010101010101,66.95959595959596,67.81818181818181,68.67676767676767,69.53535353535354,70.39393939393939,71.25252525252525,72.11111111111111,72.96969696969697,73.82828282828282,74.68686868686868,75.54545454545455,76.4040404040404,77.26262626262626,78.12121212121212,78.97979797979798,79.83838383838383,80.69696969696969,81.55555555555556,82.41414141414141,83.27272727272727,84.13131313131314,84.98989898989899,85.84848484848484,86.7070707070707,87.56565656565657,88.42424242424242,89.28282828282828,90.14141414141415,91.0],\"y\":[20.635851619949797,21.231211808316576,21.826571996683356,22.42193218505013,23.01729237341691,23.61265256178369,24.208012750150466,24.803372938517246,25.398733126884025,25.9940933152508,26.589453503617577,27.18481369198436,27.780173880351136,28.37553406871791,28.97089425708469,29.56625444545147,30.161614633818246,30.756974822185025,31.352335010551805,31.94769519891858,32.54305538728536,33.13841557565214,33.733775764018915,34.3291359523857,34.92449614075247,35.51985632911925,36.115216517486026,36.7105767058528,37.305936894219585,37.90129708258636,38.496657270953136,39.09201745931992,39.687377647686695,40.28273783605347,40.878098024420254,41.47345821278703,42.068818401153806,42.66417858952059,43.25953877788736,43.85489896625414,44.450259154620916,45.04561934298769,45.640979531354475,46.23633971972125,46.831699908088034,47.42706009645481,48.02242028482159,48.61778047318836,49.213140661555144,49.80850084992193,50.403861038288696,50.99922122665548,51.59458141502225,52.18994160338903,52.78530179175581,53.380661980122596,53.976022168489365,54.57138235685615,55.16674254522293,55.7621027335897,56.35746292195648,56.95282311032325,57.548183298690034,58.14354348705682,58.738903675423586,59.33426386379037,59.92962405215715,60.52498424052392,61.120344428890704,61.71570461725749,62.311064805624255,62.90642499399104,63.50178518235781,64.09714537072459,64.69250555909137,65.28786574745814,65.88322593582492,66.47858612419171,67.07394631255849,67.66930650092526,68.26466668929203,68.86002687765883,69.4553870660256,70.05074725439236,70.64610744275916,71.24146763112593,71.83682781949271,72.43218800785948,73.02754819622626,73.62290838459305,74.21826857295981,74.8136287613266,75.40898894969338,76.00434913806015,76.59970932642693,77.19506951479372,77.79042970316048,78.38578989152727,78.98115007989405,79.57651026826082],\"type\":\"scatter\",\"xaxis\":\"x4\",\"yaxis\":\"y4\"},{\"marker\":{\"opacity\":0.7,\"size\":10},\"mode\":\"markers\",\"name\":\"MICE Imputation\",\"x\":[67.0,48.0,78.0,22.0,58.0,71.0,63.0,39.0,72.0,64.0,66.0,15.0,66.0,74.0,67.0,61.0,60.0,9.0,84.0,78.0,30.0,70.0,56.0,65.0,71.0,69.0,87.0,57.0,65.0,42.0,64.0,70.0,79.0,58.0,68.0,64.0,64.0,68.0,77.0,41.0,72.0,40.0,58.0,56.0,69.0,70.0,53.0,63.0,91.0,55.0,6.0,74.0,44.0,75.0,57.0,82.0,82.0,30.0,58.0,25.0,56.0,32.0,78.0,38.0,68.0,60.0,31.0,38.0,74.0,69.0,32.0,60.0,74.0,65.0,11.0,77.0,76.0,20.0,35.0,85.0],\"y\":[61.75696931851566,50.0,69.03289437267628,32.47558945041533,51.4351818894003,60.867157621134865,54.0,41.15025066605477,60.40963313948201,46.0,64.39828637566505,24.0,48.52582704734393,69.84069827747615,59.89537556116769,72.18773246740207,55.78470888657203,23.330378465610636,81.0,80.0,36.0,80.0,49.30804743903862,58.41474363958673,63.01711041349718,64.4095474616301,76.43098515171515,53.0,52.0,50.785802286806245,63.0,58.363494721328486,66.98595343113386,57.92013909745279,64.64953680187864,55.898367598868276,58.16620252526309,60.70222598327298,64.30640852851293,43.0,60.940001254609186,47.0,54.946145509350295,50.47589959459904,59.88633927452673,71.75532449231184,53.0,53.30725742898386,74.24926488382306,55.08223871299201,20.536590135035247,64.0,45.878517471938885,67.20623009266038,57.42506920714502,73.80087304194416,68.65624123934137,44.0,58.92939084149872,45.0,57.22520882568629,40.62141480882134,60.0,40.16387931969893,61.60014176953416,58.25962563529038,41.41444719532827,39.0,77.10414683422118,58.54876526352621,35.0,55.0,64.21980715320166,56.67183353757779,21.0,69.51708983144292,82.0,31.967922051763765,39.015610500010744,70.2239679780732],\"type\":\"scatter\",\"xaxis\":\"x5\",\"yaxis\":\"y5\"},{\"line\":{\"dash\":\"dash\"},\"mode\":\"lines\",\"name\":\"Trendline\",\"x\":[6.0,6.858585858585858,7.717171717171717,8.575757575757576,9.434343434343434,10.292929292929292,11.151515151515152,12.01010101010101,12.868686868686869,13.727272727272727,14.585858585858585,15.444444444444445,16.303030303030305,17.16161616161616,18.02020202020202,18.87878787878788,19.737373737373737,20.595959595959595,21.454545454545453,22.31313131313131,23.17171717171717,24.03030303030303,24.88888888888889,25.747474747474747,26.606060606060606,27.464646464646464,28.32323232323232,29.18181818181818,30.04040404040404,30.8989898989899,31.757575757575758,32.61616161616162,33.474747474747474,34.33333333333333,35.19191919191919,36.05050505050505,36.90909090909091,37.76767676767677,38.62626262626262,39.484848484848484,40.34343434343434,41.2020202020202,42.06060606060606,42.91919191919192,43.77777777777778,44.63636363636363,45.494949494949495,46.35353535353535,47.21212121212121,48.07070707070707,48.92929292929293,49.78787878787879,50.64646464646464,51.505050505050505,52.36363636363636,53.22222222222222,54.08080808080808,54.93939393939394,55.7979797979798,56.656565656565654,57.515151515151516,58.37373737373737,59.23232323232323,60.090909090909086,60.94949494949495,61.80808080808081,62.666666666666664,63.525252525252526,64.38383838383838,65.24242424242425,66.1010101010101,66.95959595959596,67.81818181818181,68.67676767676767,69.53535353535354,70.39393939393939,71.25252525252525,72.11111111111111,72.96969696969697,73.82828282828282,74.68686868686868,75.54545454545455,76.4040404040404,77.26262626262626,78.12121212121212,78.97979797979798,79.83838383838383,80.69696969696969,81.55555555555556,82.41414141414141,83.27272727272727,84.13131313131314,84.98989898989899,85.84848484848484,86.7070707070707,87.56565656565657,88.42424242424242,89.28282828282828,90.14141414141415,91.0],\"y\":[21.48572052601096,22.049405083689884,22.613089641368802,23.17677419904772,23.74045875672664,24.304143314405557,24.86782787208448,25.431512429763398,25.99519698744232,26.55888154512124,27.122566102800157,27.686250660479075,28.249935218157997,28.813619775836912,29.377304333515838,29.940988891194756,30.504673448873675,31.068358006552593,31.63204256423151,32.19572712191043,32.75941167958935,33.323096237268274,33.88678079494719,34.45046535262611,35.01414991030503,35.57783446798395,36.14151902566287,36.705203583341785,37.26888814102071,37.83257269869963,38.39625725637855,38.95994181405747,39.523626371736384,40.0873109294153,40.65099548709422,41.21468004477315,41.778364602452065,42.34204916013098,42.9057337178099,43.46941827548882,44.033102833167746,44.59678739084666,45.16047194852558,45.7241565062045,46.28784106388342,46.85152562156234,47.41521017924126,47.97889473692018,48.5425792945991,49.10626385227802,49.66994840995694,50.233632967635856,50.797317525314774,51.3610020829937,51.92468664067261,52.48837119835154,53.052055756030455,53.615740313709374,54.1794248713883,54.74310942906721,55.306793986746136,55.870478544425055,56.43416310210397,56.99784765978289,57.56153221746181,58.125216775140736,58.68890133281965,59.25258589049857,59.81627044817749,60.37995500585642,60.943639563535335,61.507324121214246,62.071008678893165,62.63469323657208,63.19837779425101,63.76206235192993,64.32574690960885,64.88943146728778,65.45311602496668,66.0168005826456,66.58048514032453,67.14416969800345,67.70785425568236,68.27153881336127,68.8352233710402,69.39890792871913,69.96259248639804,70.52627704407695,71.08996160175587,71.6536461594348,72.21733071711373,72.78101527479265,73.34469983247156,73.90838439015047,74.4720689478294,75.03575350550832,75.59943806318724,76.16312262086615,76.72680717854507,77.290491736224],\"type\":\"scatter\",\"xaxis\":\"x5\",\"yaxis\":\"y5\"},{\"marker\":{\"opacity\":0.7,\"size\":10},\"mode\":\"markers\",\"name\":\"KNN Imputation\",\"x\":[67.0,48.0,78.0,22.0,58.0,71.0,63.0,39.0,72.0,64.0,66.0,15.0,66.0,74.0,67.0,61.0,60.0,9.0,84.0,78.0,30.0,70.0,56.0,65.0,71.0,69.0,87.0,57.0,65.0,42.0,64.0,70.0,79.0,58.0,68.0,64.0,64.0,68.0,77.0,41.0,72.0,40.0,58.0,56.0,69.0,70.0,53.0,63.0,91.0,55.0,6.0,74.0,44.0,75.0,57.0,82.0,82.0,30.0,58.0,25.0,56.0,32.0,78.0,38.0,68.0,60.0,31.0,38.0,74.0,69.0,32.0,60.0,74.0,65.0,11.0,77.0,76.0,20.0,35.0,85.0],\"y\":[47.8,50.0,56.2,39.0,55.4,72.0,54.0,37.0,55.2,46.0,62.8,24.0,54.2,61.2,55.4,47.2,63.6,39.8,81.0,80.0,36.0,80.0,61.0,46.4,39.4,48.8,58.0,53.0,52.0,60.8,63.0,52.8,52.0,58.2,61.4,57.2,47.8,58.0,54.8,43.0,44.8,47.0,66.4,60.4,59.4,39.8,53.0,61.4,68.6,53.8,61.4,64.0,50.4,57.6,41.8,63.2,67.6,44.0,52.2,45.0,38.4,61.8,60.0,53.4,57.2,38.8,55.4,39.0,64.2,47.2,35.0,55.0,45.2,42.2,21.0,57.0,82.0,44.2,59.0,42.6],\"type\":\"scatter\",\"xaxis\":\"x6\",\"yaxis\":\"y6\"},{\"line\":{\"dash\":\"dash\"},\"mode\":\"lines\",\"name\":\"Trendline\",\"x\":[6.0,6.858585858585858,7.717171717171717,8.575757575757576,9.434343434343434,10.292929292929292,11.151515151515152,12.01010101010101,12.868686868686869,13.727272727272727,14.585858585858585,15.444444444444445,16.303030303030305,17.16161616161616,18.02020202020202,18.87878787878788,19.737373737373737,20.595959595959595,21.454545454545453,22.31313131313131,23.17171717171717,24.03030303030303,24.88888888888889,25.747474747474747,26.606060606060606,27.464646464646464,28.32323232323232,29.18181818181818,30.04040404040404,30.8989898989899,31.757575757575758,32.61616161616162,33.474747474747474,34.33333333333333,35.19191919191919,36.05050505050505,36.90909090909091,37.76767676767677,38.62626262626262,39.484848484848484,40.34343434343434,41.2020202020202,42.06060606060606,42.91919191919192,43.77777777777778,44.63636363636363,45.494949494949495,46.35353535353535,47.21212121212121,48.07070707070707,48.92929292929293,49.78787878787879,50.64646464646464,51.505050505050505,52.36363636363636,53.22222222222222,54.08080808080808,54.93939393939394,55.7979797979798,56.656565656565654,57.515151515151516,58.37373737373737,59.23232323232323,60.090909090909086,60.94949494949495,61.80808080808081,62.666666666666664,63.525252525252526,64.38383838383838,65.24242424242425,66.1010101010101,66.95959595959596,67.81818181818181,68.67676767676767,69.53535353535354,70.39393939393939,71.25252525252525,72.11111111111111,72.96969696969697,73.82828282828282,74.68686868686868,75.54545454545455,76.4040404040404,77.26262626262626,78.12121212121212,78.97979797979798,79.83838383838383,80.69696969696969,81.55555555555556,82.41414141414141,83.27272727272727,84.13131313131314,84.98989898989899,85.84848484848484,86.7070707070707,87.56565656565657,88.42424242424242,89.28282828282828,90.14141414141415,91.0],\"y\":[37.234272308935715,37.49825940468836,37.76224650044101,38.026233596193656,38.2902206919463,38.55420778769895,38.818194883451596,39.08218197920424,39.34616907495689,39.61015617070953,39.87414326646218,40.138130362214824,40.40211745796747,40.66610455372012,40.930091649472764,41.19407874522541,41.45806584097806,41.722052936730705,41.98604003248335,42.250027128236,42.51401422398864,42.77800131974129,43.04198841549393,43.30597551124658,43.569962606999226,43.83394970275187,44.09793679850452,44.36192389425717,44.625910990009814,44.88989808576246,45.15388518151511,45.417872277267755,45.6818593730204,45.94584646877304,46.20983356452569,46.473820660278335,46.73780775603098,47.00179485178363,47.265781947536276,47.52976904328892,47.79375613904156,48.057743234794216,48.321730330546856,48.5857174262995,48.84970452205215,49.1136916178048,49.377678713557444,49.64166580931009,49.90565290506274,50.169640000815384,50.43362709656803,50.69761419232068,50.961601288073325,51.225588383825965,51.48957547957862,51.75356257533126,52.01754967108391,52.28153676683655,52.5455238625892,52.809510958341846,53.07349805409449,53.33748514984714,53.60147224559978,53.865459341352434,54.129446437105074,54.39343353285773,54.65742062861037,54.92140772436302,55.18539482011566,55.449381915868315,55.713369011620955,55.9773561073736,56.24134320312625,56.50533029887889,56.76931739463154,57.03330449038418,57.29729158613683,57.561278681889476,57.82526577764213,58.08925287339477,58.35323996914741,58.617227064900064,58.88121416065271,59.14520125640536,59.409188352158004,59.67317544791065,59.93716254366329,60.20114963941594,60.465136735168585,60.72912383092123,60.99311092667388,61.25709802242653,61.52108511817917,61.78507221393182,62.049059309684466,62.31304640543711,62.57703350118976,62.8410205969424,63.105007692695054,63.368994788447694],\"type\":\"scatter\",\"xaxis\":\"x6\",\"yaxis\":\"y6\"}],                        {\"template\":{\"data\":{\"histogram2dcontour\":[{\"type\":\"histogram2dcontour\",\"colorbar\":{\"outlinewidth\":0,\"ticks\":\"\"},\"colorscale\":[[0.0,\"#0d0887\"],[0.1111111111111111,\"#46039f\"],[0.2222222222222222,\"#7201a8\"],[0.3333333333333333,\"#9c179e\"],[0.4444444444444444,\"#bd3786\"],[0.5555555555555556,\"#d8576b\"],[0.6666666666666666,\"#ed7953\"],[0.7777777777777778,\"#fb9f3a\"],[0.8888888888888888,\"#fdca26\"],[1.0,\"#f0f921\"]]}],\"choropleth\":[{\"type\":\"choropleth\",\"colorbar\":{\"outlinewidth\":0,\"ticks\":\"\"}}],\"histogram2d\":[{\"type\":\"histogram2d\",\"colorbar\":{\"outlinewidth\":0,\"ticks\":\"\"},\"colorscale\":[[0.0,\"#0d0887\"],[0.1111111111111111,\"#46039f\"],[0.2222222222222222,\"#7201a8\"],[0.3333333333333333,\"#9c179e\"],[0.4444444444444444,\"#bd3786\"],[0.5555555555555556,\"#d8576b\"],[0.6666666666666666,\"#ed7953\"],[0.7777777777777778,\"#fb9f3a\"],[0.8888888888888888,\"#fdca26\"],[1.0,\"#f0f921\"]]}],\"heatmap\":[{\"type\":\"heatmap\",\"colorbar\":{\"outlinewidth\":0,\"ticks\":\"\"},\"colorscale\":[[0.0,\"#0d0887\"],[0.1111111111111111,\"#46039f\"],[0.2222222222222222,\"#7201a8\"],[0.3333333333333333,\"#9c179e\"],[0.4444444444444444,\"#bd3786\"],[0.5555555555555556,\"#d8576b\"],[0.6666666666666666,\"#ed7953\"],[0.7777777777777778,\"#fb9f3a\"],[0.8888888888888888,\"#fdca26\"],[1.0,\"#f0f921\"]]}],\"heatmapgl\":[{\"type\":\"heatmapgl\",\"colorbar\":{\"outlinewidth\":0,\"ticks\":\"\"},\"colorscale\":[[0.0,\"#0d0887\"],[0.1111111111111111,\"#46039f\"],[0.2222222222222222,\"#7201a8\"],[0.3333333333333333,\"#9c179e\"],[0.4444444444444444,\"#bd3786\"],[0.5555555555555556,\"#d8576b\"],[0.6666666666666666,\"#ed7953\"],[0.7777777777777778,\"#fb9f3a\"],[0.8888888888888888,\"#fdca26\"],[1.0,\"#f0f921\"]]}],\"contourcarpet\":[{\"type\":\"contourcarpet\",\"colorbar\":{\"outlinewidth\":0,\"ticks\":\"\"}}],\"contour\":[{\"type\":\"contour\",\"colorbar\":{\"outlinewidth\":0,\"ticks\":\"\"},\"colorscale\":[[0.0,\"#0d0887\"],[0.1111111111111111,\"#46039f\"],[0.2222222222222222,\"#7201a8\"],[0.3333333333333333,\"#9c179e\"],[0.4444444444444444,\"#bd3786\"],[0.5555555555555556,\"#d8576b\"],[0.6666666666666666,\"#ed7953\"],[0.7777777777777778,\"#fb9f3a\"],[0.8888888888888888,\"#fdca26\"],[1.0,\"#f0f921\"]]}],\"surface\":[{\"type\":\"surface\",\"colorbar\":{\"outlinewidth\":0,\"ticks\":\"\"},\"colorscale\":[[0.0,\"#0d0887\"],[0.1111111111111111,\"#46039f\"],[0.2222222222222222,\"#7201a8\"],[0.3333333333333333,\"#9c179e\"],[0.4444444444444444,\"#bd3786\"],[0.5555555555555556,\"#d8576b\"],[0.6666666666666666,\"#ed7953\"],[0.7777777777777778,\"#fb9f3a\"],[0.8888888888888888,\"#fdca26\"],[1.0,\"#f0f921\"]]}],\"mesh3d\":[{\"type\":\"mesh3d\",\"colorbar\":{\"outlinewidth\":0,\"ticks\":\"\"}}],\"scatter\":[{\"fillpattern\":{\"fillmode\":\"overlay\",\"size\":10,\"solidity\":0.2},\"type\":\"scatter\"}],\"parcoords\":[{\"type\":\"parcoords\",\"line\":{\"colorbar\":{\"outlinewidth\":0,\"ticks\":\"\"}}}],\"scatterpolargl\":[{\"type\":\"scatterpolargl\",\"marker\":{\"colorbar\":{\"outlinewidth\":0,\"ticks\":\"\"}}}],\"bar\":[{\"error_x\":{\"color\":\"#2a3f5f\"},\"error_y\":{\"color\":\"#2a3f5f\"},\"marker\":{\"line\":{\"color\":\"#E5ECF6\",\"width\":0.5},\"pattern\":{\"fillmode\":\"overlay\",\"size\":10,\"solidity\":0.2}},\"type\":\"bar\"}],\"scattergeo\":[{\"type\":\"scattergeo\",\"marker\":{\"colorbar\":{\"outlinewidth\":0,\"ticks\":\"\"}}}],\"scatterpolar\":[{\"type\":\"scatterpolar\",\"marker\":{\"colorbar\":{\"outlinewidth\":0,\"ticks\":\"\"}}}],\"histogram\":[{\"marker\":{\"pattern\":{\"fillmode\":\"overlay\",\"size\":10,\"solidity\":0.2}},\"type\":\"histogram\"}],\"scattergl\":[{\"type\":\"scattergl\",\"marker\":{\"colorbar\":{\"outlinewidth\":0,\"ticks\":\"\"}}}],\"scatter3d\":[{\"type\":\"scatter3d\",\"line\":{\"colorbar\":{\"outlinewidth\":0,\"ticks\":\"\"}},\"marker\":{\"colorbar\":{\"outlinewidth\":0,\"ticks\":\"\"}}}],\"scattermapbox\":[{\"type\":\"scattermapbox\",\"marker\":{\"colorbar\":{\"outlinewidth\":0,\"ticks\":\"\"}}}],\"scatterternary\":[{\"type\":\"scatterternary\",\"marker\":{\"colorbar\":{\"outlinewidth\":0,\"ticks\":\"\"}}}],\"scattercarpet\":[{\"type\":\"scattercarpet\",\"marker\":{\"colorbar\":{\"outlinewidth\":0,\"ticks\":\"\"}}}],\"carpet\":[{\"aaxis\":{\"endlinecolor\":\"#2a3f5f\",\"gridcolor\":\"white\",\"linecolor\":\"white\",\"minorgridcolor\":\"white\",\"startlinecolor\":\"#2a3f5f\"},\"baxis\":{\"endlinecolor\":\"#2a3f5f\",\"gridcolor\":\"white\",\"linecolor\":\"white\",\"minorgridcolor\":\"white\",\"startlinecolor\":\"#2a3f5f\"},\"type\":\"carpet\"}],\"table\":[{\"cells\":{\"fill\":{\"color\":\"#EBF0F8\"},\"line\":{\"color\":\"white\"}},\"header\":{\"fill\":{\"color\":\"#C8D4E3\"},\"line\":{\"color\":\"white\"}},\"type\":\"table\"}],\"barpolar\":[{\"marker\":{\"line\":{\"color\":\"#E5ECF6\",\"width\":0.5},\"pattern\":{\"fillmode\":\"overlay\",\"size\":10,\"solidity\":0.2}},\"type\":\"barpolar\"}],\"pie\":[{\"automargin\":true,\"type\":\"pie\"}]},\"layout\":{\"autotypenumbers\":\"strict\",\"colorway\":[\"#636efa\",\"#EF553B\",\"#00cc96\",\"#ab63fa\",\"#FFA15A\",\"#19d3f3\",\"#FF6692\",\"#B6E880\",\"#FF97FF\",\"#FECB52\"],\"font\":{\"color\":\"#2a3f5f\"},\"hovermode\":\"closest\",\"hoverlabel\":{\"align\":\"left\"},\"paper_bgcolor\":\"white\",\"plot_bgcolor\":\"#E5ECF6\",\"polar\":{\"bgcolor\":\"#E5ECF6\",\"angularaxis\":{\"gridcolor\":\"white\",\"linecolor\":\"white\",\"ticks\":\"\"},\"radialaxis\":{\"gridcolor\":\"white\",\"linecolor\":\"white\",\"ticks\":\"\"}},\"ternary\":{\"bgcolor\":\"#E5ECF6\",\"aaxis\":{\"gridcolor\":\"white\",\"linecolor\":\"white\",\"ticks\":\"\"},\"baxis\":{\"gridcolor\":\"white\",\"linecolor\":\"white\",\"ticks\":\"\"},\"caxis\":{\"gridcolor\":\"white\",\"linecolor\":\"white\",\"ticks\":\"\"}},\"coloraxis\":{\"colorbar\":{\"outlinewidth\":0,\"ticks\":\"\"}},\"colorscale\":{\"sequential\":[[0.0,\"#0d0887\"],[0.1111111111111111,\"#46039f\"],[0.2222222222222222,\"#7201a8\"],[0.3333333333333333,\"#9c179e\"],[0.4444444444444444,\"#bd3786\"],[0.5555555555555556,\"#d8576b\"],[0.6666666666666666,\"#ed7953\"],[0.7777777777777778,\"#fb9f3a\"],[0.8888888888888888,\"#fdca26\"],[1.0,\"#f0f921\"]],\"sequentialminus\":[[0.0,\"#0d0887\"],[0.1111111111111111,\"#46039f\"],[0.2222222222222222,\"#7201a8\"],[0.3333333333333333,\"#9c179e\"],[0.4444444444444444,\"#bd3786\"],[0.5555555555555556,\"#d8576b\"],[0.6666666666666666,\"#ed7953\"],[0.7777777777777778,\"#fb9f3a\"],[0.8888888888888888,\"#fdca26\"],[1.0,\"#f0f921\"]],\"diverging\":[[0,\"#8e0152\"],[0.1,\"#c51b7d\"],[0.2,\"#de77ae\"],[0.3,\"#f1b6da\"],[0.4,\"#fde0ef\"],[0.5,\"#f7f7f7\"],[0.6,\"#e6f5d0\"],[0.7,\"#b8e186\"],[0.8,\"#7fbc41\"],[0.9,\"#4d9221\"],[1,\"#276419\"]]},\"xaxis\":{\"gridcolor\":\"white\",\"linecolor\":\"white\",\"ticks\":\"\",\"title\":{\"standoff\":15},\"zerolinecolor\":\"white\",\"automargin\":true,\"zerolinewidth\":2},\"yaxis\":{\"gridcolor\":\"white\",\"linecolor\":\"white\",\"ticks\":\"\",\"title\":{\"standoff\":15},\"zerolinecolor\":\"white\",\"automargin\":true,\"zerolinewidth\":2},\"scene\":{\"xaxis\":{\"backgroundcolor\":\"#E5ECF6\",\"gridcolor\":\"white\",\"linecolor\":\"white\",\"showbackground\":true,\"ticks\":\"\",\"zerolinecolor\":\"white\",\"gridwidth\":2},\"yaxis\":{\"backgroundcolor\":\"#E5ECF6\",\"gridcolor\":\"white\",\"linecolor\":\"white\",\"showbackground\":true,\"ticks\":\"\",\"zerolinecolor\":\"white\",\"gridwidth\":2},\"zaxis\":{\"backgroundcolor\":\"#E5ECF6\",\"gridcolor\":\"white\",\"linecolor\":\"white\",\"showbackground\":true,\"ticks\":\"\",\"zerolinecolor\":\"white\",\"gridwidth\":2}},\"shapedefaults\":{\"line\":{\"color\":\"#2a3f5f\"}},\"annotationdefaults\":{\"arrowcolor\":\"#2a3f5f\",\"arrowhead\":0,\"arrowwidth\":1},\"geo\":{\"bgcolor\":\"white\",\"landcolor\":\"#E5ECF6\",\"subunitcolor\":\"white\",\"showland\":true,\"showlakes\":true,\"lakecolor\":\"white\"},\"title\":{\"x\":0.05},\"mapbox\":{\"style\":\"light\"}}},\"xaxis\":{\"anchor\":\"y\",\"domain\":[0.0,0.45]},\"yaxis\":{\"anchor\":\"x\",\"domain\":[0.7777777777777778,1.0]},\"xaxis2\":{\"anchor\":\"y2\",\"domain\":[0.55,1.0]},\"yaxis2\":{\"anchor\":\"x2\",\"domain\":[0.7777777777777778,1.0]},\"xaxis3\":{\"anchor\":\"y3\",\"domain\":[0.0,0.45]},\"yaxis3\":{\"anchor\":\"x3\",\"domain\":[0.3888888888888889,0.6111111111111112]},\"xaxis4\":{\"anchor\":\"y4\",\"domain\":[0.55,1.0]},\"yaxis4\":{\"anchor\":\"x4\",\"domain\":[0.3888888888888889,0.6111111111111112]},\"xaxis5\":{\"anchor\":\"y5\",\"domain\":[0.0,0.45]},\"yaxis5\":{\"anchor\":\"x5\",\"domain\":[0.0,0.22222222222222224]},\"xaxis6\":{\"anchor\":\"y6\",\"domain\":[0.55,1.0]},\"yaxis6\":{\"anchor\":\"x6\",\"domain\":[0.0,0.22222222222222224]},\"annotations\":[{\"font\":{\"size\":16},\"showarrow\":false,\"text\":\"Mean Imputation\",\"x\":0.225,\"xanchor\":\"center\",\"xref\":\"paper\",\"y\":1.0,\"yanchor\":\"bottom\",\"yref\":\"paper\"},{\"font\":{\"size\":16},\"showarrow\":false,\"text\":\"Mode Imputation\",\"x\":0.775,\"xanchor\":\"center\",\"xref\":\"paper\",\"y\":1.0,\"yanchor\":\"bottom\",\"yref\":\"paper\"},{\"font\":{\"size\":16},\"showarrow\":false,\"text\":\"Linear Regression Imputation\",\"x\":0.225,\"xanchor\":\"center\",\"xref\":\"paper\",\"y\":0.6111111111111112,\"yanchor\":\"bottom\",\"yref\":\"paper\"},{\"font\":{\"size\":16},\"showarrow\":false,\"text\":\"Stochastic Regression Imputation\",\"x\":0.775,\"xanchor\":\"center\",\"xref\":\"paper\",\"y\":0.6111111111111112,\"yanchor\":\"bottom\",\"yref\":\"paper\"},{\"font\":{\"size\":16},\"showarrow\":false,\"text\":\"MICE Imputation\",\"x\":0.225,\"xanchor\":\"center\",\"xref\":\"paper\",\"y\":0.22222222222222224,\"yanchor\":\"bottom\",\"yref\":\"paper\"},{\"font\":{\"size\":16},\"showarrow\":false,\"text\":\"KNN Imputation\",\"x\":0.775,\"xanchor\":\"center\",\"xref\":\"paper\",\"y\":0.22222222222222224,\"yanchor\":\"bottom\",\"yref\":\"paper\"}],\"title\":{\"text\":\"Imputation Method Comparison: Penalties vs Finishing\"},\"height\":700,\"width\":900,\"showlegend\":false},                        {\"responsive\": true}                    ).then(function(){\n",
       "                            \n",
       "var gd = document.getElementById('f13250e4-5023-41f4-aa91-589fd59e8c17');\n",
       "var x = new MutationObserver(function (mutations, observer) {{\n",
       "        var display = window.getComputedStyle(gd).display;\n",
       "        if (!display || display === 'none') {{\n",
       "            console.log([gd, 'removed!']);\n",
       "            Plotly.purge(gd);\n",
       "            observer.disconnect();\n",
       "        }}\n",
       "}});\n",
       "\n",
       "// Listen for the removal of the full notebook cells\n",
       "var notebookContainer = gd.closest('#notebook-container');\n",
       "if (notebookContainer) {{\n",
       "    x.observe(notebookContainer, {childList: true});\n",
       "}}\n",
       "\n",
       "// Listen for the clearing of the current output cell\n",
       "var outputEl = gd.closest('.output');\n",
       "if (outputEl) {{\n",
       "    x.observe(outputEl, {childList: true});\n",
       "}}\n",
       "\n",
       "                        })                };                });            </script>        </div>"
      ]
     },
     "metadata": {},
     "output_type": "display_data"
    }
   ],
   "source": [
    "import numpy as np\n",
    "import plotly.subplots as sp\n",
    "import plotly.graph_objects as go\n",
    "\n",
    "# Function to create combined scatter plot with subplots and a variable number of data points\n",
    "def create_combined_scatter_plot(dfs, titles, num_points=100):\n",
    "    # Create subplots (3 rows and 2 columns)\n",
    "    fig = sp.make_subplots(rows=3, cols=2, subplot_titles=titles)\n",
    "\n",
    "    # Loop through each DataFrame and add a scatter plot\n",
    "    for i, (df, title) in enumerate(zip(dfs, titles)):\n",
    "        # Sample a specified number of points from the DataFrame\n",
    "        sample_df = df.sample(n=min(num_points, len(df)), random_state=42)\n",
    "\n",
    "        # Add scatter plot\n",
    "        fig.add_trace(\n",
    "            go.Scatter(x=sample_df['finishing'], y=sample_df['penalties'], mode='markers', name=title,\n",
    "                       marker=dict(size=10, opacity=0.7)),\n",
    "            row=(i // 2) + 1, col=(i % 2) + 1\n",
    "        )\n",
    "\n",
    "        # Add trendline using ordinary least squares (OLS)\n",
    "        trendline = np.polyfit(sample_df['finishing'], sample_df['penalties'], 1)\n",
    "        trendline_func = np.poly1d(trendline)\n",
    "        x_range = np.linspace(sample_df['finishing'].min(), sample_df['finishing'].max(), 100)\n",
    "        fig.add_trace(\n",
    "            go.Scatter(x=x_range, y=trendline_func(x_range), mode='lines', name='Trendline', line=dict(dash='dash')),\n",
    "            row=(i // 2) + 1, col=(i % 2) + 1\n",
    "        )\n",
    "\n",
    "    # Update layout\n",
    "    fig.update_layout(title_text=\"Imputation Method Comparison: Penalties vs Finishing\", \n",
    "                      height=700, width=900, showlegend=False)\n",
    "    fig.show()\n",
    "\n",
    "# Calculate the mean and mode for the 'penalties' column\n",
    "mean_value = df1['penalties'].mean()\n",
    "mode_value = df1['penalties'].mode()[0]  # Get the first mode if there are multiple\n",
    "\n",
    "# Mean Imputation\n",
    "df1_mean = df1.copy()\n",
    "df1_mean['penalties'] = df1_mean['penalties'].fillna(mean_value)\n",
    "\n",
    "# Mode Imputation\n",
    "df1_mode = df1.copy()\n",
    "df1_mode['penalties'] = df1_mode['penalties'].fillna(mode_value)\n",
    "\n",
    "# List of DataFrames and titles for each imputation method\n",
    "dfs = [\n",
    "    df1_mean[['finishing', 'penalties']],        # Include mean imputation\n",
    "    df1_mode[['finishing', 'penalties']],        # Include mode imputation\n",
    "    df1_linear[['finishing', 'penalties']],\n",
    "    df1_stochastic[['finishing', 'penalties']],\n",
    "    df1_mice[['finishing', 'penalties']],\n",
    "    df1_knn[['finishing', 'penalties']]\n",
    "    \n",
    "]\n",
    "\n",
    "titles = [\n",
    "     'Mean Imputation',          # Title for mean imputation\n",
    "    'Mode Imputation'  ,         # Title for mode imputation\n",
    "    'Linear Regression Imputation',\n",
    "    'Stochastic Regression Imputation',\n",
    "    'MICE Imputation',\n",
    "    'KNN Imputation'\n",
    "]\n",
    "\n",
    "# Create the combined scatter plot with a specified number of points\n",
    "num_points_to_plot = 80  # Change this value as needed\n",
    "create_combined_scatter_plot(dfs, titles, num_points=num_points_to_plot)\n"
   ]
  },
  {
   "cell_type": "markdown",
   "id": "1d5c96d2-4c95-4608-be48-c5a76cc82bda",
   "metadata": {},
   "source": [
    "#### At first glance, mean and mode imputations significantly distort the data. In contrast, linear and stochastic regression methods maintain the positive correlation essential for modeling, although they lack variance. MICE and KNN, however, strike a balance between variability and correlation.\n",
    "\n",
    "#### I prefer Stochastic Regression, as I believe it best reconstructs the missing data while preserving proper ranges of correlation and variance. This method effectively captures the underlying data structure, making it a more reliable choice for imputation."
   ]
  },
  {
   "cell_type": "code",
   "execution_count": 131,
   "id": "60e2e513-c22b-478c-8523-2062dd9b9db8",
   "metadata": {},
   "outputs": [
    {
     "data": {
      "image/png": "[encoded data removed]",
      "text/plain": [
       "<Figure size 1200x600 with 2 Axes>"
      ]
     },
     "metadata": {},
     "output_type": "display_data"
    }
   ],
   "source": [
    "import matplotlib.pyplot as plt\n",
    "\n",
    "# Set the bar width and positions\n",
    "bar_width = 0.25\n",
    "index = range(len(stats_df))\n",
    "\n",
    "# Create a figure and a set of subplots\n",
    "fig, ax1 = plt.subplots(figsize=(12, 6))\n",
    "\n",
    "# Create bar plots for Mean and Variance\n",
    "bars_mean = ax1.bar([i - bar_width for i in index], stats_df['Mean '], width=bar_width, label='Mean Penalties', color='b')\n",
    "bars_variance = ax1.bar(index, stats_df['Variance'], width=bar_width, label='Variance Penalties', color='g')\n",
    "\n",
    "# Set labels for the primary y-axis\n",
    "ax1.set_xlabel('Imputation Method')\n",
    "ax1.set_ylabel('Mean & Variance Penalties')\n",
    "ax1.set_title('Comparison of Penalties Statistics Across Imputation Methods')\n",
    "ax1.set_xticks(index)\n",
    "ax1.set_xticklabels(stats_df['Imputation Method'], rotation=45)\n",
    "\n",
    "# Create a secondary y-axis for correlation\n",
    "ax2 = ax1.twinx()  # Instantiate a second y-axis\n",
    "line_corr = ax2.plot(index, stats_df['Correlation with Finishing'], marker='o', color='r', label='Correlation with Finishing')\n",
    "\n",
    "# Set the label for the secondary y-axis\n",
    "ax2.set_ylabel('Correlation with Finishing')\n",
    "\n",
    "# Combine legends into the top right corner\n",
    "lines, labels = ax1.get_legend_handles_labels()  # Get legend for ax1\n",
    "lines2, labels2 = ax2.get_legend_handles_labels()  # Get legend for ax2\n",
    "ax1.legend(lines + lines2, labels + labels2, loc='upper right')  # Combine legends\n",
    "\n",
    "# Display the plot\n",
    "plt.tight_layout()\n",
    "plt.show()\n"
   ]
  },
  {
   "cell_type": "code",
   "execution_count": null,
   "id": "0c05bcbc-c6e2-4dd2-8116-cb3e1e4d0618",
   "metadata": {},
   "outputs": [],
   "source": []
  },
  {
   "cell_type": "markdown",
   "id": "81372bf3-4d2e-491d-9006-d8c0c013489f",
   "metadata": {},
   "source": [
    "# Class Imbalance : Left vs Right"
   ]
  },
  {
   "cell_type": "code",
   "execution_count": null,
   "id": "6ba78b39-ef2e-441a-a754-da0f5dfe0237",
   "metadata": {},
   "outputs": [],
   "source": []
  },
  {
   "cell_type": "code",
   "execution_count": 106,
   "id": "e9cb7a35-50a6-4f74-87bb-5691867a4d0f",
   "metadata": {},
   "outputs": [
    {
     "data": {
      "text/plain": [
       "Text(0.5, 1.0, 'Class Imbalance - foot column')"
      ]
     },
     "execution_count": 106,
     "metadata": {},
     "output_type": "execute_result"
    },
    {
     "data": {
      "image/png": "[encoded data removed]",
      "text/plain": [
       "<Figure size 640x480 with 1 Axes>"
      ]
     },
     "metadata": {},
     "output_type": "display_data"
    }
   ],
   "source": [
    "\n",
    "sns.barplot(df['foot'].value_counts())\n",
    "\n",
    "plt.title('Class Imbalance - foot column')"
   ]
  },
  {
   "cell_type": "code",
   "execution_count": 107,
   "id": "3038f70d-69a1-4b06-abec-836b542fc555",
   "metadata": {},
   "outputs": [],
   "source": [
    "numeric_columns = df.describe().columns.to_list()\n",
    "#numeric_columns.remove('penalties')"
   ]
  },
  {
   "cell_type": "code",
   "execution_count": 108,
   "id": "cf82ea26-ea53-4f70-b755-71cc08c2b600",
   "metadata": {},
   "outputs": [
    {
     "name": "stdout",
     "output_type": "stream",
     "text": [
      "\n",
      "Original class distribution:\n",
      "foot\n",
      "Right    1992\n",
      "Left      757\n",
      "Name: count, dtype: int64\n",
      "\n",
      "Class distribution after SMOTE:\n",
      "foot\n",
      "Right    1992\n",
      "Left     1992\n",
      "Name: count, dtype: int64\n"
     ]
    }
   ],
   "source": [
    "\n",
    "import pandas as pd\n",
    "import numpy as np\n",
    "import matplotlib.pyplot as plt\n",
    "import seaborn as sns\n",
    "from imblearn.over_sampling import SMOTE\n",
    "\n",
    "\n",
    "# separate features (X) and target (y)\n",
    "X = df[numeric_columns]\n",
    "y = df['foot']\n",
    "\n",
    "# display original class distribution\n",
    "print(\"\\nOriginal class distribution:\")\n",
    "print(y.value_counts())\n",
    "\n",
    "# apply SMOTE\n",
    "smote = SMOTE(random_state=42)\n",
    "X_resampled, y_resampled = smote.fit_resample(X, y)\n",
    "\n",
    "# display new class distribution\n",
    "print(\"\\nClass distribution after SMOTE:\")\n",
    "print(pd.Series(y_resampled).value_counts())"
   ]
  },
  {
   "cell_type": "code",
   "execution_count": 109,
   "id": "a4e2d1d4-2c79-41f2-b371-9ea0a28bece9",
   "metadata": {},
   "outputs": [
    {
     "data": {
      "text/html": [
       "<div>\n",
       "<style scoped>\n",
       "    .dataframe tbody tr th:only-of-type {\n",
       "        vertical-align: middle;\n",
       "    }\n",
       "\n",
       "    .dataframe tbody tr th {\n",
       "        vertical-align: top;\n",
       "    }\n",
       "\n",
       "    .dataframe thead th {\n",
       "        text-align: right;\n",
       "    }\n",
       "</style>\n",
       "<table border=\"1\" class=\"dataframe\">\n",
       "  <thead>\n",
       "    <tr style=\"text-align: right;\">\n",
       "      <th></th>\n",
       "      <th>foot</th>\n",
       "      <th>dribbling</th>\n",
       "      <th>balance</th>\n",
       "    </tr>\n",
       "  </thead>\n",
       "  <tbody>\n",
       "    <tr>\n",
       "      <th>0</th>\n",
       "      <td>Right</td>\n",
       "      <td>86</td>\n",
       "      <td>78</td>\n",
       "    </tr>\n",
       "    <tr>\n",
       "      <th>1</th>\n",
       "      <td>Left</td>\n",
       "      <td>79</td>\n",
       "      <td>72</td>\n",
       "    </tr>\n",
       "    <tr>\n",
       "      <th>2</th>\n",
       "      <td>Right</td>\n",
       "      <td>93</td>\n",
       "      <td>82</td>\n",
       "    </tr>\n",
       "    <tr>\n",
       "      <th>3</th>\n",
       "      <td>Left</td>\n",
       "      <td>13</td>\n",
       "      <td>45</td>\n",
       "    </tr>\n",
       "    <tr>\n",
       "      <th>4</th>\n",
       "      <td>Right</td>\n",
       "      <td>82</td>\n",
       "      <td>73</td>\n",
       "    </tr>\n",
       "  </tbody>\n",
       "</table>\n",
       "</div>"
      ],
      "text/plain": [
       "    foot  dribbling  balance\n",
       "0  Right         86       78\n",
       "1   Left         79       72\n",
       "2  Right         93       82\n",
       "3   Left         13       45\n",
       "4  Right         82       73"
      ]
     },
     "execution_count": 109,
     "metadata": {},
     "output_type": "execute_result"
    }
   ],
   "source": [
    "# Convert X_resampled and y_resampled into a DataFrame\n",
    "resampled_data = pd.DataFrame(X_resampled, columns=numeric_columns)\n",
    "\n",
    "# Add the 'foot' column back to the resampled data\n",
    "resampled_data['foot'] = y_resampled\n",
    "\n",
    "# Now 'resampled_data' is defined and you can use it\n",
    "resampled_data[['foot','dribbling','balance']].head()"
   ]
  },
  {
   "cell_type": "code",
   "execution_count": 110,
   "id": "5a62f0bd-8539-4ea2-b286-481d973ca416",
   "metadata": {},
   "outputs": [
    {
     "data": {
      "image/png": "[encoded data removed]",
      "text/plain": [
       "<Figure size 1500x1000 with 4 Axes>"
      ]
     },
     "metadata": {},
     "output_type": "display_data"
    }
   ],
   "source": [
    "fig, axs = plt.subplots(2, 2, figsize=(15, 10))\n",
    "\n",
    "# Scatter plot for \"Right\" foot before SMOTE\n",
    "sns.scatterplot(data=df[df['foot'] == 'Right'], x='dribbling', y='balance', ax=axs[0][0])\n",
    "axs[0][0].set_title('Before SMOTE: Right Foot')\n",
    "\n",
    "# Scatter plot for \"Right\" foot after SMOTE\n",
    "sns.scatterplot(data=resampled_data[resampled_data['foot'] == 'Right'], x='dribbling', y='balance', ax=axs[0][1])\n",
    "axs[0][1].set_title('After SMOTE: Right Foot')\n",
    "\n",
    "# Scatter plot for \"Left\" foot before SMOTE\n",
    "sns.scatterplot(data=df[df['foot'] == 'Left'], x='dribbling', y='balance', ax=axs[1][0])\n",
    "axs[1][0].set_title('Before SMOTE: Left Foot')\n",
    "\n",
    "# Scatter plot for \"Left\" foot after SMOTE\n",
    "sns.scatterplot(data=resampled_data[resampled_data['foot'] == 'Left'], x='dribbling', y='balance', ax=axs[1][1])\n",
    "axs[1][1].set_title('After SMOTE: Left Foot')\n",
    "\n",
    "# Adjust layout for better visualization\n",
    "plt.tight_layout()\n",
    "plt.show()\n"
   ]
  },
  {
   "cell_type": "markdown",
   "id": "4475450a-ffac-48e7-9a1c-5aef69add5aa",
   "metadata": {},
   "source": [
    "### as we can see, the right foot distibutions are the same - and left foot data is over-sampled using SMOTE. "
   ]
  }
 ],
 "metadata": {
  "kernelspec": {
   "display_name": "Python 3 (ipykernel)",
   "language": "python",
   "name": "python3"
  },
  "language_info": {
   "codemirror_mode": {
    "name": "ipython",
    "version": 3
   },
   "file_extension": ".py",
   "mimetype": "text/x-python",
   "name": "python",
   "nbconvert_exporter": "python",
   "pygments_lexer": "ipython3",
   "version": "3.12.4"
  }
 },
 "nbformat": 4,
 "nbformat_minor": 5
}
